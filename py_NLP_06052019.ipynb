{
  "nbformat": 4,
  "nbformat_minor": 0,
  "metadata": {
    "colab": {
      "name": "py-NLP-06052019.ipynb",
      "version": "0.3.2",
      "provenance": [],
      "collapsed_sections": [],
      "include_colab_link": true
    },
    "kernelspec": {
      "name": "python3",
      "display_name": "Python 3"
    }
  },
  "cells": [
    {
      "cell_type": "markdown",
      "metadata": {
        "id": "view-in-github",
        "colab_type": "text"
      },
      "source": [
        "<a href=\"https://colab.research.google.com/github/anshuls01/Paython-NLP/blob/master/py_NLP_06052019.ipynb\" target=\"_parent\"><img src=\"https://colab.research.google.com/assets/colab-badge.svg\" alt=\"Open In Colab\"/></a>"
      ]
    },
    {
      "cell_type": "code",
      "metadata": {
        "id": "aEVV7MZb1P4c",
        "colab_type": "code",
        "outputId": "faa46bb8-20a0-45df-99bc-7db8f919bffa",
        "colab": {
          "base_uri": "https://localhost:8080/",
          "height": 35
        }
      },
      "source": [
        "print(\"Hello World\")"
      ],
      "execution_count": 0,
      "outputs": [
        {
          "output_type": "stream",
          "text": [
            "Hello World\n"
          ],
          "name": "stdout"
        }
      ]
    },
    {
      "cell_type": "code",
      "metadata": {
        "id": "Kv7uTGV4290v",
        "colab_type": "code",
        "outputId": "69bfe147-9578-4c49-8525-daa2c932c86c",
        "colab": {
          "base_uri": "https://localhost:8080/",
          "height": 35
        }
      },
      "source": [
        "2+2"
      ],
      "execution_count": 0,
      "outputs": [
        {
          "output_type": "execute_result",
          "data": {
            "text/plain": [
              "4"
            ]
          },
          "metadata": {
            "tags": []
          },
          "execution_count": 2
        }
      ]
    },
    {
      "cell_type": "markdown",
      "metadata": {
        "id": "_efeL7ah7e_J",
        "colab_type": "text"
      },
      "source": [
        "# Print Add and Multiplication"
      ]
    },
    {
      "cell_type": "code",
      "metadata": {
        "id": "wkXe7M0D325Q",
        "colab_type": "code",
        "outputId": "74d7732d-d64b-4b64-844e-8135f5e9d3cd",
        "colab": {
          "base_uri": "https://localhost:8080/",
          "height": 228
        }
      },
      "source": [
        "L1=[2,4,6,8,10]\n",
        "L2=[1,3,5,7,9]\n",
        "for x in range(0,5):\n",
        "  print (L1[x] + L2[x])\n",
        "\n",
        "for x in range(0,5):\n",
        "  print (L1[x] * 2)\n",
        "\n",
        "print (L1 + L2)\n",
        "print (L1*2)"
      ],
      "execution_count": 0,
      "outputs": [
        {
          "output_type": "stream",
          "text": [
            "3\n",
            "7\n",
            "11\n",
            "15\n",
            "19\n",
            "4\n",
            "8\n",
            "12\n",
            "16\n",
            "20\n",
            "[2, 4, 6, 8, 10, 1, 3, 5, 7, 9]\n",
            "[2, 4, 6, 8, 10, 2, 4, 6, 8, 10]\n"
          ],
          "name": "stdout"
        }
      ]
    },
    {
      "cell_type": "code",
      "metadata": {
        "id": "aQa3NZKf7sEQ",
        "colab_type": "code",
        "outputId": "475796e4-c627-404c-8d2e-d947ca2c3f37",
        "colab": {
          "base_uri": "https://localhost:8080/",
          "height": 35
        }
      },
      "source": [
        "x = [1,2]\n",
        "type(x)\n"
      ],
      "execution_count": 0,
      "outputs": [
        {
          "output_type": "execute_result",
          "data": {
            "text/plain": [
              "list"
            ]
          },
          "metadata": {
            "tags": []
          },
          "execution_count": 7
        }
      ]
    },
    {
      "cell_type": "code",
      "metadata": {
        "id": "Yop9KwvS76ZK",
        "colab_type": "code",
        "outputId": "155498ca-ff44-4c9d-ab21-d39987451785",
        "colab": {
          "base_uri": "https://localhost:8080/",
          "height": 35
        }
      },
      "source": [
        "x={1,2}\n",
        "type(x)"
      ],
      "execution_count": 0,
      "outputs": [
        {
          "output_type": "execute_result",
          "data": {
            "text/plain": [
              "set"
            ]
          },
          "metadata": {
            "tags": []
          },
          "execution_count": 8
        }
      ]
    },
    {
      "cell_type": "code",
      "metadata": {
        "id": "ohaYavE7-Iva",
        "colab_type": "code",
        "outputId": "0b60b3ff-e804-4de5-8744-3924a055a099",
        "colab": {
          "base_uri": "https://localhost:8080/",
          "height": 123
        }
      },
      "source": [
        "angles=[0,30,60,90,120,150,180,210,240,270,300,330,360]\n",
        "angle = list(range(0,361,30))\n",
        "print (angle)\n",
        "i1= angle.index(90)\n",
        "print(i1)\n",
        "i2=angle.index(270)\n",
        "print(i2)\n",
        "i1_rev=len(angle) -1 -angle.index(90)\n",
        "print (i1_rev)\n",
        "i2_rev=len(angle) -1 -angle.index(270)\n",
        "print (i2_rev)\n",
        "print(angle[i1_rev:i2_rev - 1:-1])"
      ],
      "execution_count": 0,
      "outputs": [
        {
          "output_type": "stream",
          "text": [
            "[0, 30, 60, 90, 120, 150, 180, 210, 240, 270, 300, 330, 360]\n",
            "3\n",
            "9\n",
            "9\n",
            "3\n",
            "[270, 240, 210, 180, 150, 120, 90]\n"
          ],
          "name": "stdout"
        }
      ]
    },
    {
      "cell_type": "code",
      "metadata": {
        "id": "fd0Zp5aBAefY",
        "colab_type": "code",
        "outputId": "bce67835-4461-4fac-bca3-0ad8d0742c70",
        "colab": {
          "base_uri": "https://localhost:8080/",
          "height": 175
        }
      },
      "source": [
        "L1 =  [2,4,6,8,10]\n",
        "L2=L1\n",
        "print(L1)\n",
        "del(L2[3])\n",
        "# L2.remove(8)\n",
        "print (L2)\n",
        "print (L1)\n",
        "L1 = [2,4,6,8,10]\n",
        "L2 = L1.copy()\n",
        "del(L2[3])\n",
        "# L2.remove(8)\n",
        "print (L2)\n",
        "print (L1)\n",
        "print (L2,L1)\n",
        "L3 = L1[ : ]\n",
        "print(L3)\n",
        "del(L3[3])\n",
        "print(L3)\n",
        "print(L1)"
      ],
      "execution_count": 0,
      "outputs": [
        {
          "output_type": "stream",
          "text": [
            "[2, 4, 6, 8, 10]\n",
            "[2, 4, 6, 10]\n",
            "[2, 4, 6, 10]\n",
            "[2, 4, 6, 10]\n",
            "[2, 4, 6, 8, 10]\n",
            "[2, 4, 6, 10] [2, 4, 6, 8, 10]\n",
            "[2, 4, 6, 8, 10]\n",
            "[2, 4, 6, 10]\n",
            "[2, 4, 6, 8, 10]\n"
          ],
          "name": "stdout"
        }
      ]
    },
    {
      "cell_type": "markdown",
      "metadata": {
        "id": "4w7q98ygnFu8",
        "colab_type": "text"
      },
      "source": [
        "Installing Package"
      ]
    },
    {
      "cell_type": "code",
      "metadata": {
        "id": "MCHPCfLNe_1C",
        "colab_type": "code",
        "outputId": "d1dc8a7b-fcf5-4e76-c8ed-0f7666ec40ee",
        "colab": {
          "base_uri": "https://localhost:8080/",
          "height": 238
        }
      },
      "source": [
        "import numpy as np\n",
        "import tensorflow as tf\n",
        "\n",
        "tup = (1,2,3)\n",
        "print (tup)\n",
        "tup = tup + (4,)\n",
        "print (tup)\n",
        "del(tup[2])"
      ],
      "execution_count": 0,
      "outputs": [
        {
          "output_type": "stream",
          "text": [
            "(1, 2, 3)\n",
            "(1, 2, 3, 4)\n"
          ],
          "name": "stdout"
        },
        {
          "output_type": "error",
          "ename": "TypeError",
          "evalue": "ignored",
          "traceback": [
            "\u001b[0;31m---------------------------------------------------------------------------\u001b[0m",
            "\u001b[0;31mTypeError\u001b[0m                                 Traceback (most recent call last)",
            "\u001b[0;32m<ipython-input-51-4df3f3fe13b9>\u001b[0m in \u001b[0;36m<module>\u001b[0;34m()\u001b[0m\n\u001b[1;32m      6\u001b[0m \u001b[0mtup\u001b[0m \u001b[0;34m=\u001b[0m \u001b[0mtup\u001b[0m \u001b[0;34m+\u001b[0m \u001b[0;34m(\u001b[0m\u001b[0;36m4\u001b[0m\u001b[0;34m,\u001b[0m\u001b[0;34m)\u001b[0m\u001b[0;34m\u001b[0m\u001b[0;34m\u001b[0m\u001b[0m\n\u001b[1;32m      7\u001b[0m \u001b[0mprint\u001b[0m \u001b[0;34m(\u001b[0m\u001b[0mtup\u001b[0m\u001b[0;34m)\u001b[0m\u001b[0;34m\u001b[0m\u001b[0;34m\u001b[0m\u001b[0m\n\u001b[0;32m----> 8\u001b[0;31m \u001b[0;32mdel\u001b[0m\u001b[0;34m(\u001b[0m\u001b[0mtup\u001b[0m\u001b[0;34m[\u001b[0m\u001b[0;36m2\u001b[0m\u001b[0;34m]\u001b[0m\u001b[0;34m)\u001b[0m\u001b[0;34m\u001b[0m\u001b[0;34m\u001b[0m\u001b[0m\n\u001b[0m",
            "\u001b[0;31mTypeError\u001b[0m: 'tuple' object doesn't support item deletion"
          ]
        }
      ]
    },
    {
      "cell_type": "markdown",
      "metadata": {
        "id": "Ajc5IBNgw57B",
        "colab_type": "text"
      },
      "source": [
        "Dictionaries"
      ]
    },
    {
      "cell_type": "code",
      "metadata": {
        "id": "1KM2g9-4pEMu",
        "colab_type": "code",
        "outputId": "57bc49ba-1aea-4323-8552-b7339729e7df",
        "colab": {
          "base_uri": "https://localhost:8080/",
          "height": 70
        }
      },
      "source": [
        "states={'AP':[1234,'Hyd',False],'Arunachal':[5678,'Itanagar',True],'Bihar':[124434,'Patna',True]}\n",
        "print (states)\n",
        "print(states['Bihar'])\n",
        "\n",
        "\n",
        "states['Telangana'] = [891011,'XYZ',True]\n",
        "print (states)"
      ],
      "execution_count": 0,
      "outputs": [
        {
          "output_type": "stream",
          "text": [
            "{'AP': [1234, 'Hyd', False], 'Arunachal': [5678, 'Itanagar', True], 'Bihar': [124434, 'Patna', True]}\n",
            "[124434, 'Patna', True]\n",
            "{'AP': [1234, 'Hyd', False], 'Arunachal': [5678, 'Itanagar', True], 'Bihar': [124434, 'Patna', True], 'Telangana': [891011, 'XYZ', True]}\n"
          ],
          "name": "stdout"
        }
      ]
    },
    {
      "cell_type": "code",
      "metadata": {
        "id": "CnCPQXWeyfaO",
        "colab_type": "code",
        "outputId": "13e2015b-1c35-4e91-d7c0-a3a43a93ee92",
        "colab": {
          "base_uri": "https://localhost:8080/",
          "height": 35
        }
      },
      "source": [
        "print (x==1)"
      ],
      "execution_count": 0,
      "outputs": [
        {
          "output_type": "stream",
          "text": [
            "False\n"
          ],
          "name": "stdout"
        }
      ]
    },
    {
      "cell_type": "markdown",
      "metadata": {
        "id": "zSrb6i7a9nR1",
        "colab_type": "text"
      },
      "source": [
        "Functions and Lambda"
      ]
    },
    {
      "cell_type": "code",
      "metadata": {
        "id": "z41b7LpHyjFt",
        "colab_type": "code",
        "outputId": "1431d674-56e8-4e2a-ca2c-509b1e9b550f",
        "colab": {
          "base_uri": "https://localhost:8080/",
          "height": 52
        }
      },
      "source": [
        "import numpy as np\n",
        "def deg_rad(angle):\n",
        "  pi = 3.14\n",
        "  return np.round(angle*pi/180)\n",
        "\n",
        "print(deg_rad(360))\n",
        "\n",
        "deg_rad_inline=lambda angle,rotate:angle/360*22/7+rotate\n",
        "deg_rad_inline(30,deg_rad(90))"
      ],
      "execution_count": 0,
      "outputs": [
        {
          "output_type": "stream",
          "text": [
            "6.0\n",
            "2.261904761904762\n"
          ],
          "name": "stdout"
        }
      ]
    },
    {
      "cell_type": "markdown",
      "metadata": {
        "id": "CTn18XedhTGS",
        "colab_type": "text"
      },
      "source": [
        "Loops"
      ]
    },
    {
      "cell_type": "code",
      "metadata": {
        "id": "3DezzdzM_6rO",
        "colab_type": "code",
        "outputId": "b14ea352-04a9-4f48-d578-bdb158b0eca4",
        "colab": {
          "base_uri": "https://localhost:8080/",
          "height": 52
        }
      },
      "source": [
        "import numpy as np\n",
        "rad_angles = []\n",
        "q2_angles=[]\n",
        "for a in [30,60,90]:\n",
        "  pi = 3.14\n",
        "  rad_angles.append(a*pi/180)\n",
        "  q2_angles.append(a+90)\n",
        "  \n",
        "print (rad_angles)\n",
        "print (q2_angles)"
      ],
      "execution_count": 0,
      "outputs": [
        {
          "output_type": "stream",
          "text": [
            "[0.5233333333333333, 1.0466666666666666, 1.57]\n",
            "[120, 150, 180]\n"
          ],
          "name": "stdout"
        }
      ]
    },
    {
      "cell_type": "code",
      "metadata": {
        "id": "4b-AWqNehtBy",
        "colab_type": "code",
        "outputId": "1aafddc1-8998-43cc-96c4-c4a02e17e102",
        "colab": {
          "base_uri": "https://localhost:8080/",
          "height": 35
        }
      },
      "source": [
        "planets = ['Mercury', 'Venus', 'Earth', 'Mars', 'Jupiter', 'Saturn', 'Uranus', 'Neptune']\n",
        "for planet in planets:\n",
        "  print(planet,end =' ')\n",
        "  \n",
        "short_planet = [planet for planet in planets if len(planet)<6]\n",
        "print (short_planet,end=' ')\n",
        "loud_short_Planet = [planet.upper() + \"!\" for planet in planets if len(planet)<6]\n",
        "print (loud_short_Planet)"
      ],
      "execution_count": 0,
      "outputs": [
        {
          "output_type": "stream",
          "text": [
            "Mercury Venus Earth Mars Jupiter Saturn Uranus Neptune ['Venus', 'Earth', 'Mars'] ['VENUS!', 'EARTH!', 'MARS!']\n"
          ],
          "name": "stdout"
        }
      ]
    },
    {
      "cell_type": "code",
      "metadata": {
        "id": "gDHbllhDjqt_",
        "colab_type": "code",
        "outputId": "14121707-397b-4006-d873-d87769542791",
        "colab": {
          "base_uri": "https://localhost:8080/",
          "height": 140
        }
      },
      "source": [
        "import numpy as np\n",
        "a = np.array([1,2,3])\n",
        "b = np.array([[1,2,3],[4,5,6]])\n",
        "e = np.array([(0,0,0),[1,2,3],(0,0,0)])\n",
        "c = np.zeros([3,4])\n",
        "d = np.eye(3)\n",
        "print(a)\n",
        "print(b)\n",
        "# print (e)\n",
        "# print (c)\n",
        "# print (d)\n",
        "\n",
        "print (a.shape)\n",
        "print (b.shape)\n",
        "print (len(a))\n",
        "print (len(b))\n",
        "# print (b.size)\n",
        "# print (b.dtype)\n",
        "# b = b.astype(int)\n",
        "# b.dtype"
      ],
      "execution_count": 0,
      "outputs": [
        {
          "output_type": "stream",
          "text": [
            "[1 2 3]\n",
            "[[1 2 3]\n",
            " [4 5 6]]\n",
            "(3,)\n",
            "(2, 3)\n",
            "3\n",
            "2\n"
          ],
          "name": "stdout"
        }
      ]
    },
    {
      "cell_type": "code",
      "metadata": {
        "id": "j27WujqbpCMK",
        "colab_type": "code",
        "outputId": "335706e1-e95a-4d37-e1b5-eea43508d760",
        "colab": {
          "base_uri": "https://localhost:8080/",
          "height": 791
        }
      },
      "source": [
        "from sklearn import datasets\n",
        "iris = datasets.load_iris();\n",
        "# print (iris)\n",
        "\n",
        "x = iris.data\n",
        "print(x.shape)\n",
        "print (x.size)\n",
        "print (x.ndim)\n",
        "\n",
        "Xsub = x[100:140,2:4]\n",
        "print (Xsub)\n",
        "print (Xsub.shape)\n",
        "# print (x[139:140])\n",
        "# print (len(y))"
      ],
      "execution_count": 0,
      "outputs": [
        {
          "output_type": "stream",
          "text": [
            "(150, 4)\n",
            "600\n",
            "2\n",
            "[[6.  2.5]\n",
            " [5.1 1.9]\n",
            " [5.9 2.1]\n",
            " [5.6 1.8]\n",
            " [5.8 2.2]\n",
            " [6.6 2.1]\n",
            " [4.5 1.7]\n",
            " [6.3 1.8]\n",
            " [5.8 1.8]\n",
            " [6.1 2.5]\n",
            " [5.1 2. ]\n",
            " [5.3 1.9]\n",
            " [5.5 2.1]\n",
            " [5.  2. ]\n",
            " [5.1 2.4]\n",
            " [5.3 2.3]\n",
            " [5.5 1.8]\n",
            " [6.7 2.2]\n",
            " [6.9 2.3]\n",
            " [5.  1.5]\n",
            " [5.7 2.3]\n",
            " [4.9 2. ]\n",
            " [6.7 2. ]\n",
            " [4.9 1.8]\n",
            " [5.7 2.1]\n",
            " [6.  1.8]\n",
            " [4.8 1.8]\n",
            " [4.9 1.8]\n",
            " [5.6 2.1]\n",
            " [5.8 1.6]\n",
            " [6.1 1.9]\n",
            " [6.4 2. ]\n",
            " [5.6 2.2]\n",
            " [5.1 1.5]\n",
            " [5.6 1.4]\n",
            " [6.1 2.3]\n",
            " [5.6 2.4]\n",
            " [5.5 1.8]\n",
            " [4.8 1.8]\n",
            " [5.4 2.1]]\n",
            "(40, 2)\n"
          ],
          "name": "stdout"
        }
      ]
    },
    {
      "cell_type": "markdown",
      "metadata": {
        "id": "0MKv7rq52iE6",
        "colab_type": "text"
      },
      "source": [
        "Pandas"
      ]
    },
    {
      "cell_type": "markdown",
      "metadata": {
        "id": "5ZPEpqLb4f_t",
        "colab_type": "text"
      },
      "source": [
        "upload file"
      ]
    },
    {
      "cell_type": "code",
      "metadata": {
        "id": "k7y0POSg4jZ0",
        "colab_type": "code",
        "outputId": "537e604d-a7e6-492e-dcf1-fea78b31f060",
        "colab": {
          "resources": {
            "http://localhost:8080/nbextensions/google.colab/files.js": {
              "data": "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",
              "ok": true,
              "headers": [
                [
                  "content-type",
                  "application/javascript"
                ]
              ],
              "status": 200,
              "status_text": ""
            }
          },
          "base_uri": "https://localhost:8080/",
          "height": 75
        }
      },
      "source": [
        "from google.colab import files\n",
        "uploaded = files.upload()"
      ],
      "execution_count": 0,
      "outputs": [
        {
          "output_type": "display_data",
          "data": {
            "text/html": [
              "\n",
              "     <input type=\"file\" id=\"files-55bf3fe5-edd0-4eef-b944-10530c7b761d\" name=\"files[]\" multiple disabled />\n",
              "     <output id=\"result-55bf3fe5-edd0-4eef-b944-10530c7b761d\">\n",
              "      Upload widget is only available when the cell has been executed in the\n",
              "      current browser session. Please rerun this cell to enable.\n",
              "      </output>\n",
              "      <script src=\"/nbextensions/google.colab/files.js\"></script> "
            ],
            "text/plain": [
              "<IPython.core.display.HTML object>"
            ]
          },
          "metadata": {
            "tags": []
          }
        },
        {
          "output_type": "stream",
          "text": [
            "Saving matches.csv to matches (1).csv\n"
          ],
          "name": "stdout"
        }
      ]
    },
    {
      "cell_type": "code",
      "metadata": {
        "id": "QJuGMr5_t87x",
        "colab_type": "code",
        "outputId": "173b5444-9db9-4aed-8efb-b410eb70cb83",
        "colab": {
          "base_uri": "https://localhost:8080/",
          "height": 553
        }
      },
      "source": [
        "import pandas as pd\n",
        "df = pd.read_csv('matches.csv')\n",
        "print(df.shape)\n",
        "print(df.columns)\n",
        "print (list(df.index)[:10])\n",
        "df.head()"
      ],
      "execution_count": 0,
      "outputs": [
        {
          "output_type": "stream",
          "text": [
            "(577, 18)\n",
            "Index(['id', 'season', 'city', 'date', 'team1', 'team2', 'toss_winner',\n",
            "       'toss_decision', 'result', 'dl_applied', 'winner', 'win_by_runs',\n",
            "       'win_by_wickets', 'player_of_match', 'venue', 'umpire1', 'umpire2',\n",
            "       'umpire3'],\n",
            "      dtype='object')\n",
            "[0, 1, 2, 3, 4, 5, 6, 7, 8, 9]\n",
            "[0, 1, 2, 3, 4, 5, 6, 7, 8, 9, 10, 11, 12, 13, 14, 15, 16, 17, 18, 19, 20, 21, 22, 23, 24, 25, 26, 27, 28, 29, 30, 31, 32, 33, 34, 35, 36, 37, 38, 39, 40, 41, 42, 43, 44, 45, 46, 47, 48, 49, 50, 51, 52, 53, 54, 55, 56, 57, 58, 59, 60, 61, 62, 63, 64, 65, 66, 67, 68, 69, 70, 71, 72, 73, 74, 75, 76, 77, 78, 79, 80, 81, 82, 83, 84, 85, 86, 87, 88, 89, 90, 91, 92, 93, 94, 95, 96, 97, 98, 99, 100, 101, 102, 103, 104, 105, 106, 107, 108, 109, 110, 111, 112, 113, 114, 115, 116, 117, 118, 119, 120, 121, 122, 123, 124, 125, 126, 127, 128, 129, 130, 131, 132, 133, 134, 135, 136, 137, 138, 139, 140, 141, 142, 143, 144, 145, 146, 147, 148, 149, 150, 151, 152, 153, 154, 155, 156, 157, 158, 159, 160, 161, 162, 163, 164, 165, 166, 167, 168, 169, 170, 171, 172, 173, 174, 175, 176, 177, 178, 179, 180, 181, 182, 183, 184, 185, 186, 187, 188, 189, 190, 191, 192, 193, 194, 195, 196, 197, 198, 199, 200, 201, 202, 203, 204, 205, 206, 207, 208, 209, 210, 211, 212, 213, 214, 215, 216, 217, 218, 219, 220, 221, 222, 223, 224, 225, 226, 227, 228, 229, 230, 231, 232, 233, 234, 235, 236, 237, 238, 239, 240, 241, 242, 243, 244, 245, 246, 247, 248, 249, 250, 251, 252, 253, 254, 255, 256, 257, 258, 259, 260, 261, 262, 263, 264, 265, 266, 267, 268, 269, 270, 271, 272, 273, 274, 275, 276, 277, 278, 279, 280, 281, 282, 283, 284, 285, 286, 287, 288, 289, 290, 291, 292, 293, 294, 295, 296, 297, 298, 299, 300, 301, 302, 303, 304, 305, 306, 307, 308, 309, 310, 311, 312, 313, 314, 315, 316, 317, 318, 319, 320, 321, 322, 323, 324, 325, 326, 327, 328, 329, 330, 331, 332, 333, 334, 335, 336, 337, 338, 339, 340, 341, 342, 343, 344, 345, 346, 347, 348, 349, 350, 351, 352, 353, 354, 355, 356, 357, 358, 359, 360, 361, 362, 363, 364, 365, 366, 367, 368, 369, 370, 371, 372, 373, 374, 375, 376, 377, 378, 379, 380, 381, 382, 383, 384, 385, 386, 387, 388, 389, 390, 391, 392, 393, 394, 395, 396, 397, 398, 399, 400, 401, 402, 403, 404, 405, 406, 407, 408, 409, 410, 411, 412, 413, 414, 415, 416, 417, 418, 419, 420, 421, 422, 423, 424, 425, 426, 427, 428, 429, 430, 431, 432, 433, 434, 435, 436, 437, 438, 439, 440, 441, 442, 443, 444, 445, 446, 447, 448, 449, 450, 451, 452, 453, 454, 455, 456, 457, 458, 459, 460, 461, 462, 463, 464, 465, 466, 467, 468, 469, 470, 471, 472, 473, 474, 475, 476, 477, 478, 479, 480, 481, 482, 483, 484, 485, 486, 487, 488, 489, 490, 491, 492, 493, 494, 495, 496, 497, 498, 499, 500, 501, 502, 503, 504, 505, 506, 507, 508, 509, 510, 511, 512, 513, 514, 515, 516, 517, 518, 519, 520, 521, 522, 523, 524, 525, 526, 527, 528, 529, 530, 531, 532, 533, 534, 535, 536, 537, 538, 539, 540, 541, 542, 543, 544, 545, 546, 547, 548, 549, 550, 551, 552, 553, 554, 555, 556, 557, 558, 559, 560, 561, 562, 563, 564, 565, 566, 567, 568, 569, 570, 571, 572, 573, 574, 575, 576]\n"
          ],
          "name": "stdout"
        },
        {
          "output_type": "execute_result",
          "data": {
            "text/html": [
              "<div>\n",
              "<style scoped>\n",
              "    .dataframe tbody tr th:only-of-type {\n",
              "        vertical-align: middle;\n",
              "    }\n",
              "\n",
              "    .dataframe tbody tr th {\n",
              "        vertical-align: top;\n",
              "    }\n",
              "\n",
              "    .dataframe thead th {\n",
              "        text-align: right;\n",
              "    }\n",
              "</style>\n",
              "<table border=\"1\" class=\"dataframe\">\n",
              "  <thead>\n",
              "    <tr style=\"text-align: right;\">\n",
              "      <th></th>\n",
              "      <th>id</th>\n",
              "      <th>season</th>\n",
              "      <th>city</th>\n",
              "      <th>date</th>\n",
              "      <th>team1</th>\n",
              "      <th>team2</th>\n",
              "      <th>toss_winner</th>\n",
              "      <th>toss_decision</th>\n",
              "      <th>result</th>\n",
              "      <th>dl_applied</th>\n",
              "      <th>winner</th>\n",
              "      <th>win_by_runs</th>\n",
              "      <th>win_by_wickets</th>\n",
              "      <th>player_of_match</th>\n",
              "      <th>venue</th>\n",
              "      <th>umpire1</th>\n",
              "      <th>umpire2</th>\n",
              "      <th>umpire3</th>\n",
              "    </tr>\n",
              "  </thead>\n",
              "  <tbody>\n",
              "    <tr>\n",
              "      <th>0</th>\n",
              "      <td>1</td>\n",
              "      <td>2008</td>\n",
              "      <td>Bangalore</td>\n",
              "      <td>2008-04-18</td>\n",
              "      <td>Kolkata Knight Riders</td>\n",
              "      <td>Royal Challengers Bangalore</td>\n",
              "      <td>Royal Challengers Bangalore</td>\n",
              "      <td>field</td>\n",
              "      <td>normal</td>\n",
              "      <td>0</td>\n",
              "      <td>Kolkata Knight Riders</td>\n",
              "      <td>140</td>\n",
              "      <td>0</td>\n",
              "      <td>BB McCullum</td>\n",
              "      <td>M Chinnaswamy Stadium</td>\n",
              "      <td>Asad Rauf</td>\n",
              "      <td>RE Koertzen</td>\n",
              "      <td>NaN</td>\n",
              "    </tr>\n",
              "    <tr>\n",
              "      <th>1</th>\n",
              "      <td>2</td>\n",
              "      <td>2008</td>\n",
              "      <td>Chandigarh</td>\n",
              "      <td>2008-04-19</td>\n",
              "      <td>Chennai Super Kings</td>\n",
              "      <td>Kings XI Punjab</td>\n",
              "      <td>Chennai Super Kings</td>\n",
              "      <td>bat</td>\n",
              "      <td>normal</td>\n",
              "      <td>0</td>\n",
              "      <td>Chennai Super Kings</td>\n",
              "      <td>33</td>\n",
              "      <td>0</td>\n",
              "      <td>MEK Hussey</td>\n",
              "      <td>Punjab Cricket Association Stadium, Mohali</td>\n",
              "      <td>MR Benson</td>\n",
              "      <td>SL Shastri</td>\n",
              "      <td>NaN</td>\n",
              "    </tr>\n",
              "    <tr>\n",
              "      <th>2</th>\n",
              "      <td>3</td>\n",
              "      <td>2008</td>\n",
              "      <td>Delhi</td>\n",
              "      <td>2008-04-19</td>\n",
              "      <td>Rajasthan Royals</td>\n",
              "      <td>Delhi Daredevils</td>\n",
              "      <td>Rajasthan Royals</td>\n",
              "      <td>bat</td>\n",
              "      <td>normal</td>\n",
              "      <td>0</td>\n",
              "      <td>Delhi Daredevils</td>\n",
              "      <td>0</td>\n",
              "      <td>9</td>\n",
              "      <td>MF Maharoof</td>\n",
              "      <td>Feroz Shah Kotla</td>\n",
              "      <td>Aleem Dar</td>\n",
              "      <td>GA Pratapkumar</td>\n",
              "      <td>NaN</td>\n",
              "    </tr>\n",
              "    <tr>\n",
              "      <th>3</th>\n",
              "      <td>4</td>\n",
              "      <td>2008</td>\n",
              "      <td>Mumbai</td>\n",
              "      <td>2008-04-20</td>\n",
              "      <td>Mumbai Indians</td>\n",
              "      <td>Royal Challengers Bangalore</td>\n",
              "      <td>Mumbai Indians</td>\n",
              "      <td>bat</td>\n",
              "      <td>normal</td>\n",
              "      <td>0</td>\n",
              "      <td>Royal Challengers Bangalore</td>\n",
              "      <td>0</td>\n",
              "      <td>5</td>\n",
              "      <td>MV Boucher</td>\n",
              "      <td>Wankhede Stadium</td>\n",
              "      <td>SJ Davis</td>\n",
              "      <td>DJ Harper</td>\n",
              "      <td>NaN</td>\n",
              "    </tr>\n",
              "    <tr>\n",
              "      <th>4</th>\n",
              "      <td>5</td>\n",
              "      <td>2008</td>\n",
              "      <td>Kolkata</td>\n",
              "      <td>2008-04-20</td>\n",
              "      <td>Deccan Chargers</td>\n",
              "      <td>Kolkata Knight Riders</td>\n",
              "      <td>Deccan Chargers</td>\n",
              "      <td>bat</td>\n",
              "      <td>normal</td>\n",
              "      <td>0</td>\n",
              "      <td>Kolkata Knight Riders</td>\n",
              "      <td>0</td>\n",
              "      <td>5</td>\n",
              "      <td>DJ Hussey</td>\n",
              "      <td>Eden Gardens</td>\n",
              "      <td>BF Bowden</td>\n",
              "      <td>K Hariharan</td>\n",
              "      <td>NaN</td>\n",
              "    </tr>\n",
              "  </tbody>\n",
              "</table>\n",
              "</div>"
            ],
            "text/plain": [
              "   id  season        city        date                  team1  \\\n",
              "0   1    2008   Bangalore  2008-04-18  Kolkata Knight Riders   \n",
              "1   2    2008  Chandigarh  2008-04-19    Chennai Super Kings   \n",
              "2   3    2008       Delhi  2008-04-19       Rajasthan Royals   \n",
              "3   4    2008      Mumbai  2008-04-20         Mumbai Indians   \n",
              "4   5    2008     Kolkata  2008-04-20        Deccan Chargers   \n",
              "\n",
              "                         team2                  toss_winner toss_decision  \\\n",
              "0  Royal Challengers Bangalore  Royal Challengers Bangalore         field   \n",
              "1              Kings XI Punjab          Chennai Super Kings           bat   \n",
              "2             Delhi Daredevils             Rajasthan Royals           bat   \n",
              "3  Royal Challengers Bangalore               Mumbai Indians           bat   \n",
              "4        Kolkata Knight Riders              Deccan Chargers           bat   \n",
              "\n",
              "   result  dl_applied                       winner  win_by_runs  \\\n",
              "0  normal           0        Kolkata Knight Riders          140   \n",
              "1  normal           0          Chennai Super Kings           33   \n",
              "2  normal           0             Delhi Daredevils            0   \n",
              "3  normal           0  Royal Challengers Bangalore            0   \n",
              "4  normal           0        Kolkata Knight Riders            0   \n",
              "\n",
              "   win_by_wickets player_of_match                                       venue  \\\n",
              "0               0     BB McCullum                       M Chinnaswamy Stadium   \n",
              "1               0      MEK Hussey  Punjab Cricket Association Stadium, Mohali   \n",
              "2               9     MF Maharoof                            Feroz Shah Kotla   \n",
              "3               5      MV Boucher                            Wankhede Stadium   \n",
              "4               5       DJ Hussey                                Eden Gardens   \n",
              "\n",
              "     umpire1         umpire2  umpire3  \n",
              "0  Asad Rauf     RE Koertzen      NaN  \n",
              "1  MR Benson      SL Shastri      NaN  \n",
              "2  Aleem Dar  GA Pratapkumar      NaN  \n",
              "3   SJ Davis       DJ Harper      NaN  \n",
              "4  BF Bowden     K Hariharan      NaN  "
            ]
          },
          "metadata": {
            "tags": []
          },
          "execution_count": 75
        }
      ]
    },
    {
      "cell_type": "markdown",
      "metadata": {
        "id": "r6kqnmar-QeX",
        "colab_type": "text"
      },
      "source": [
        "Subsetting Dataframes"
      ]
    },
    {
      "cell_type": "code",
      "metadata": {
        "id": "kBYmb-PE378Q",
        "colab_type": "code",
        "outputId": "e604c7c7-3fa8-4da4-b917-5c9496f65e5f",
        "colab": {
          "base_uri": "https://localhost:8080/",
          "height": 35
        }
      },
      "source": [
        "df[df['city']=='Bangalore']\n",
        "df[df['city']=='Bangalore']['winner']\n",
        "df[df['season'].isin([2008,2015])]\n",
        "df[df['season'].isin([2008,2015])][['season','toss_winner']]\n",
        "df['winner'].value_counts()\n",
        "df['winner'].isnull().sum()"
      ],
      "execution_count": 0,
      "outputs": [
        {
          "output_type": "execute_result",
          "data": {
            "text/plain": [
              "3"
            ]
          },
          "metadata": {
            "tags": []
          },
          "execution_count": 85
        }
      ]
    },
    {
      "cell_type": "code",
      "metadata": {
        "id": "faz1-Mv1-cqE",
        "colab_type": "code",
        "outputId": "58a6dcda-23c3-4309-9cf6-3237121a71e9",
        "colab": {
          "base_uri": "https://localhost:8080/",
          "height": 824
        }
      },
      "source": [
        "df.iloc[0:10]"
      ],
      "execution_count": 0,
      "outputs": [
        {
          "output_type": "execute_result",
          "data": {
            "text/html": [
              "<div>\n",
              "<style scoped>\n",
              "    .dataframe tbody tr th:only-of-type {\n",
              "        vertical-align: middle;\n",
              "    }\n",
              "\n",
              "    .dataframe tbody tr th {\n",
              "        vertical-align: top;\n",
              "    }\n",
              "\n",
              "    .dataframe thead th {\n",
              "        text-align: right;\n",
              "    }\n",
              "</style>\n",
              "<table border=\"1\" class=\"dataframe\">\n",
              "  <thead>\n",
              "    <tr style=\"text-align: right;\">\n",
              "      <th></th>\n",
              "      <th>id</th>\n",
              "      <th>season</th>\n",
              "      <th>city</th>\n",
              "      <th>date</th>\n",
              "      <th>team1</th>\n",
              "      <th>team2</th>\n",
              "      <th>toss_winner</th>\n",
              "      <th>toss_decision</th>\n",
              "      <th>result</th>\n",
              "      <th>dl_applied</th>\n",
              "      <th>winner</th>\n",
              "      <th>win_by_runs</th>\n",
              "      <th>win_by_wickets</th>\n",
              "      <th>player_of_match</th>\n",
              "      <th>venue</th>\n",
              "      <th>umpire1</th>\n",
              "      <th>umpire2</th>\n",
              "      <th>umpire3</th>\n",
              "    </tr>\n",
              "  </thead>\n",
              "  <tbody>\n",
              "    <tr>\n",
              "      <th>0</th>\n",
              "      <td>1</td>\n",
              "      <td>2008</td>\n",
              "      <td>Bangalore</td>\n",
              "      <td>2008-04-18</td>\n",
              "      <td>Kolkata Knight Riders</td>\n",
              "      <td>Royal Challengers Bangalore</td>\n",
              "      <td>Royal Challengers Bangalore</td>\n",
              "      <td>field</td>\n",
              "      <td>normal</td>\n",
              "      <td>0</td>\n",
              "      <td>Kolkata Knight Riders</td>\n",
              "      <td>140</td>\n",
              "      <td>0</td>\n",
              "      <td>BB McCullum</td>\n",
              "      <td>M Chinnaswamy Stadium</td>\n",
              "      <td>Asad Rauf</td>\n",
              "      <td>RE Koertzen</td>\n",
              "      <td>NaN</td>\n",
              "    </tr>\n",
              "    <tr>\n",
              "      <th>1</th>\n",
              "      <td>2</td>\n",
              "      <td>2008</td>\n",
              "      <td>Chandigarh</td>\n",
              "      <td>2008-04-19</td>\n",
              "      <td>Chennai Super Kings</td>\n",
              "      <td>Kings XI Punjab</td>\n",
              "      <td>Chennai Super Kings</td>\n",
              "      <td>bat</td>\n",
              "      <td>normal</td>\n",
              "      <td>0</td>\n",
              "      <td>Chennai Super Kings</td>\n",
              "      <td>33</td>\n",
              "      <td>0</td>\n",
              "      <td>MEK Hussey</td>\n",
              "      <td>Punjab Cricket Association Stadium, Mohali</td>\n",
              "      <td>MR Benson</td>\n",
              "      <td>SL Shastri</td>\n",
              "      <td>NaN</td>\n",
              "    </tr>\n",
              "    <tr>\n",
              "      <th>2</th>\n",
              "      <td>3</td>\n",
              "      <td>2008</td>\n",
              "      <td>Delhi</td>\n",
              "      <td>2008-04-19</td>\n",
              "      <td>Rajasthan Royals</td>\n",
              "      <td>Delhi Daredevils</td>\n",
              "      <td>Rajasthan Royals</td>\n",
              "      <td>bat</td>\n",
              "      <td>normal</td>\n",
              "      <td>0</td>\n",
              "      <td>Delhi Daredevils</td>\n",
              "      <td>0</td>\n",
              "      <td>9</td>\n",
              "      <td>MF Maharoof</td>\n",
              "      <td>Feroz Shah Kotla</td>\n",
              "      <td>Aleem Dar</td>\n",
              "      <td>GA Pratapkumar</td>\n",
              "      <td>NaN</td>\n",
              "    </tr>\n",
              "    <tr>\n",
              "      <th>3</th>\n",
              "      <td>4</td>\n",
              "      <td>2008</td>\n",
              "      <td>Mumbai</td>\n",
              "      <td>2008-04-20</td>\n",
              "      <td>Mumbai Indians</td>\n",
              "      <td>Royal Challengers Bangalore</td>\n",
              "      <td>Mumbai Indians</td>\n",
              "      <td>bat</td>\n",
              "      <td>normal</td>\n",
              "      <td>0</td>\n",
              "      <td>Royal Challengers Bangalore</td>\n",
              "      <td>0</td>\n",
              "      <td>5</td>\n",
              "      <td>MV Boucher</td>\n",
              "      <td>Wankhede Stadium</td>\n",
              "      <td>SJ Davis</td>\n",
              "      <td>DJ Harper</td>\n",
              "      <td>NaN</td>\n",
              "    </tr>\n",
              "    <tr>\n",
              "      <th>4</th>\n",
              "      <td>5</td>\n",
              "      <td>2008</td>\n",
              "      <td>Kolkata</td>\n",
              "      <td>2008-04-20</td>\n",
              "      <td>Deccan Chargers</td>\n",
              "      <td>Kolkata Knight Riders</td>\n",
              "      <td>Deccan Chargers</td>\n",
              "      <td>bat</td>\n",
              "      <td>normal</td>\n",
              "      <td>0</td>\n",
              "      <td>Kolkata Knight Riders</td>\n",
              "      <td>0</td>\n",
              "      <td>5</td>\n",
              "      <td>DJ Hussey</td>\n",
              "      <td>Eden Gardens</td>\n",
              "      <td>BF Bowden</td>\n",
              "      <td>K Hariharan</td>\n",
              "      <td>NaN</td>\n",
              "    </tr>\n",
              "    <tr>\n",
              "      <th>5</th>\n",
              "      <td>6</td>\n",
              "      <td>2008</td>\n",
              "      <td>Jaipur</td>\n",
              "      <td>2008-04-21</td>\n",
              "      <td>Kings XI Punjab</td>\n",
              "      <td>Rajasthan Royals</td>\n",
              "      <td>Kings XI Punjab</td>\n",
              "      <td>bat</td>\n",
              "      <td>normal</td>\n",
              "      <td>0</td>\n",
              "      <td>Rajasthan Royals</td>\n",
              "      <td>0</td>\n",
              "      <td>6</td>\n",
              "      <td>SR Watson</td>\n",
              "      <td>Sawai Mansingh Stadium</td>\n",
              "      <td>Aleem Dar</td>\n",
              "      <td>RB Tiffin</td>\n",
              "      <td>NaN</td>\n",
              "    </tr>\n",
              "    <tr>\n",
              "      <th>6</th>\n",
              "      <td>7</td>\n",
              "      <td>2008</td>\n",
              "      <td>Hyderabad</td>\n",
              "      <td>2008-04-22</td>\n",
              "      <td>Deccan Chargers</td>\n",
              "      <td>Delhi Daredevils</td>\n",
              "      <td>Deccan Chargers</td>\n",
              "      <td>bat</td>\n",
              "      <td>normal</td>\n",
              "      <td>0</td>\n",
              "      <td>Delhi Daredevils</td>\n",
              "      <td>0</td>\n",
              "      <td>9</td>\n",
              "      <td>V Sehwag</td>\n",
              "      <td>Rajiv Gandhi International Stadium, Uppal</td>\n",
              "      <td>IL Howell</td>\n",
              "      <td>AM Saheba</td>\n",
              "      <td>NaN</td>\n",
              "    </tr>\n",
              "    <tr>\n",
              "      <th>7</th>\n",
              "      <td>8</td>\n",
              "      <td>2008</td>\n",
              "      <td>Chennai</td>\n",
              "      <td>2008-04-23</td>\n",
              "      <td>Chennai Super Kings</td>\n",
              "      <td>Mumbai Indians</td>\n",
              "      <td>Mumbai Indians</td>\n",
              "      <td>field</td>\n",
              "      <td>normal</td>\n",
              "      <td>0</td>\n",
              "      <td>Chennai Super Kings</td>\n",
              "      <td>6</td>\n",
              "      <td>0</td>\n",
              "      <td>ML Hayden</td>\n",
              "      <td>MA Chidambaram Stadium, Chepauk</td>\n",
              "      <td>DJ Harper</td>\n",
              "      <td>GA Pratapkumar</td>\n",
              "      <td>NaN</td>\n",
              "    </tr>\n",
              "    <tr>\n",
              "      <th>8</th>\n",
              "      <td>9</td>\n",
              "      <td>2008</td>\n",
              "      <td>Hyderabad</td>\n",
              "      <td>2008-04-24</td>\n",
              "      <td>Deccan Chargers</td>\n",
              "      <td>Rajasthan Royals</td>\n",
              "      <td>Rajasthan Royals</td>\n",
              "      <td>field</td>\n",
              "      <td>normal</td>\n",
              "      <td>0</td>\n",
              "      <td>Rajasthan Royals</td>\n",
              "      <td>0</td>\n",
              "      <td>3</td>\n",
              "      <td>YK Pathan</td>\n",
              "      <td>Rajiv Gandhi International Stadium, Uppal</td>\n",
              "      <td>Asad Rauf</td>\n",
              "      <td>MR Benson</td>\n",
              "      <td>NaN</td>\n",
              "    </tr>\n",
              "    <tr>\n",
              "      <th>9</th>\n",
              "      <td>10</td>\n",
              "      <td>2008</td>\n",
              "      <td>Chandigarh</td>\n",
              "      <td>2008-04-25</td>\n",
              "      <td>Kings XI Punjab</td>\n",
              "      <td>Mumbai Indians</td>\n",
              "      <td>Mumbai Indians</td>\n",
              "      <td>field</td>\n",
              "      <td>normal</td>\n",
              "      <td>0</td>\n",
              "      <td>Kings XI Punjab</td>\n",
              "      <td>66</td>\n",
              "      <td>0</td>\n",
              "      <td>KC Sangakkara</td>\n",
              "      <td>Punjab Cricket Association Stadium, Mohali</td>\n",
              "      <td>Aleem Dar</td>\n",
              "      <td>AM Saheba</td>\n",
              "      <td>NaN</td>\n",
              "    </tr>\n",
              "  </tbody>\n",
              "</table>\n",
              "</div>"
            ],
            "text/plain": [
              "   id  season        city        date                  team1  \\\n",
              "0   1    2008   Bangalore  2008-04-18  Kolkata Knight Riders   \n",
              "1   2    2008  Chandigarh  2008-04-19    Chennai Super Kings   \n",
              "2   3    2008       Delhi  2008-04-19       Rajasthan Royals   \n",
              "3   4    2008      Mumbai  2008-04-20         Mumbai Indians   \n",
              "4   5    2008     Kolkata  2008-04-20        Deccan Chargers   \n",
              "5   6    2008      Jaipur  2008-04-21        Kings XI Punjab   \n",
              "6   7    2008   Hyderabad  2008-04-22        Deccan Chargers   \n",
              "7   8    2008     Chennai  2008-04-23    Chennai Super Kings   \n",
              "8   9    2008   Hyderabad  2008-04-24        Deccan Chargers   \n",
              "9  10    2008  Chandigarh  2008-04-25        Kings XI Punjab   \n",
              "\n",
              "                         team2                  toss_winner toss_decision  \\\n",
              "0  Royal Challengers Bangalore  Royal Challengers Bangalore         field   \n",
              "1              Kings XI Punjab          Chennai Super Kings           bat   \n",
              "2             Delhi Daredevils             Rajasthan Royals           bat   \n",
              "3  Royal Challengers Bangalore               Mumbai Indians           bat   \n",
              "4        Kolkata Knight Riders              Deccan Chargers           bat   \n",
              "5             Rajasthan Royals              Kings XI Punjab           bat   \n",
              "6             Delhi Daredevils              Deccan Chargers           bat   \n",
              "7               Mumbai Indians               Mumbai Indians         field   \n",
              "8             Rajasthan Royals             Rajasthan Royals         field   \n",
              "9               Mumbai Indians               Mumbai Indians         field   \n",
              "\n",
              "   result  dl_applied                       winner  win_by_runs  \\\n",
              "0  normal           0        Kolkata Knight Riders          140   \n",
              "1  normal           0          Chennai Super Kings           33   \n",
              "2  normal           0             Delhi Daredevils            0   \n",
              "3  normal           0  Royal Challengers Bangalore            0   \n",
              "4  normal           0        Kolkata Knight Riders            0   \n",
              "5  normal           0             Rajasthan Royals            0   \n",
              "6  normal           0             Delhi Daredevils            0   \n",
              "7  normal           0          Chennai Super Kings            6   \n",
              "8  normal           0             Rajasthan Royals            0   \n",
              "9  normal           0              Kings XI Punjab           66   \n",
              "\n",
              "   win_by_wickets player_of_match                                       venue  \\\n",
              "0               0     BB McCullum                       M Chinnaswamy Stadium   \n",
              "1               0      MEK Hussey  Punjab Cricket Association Stadium, Mohali   \n",
              "2               9     MF Maharoof                            Feroz Shah Kotla   \n",
              "3               5      MV Boucher                            Wankhede Stadium   \n",
              "4               5       DJ Hussey                                Eden Gardens   \n",
              "5               6       SR Watson                      Sawai Mansingh Stadium   \n",
              "6               9        V Sehwag   Rajiv Gandhi International Stadium, Uppal   \n",
              "7               0       ML Hayden             MA Chidambaram Stadium, Chepauk   \n",
              "8               3       YK Pathan   Rajiv Gandhi International Stadium, Uppal   \n",
              "9               0   KC Sangakkara  Punjab Cricket Association Stadium, Mohali   \n",
              "\n",
              "     umpire1         umpire2  umpire3  \n",
              "0  Asad Rauf     RE Koertzen      NaN  \n",
              "1  MR Benson      SL Shastri      NaN  \n",
              "2  Aleem Dar  GA Pratapkumar      NaN  \n",
              "3   SJ Davis       DJ Harper      NaN  \n",
              "4  BF Bowden     K Hariharan      NaN  \n",
              "5  Aleem Dar       RB Tiffin      NaN  \n",
              "6  IL Howell       AM Saheba      NaN  \n",
              "7  DJ Harper  GA Pratapkumar      NaN  \n",
              "8  Asad Rauf       MR Benson      NaN  \n",
              "9  Aleem Dar       AM Saheba      NaN  "
            ]
          },
          "metadata": {
            "tags": []
          },
          "execution_count": 87
        }
      ]
    },
    {
      "cell_type": "code",
      "metadata": {
        "id": "8PzyhwqKCnv9",
        "colab_type": "code",
        "outputId": "274c636e-a064-40f4-9141-19967f56c0b1",
        "colab": {
          "base_uri": "https://localhost:8080/",
          "height": 351
        }
      },
      "source": [
        "df.reset_index(inplace=True)\n",
        "df.set_index('date',inplace=True)\n",
        "df.loc['2008-04-18']"
      ],
      "execution_count": 0,
      "outputs": [
        {
          "output_type": "execute_result",
          "data": {
            "text/plain": [
              "index                                        0\n",
              "id                                           1\n",
              "season                                    2008\n",
              "city                                 Bangalore\n",
              "team1                    Kolkata Knight Riders\n",
              "team2              Royal Challengers Bangalore\n",
              "toss_winner        Royal Challengers Bangalore\n",
              "toss_decision                            field\n",
              "result                                  normal\n",
              "dl_applied                                   0\n",
              "winner                   Kolkata Knight Riders\n",
              "win_by_runs                                140\n",
              "win_by_wickets                               0\n",
              "player_of_match                    BB McCullum\n",
              "venue                    M Chinnaswamy Stadium\n",
              "umpire1                              Asad Rauf\n",
              "umpire2                            RE Koertzen\n",
              "umpire3                                    NaN\n",
              "Name: 2008-04-18, dtype: object"
            ]
          },
          "metadata": {
            "tags": []
          },
          "execution_count": 95
        }
      ]
    },
    {
      "cell_type": "code",
      "metadata": {
        "id": "FW4FAIRfCz8I",
        "colab_type": "code",
        "outputId": "955de60a-1438-4cac-a3c0-a3826f06e1b6",
        "colab": {
          "base_uri": "https://localhost:8080/",
          "height": 351
        }
      },
      "source": [
        "df2 = df['winner']\n",
        "df['winner'].fillna('bfill')\n",
        "df.isnull().sum()\n",
        "# print(df2.columns)"
      ],
      "execution_count": 0,
      "outputs": [
        {
          "output_type": "execute_result",
          "data": {
            "text/plain": [
              "index                0\n",
              "id                   0\n",
              "season               0\n",
              "city                 7\n",
              "team1                0\n",
              "team2                0\n",
              "toss_winner          0\n",
              "toss_decision        0\n",
              "result               0\n",
              "dl_applied           0\n",
              "winner               3\n",
              "win_by_runs          0\n",
              "win_by_wickets       0\n",
              "player_of_match      3\n",
              "venue                0\n",
              "umpire1              0\n",
              "umpire2              0\n",
              "umpire3            577\n",
              "dtype: int64"
            ]
          },
          "metadata": {
            "tags": []
          },
          "execution_count": 106
        }
      ]
    },
    {
      "cell_type": "markdown",
      "metadata": {
        "id": "IwAU2m_QYN66",
        "colab_type": "text"
      },
      "source": [
        "Adding DataFrames"
      ]
    },
    {
      "cell_type": "code",
      "metadata": {
        "id": "BcJuQavpGpU_",
        "colab_type": "code",
        "outputId": "18541318-41db-417d-b59c-fe6cd4b76c6c",
        "colab": {
          "base_uri": "https://localhost:8080/",
          "height": 141
        }
      },
      "source": [
        "df1 = pd.DataFrame({'metal':['steel','AU','wood'],'YM':[100,300,200],'ductile':[True,True,False]},index=['m1', 'm2', 'm3'])\n",
        "df1\n"
      ],
      "execution_count": 0,
      "outputs": [
        {
          "output_type": "execute_result",
          "data": {
            "text/html": [
              "<div>\n",
              "<style scoped>\n",
              "    .dataframe tbody tr th:only-of-type {\n",
              "        vertical-align: middle;\n",
              "    }\n",
              "\n",
              "    .dataframe tbody tr th {\n",
              "        vertical-align: top;\n",
              "    }\n",
              "\n",
              "    .dataframe thead th {\n",
              "        text-align: right;\n",
              "    }\n",
              "</style>\n",
              "<table border=\"1\" class=\"dataframe\">\n",
              "  <thead>\n",
              "    <tr style=\"text-align: right;\">\n",
              "      <th></th>\n",
              "      <th>metal</th>\n",
              "      <th>YM</th>\n",
              "      <th>ductile</th>\n",
              "    </tr>\n",
              "  </thead>\n",
              "  <tbody>\n",
              "    <tr>\n",
              "      <th>m1</th>\n",
              "      <td>steel</td>\n",
              "      <td>100</td>\n",
              "      <td>True</td>\n",
              "    </tr>\n",
              "    <tr>\n",
              "      <th>m2</th>\n",
              "      <td>AU</td>\n",
              "      <td>300</td>\n",
              "      <td>True</td>\n",
              "    </tr>\n",
              "    <tr>\n",
              "      <th>m3</th>\n",
              "      <td>wood</td>\n",
              "      <td>200</td>\n",
              "      <td>False</td>\n",
              "    </tr>\n",
              "  </tbody>\n",
              "</table>\n",
              "</div>"
            ],
            "text/plain": [
              "    metal   YM  ductile\n",
              "m1  steel  100     True\n",
              "m2     AU  300     True\n",
              "m3   wood  200    False"
            ]
          },
          "metadata": {
            "tags": []
          },
          "execution_count": 120
        }
      ]
    },
    {
      "cell_type": "markdown",
      "metadata": {
        "id": "B25HzdIdZWLd",
        "colab_type": "text"
      },
      "source": [
        "Adding Droping rows/columns\n"
      ]
    },
    {
      "cell_type": "code",
      "metadata": {
        "id": "yrjPS89qYzB3",
        "colab_type": "code",
        "outputId": "085a3c6a-789f-4e50-866d-4c46b6c4bf0e",
        "colab": {
          "base_uri": "https://localhost:8080/",
          "height": 282
        }
      },
      "source": [
        "df1.ix[0:]"
      ],
      "execution_count": 0,
      "outputs": [
        {
          "output_type": "stream",
          "text": [
            "/usr/local/lib/python3.6/dist-packages/ipykernel_launcher.py:1: DeprecationWarning: \n",
            ".ix is deprecated. Please use\n",
            ".loc for label based indexing or\n",
            ".iloc for positional indexing\n",
            "\n",
            "See the documentation here:\n",
            "http://pandas.pydata.org/pandas-docs/stable/indexing.html#ix-indexer-is-deprecated\n",
            "  \"\"\"Entry point for launching an IPython kernel.\n"
          ],
          "name": "stderr"
        },
        {
          "output_type": "execute_result",
          "data": {
            "text/html": [
              "<div>\n",
              "<style scoped>\n",
              "    .dataframe tbody tr th:only-of-type {\n",
              "        vertical-align: middle;\n",
              "    }\n",
              "\n",
              "    .dataframe tbody tr th {\n",
              "        vertical-align: top;\n",
              "    }\n",
              "\n",
              "    .dataframe thead th {\n",
              "        text-align: right;\n",
              "    }\n",
              "</style>\n",
              "<table border=\"1\" class=\"dataframe\">\n",
              "  <thead>\n",
              "    <tr style=\"text-align: right;\">\n",
              "      <th></th>\n",
              "      <th>metal</th>\n",
              "      <th>YM</th>\n",
              "      <th>ductile</th>\n",
              "    </tr>\n",
              "  </thead>\n",
              "  <tbody>\n",
              "    <tr>\n",
              "      <th>m1</th>\n",
              "      <td>steel</td>\n",
              "      <td>100</td>\n",
              "      <td>True</td>\n",
              "    </tr>\n",
              "    <tr>\n",
              "      <th>m2</th>\n",
              "      <td>AU</td>\n",
              "      <td>300</td>\n",
              "      <td>True</td>\n",
              "    </tr>\n",
              "    <tr>\n",
              "      <th>m3</th>\n",
              "      <td>wood</td>\n",
              "      <td>200</td>\n",
              "      <td>False</td>\n",
              "    </tr>\n",
              "  </tbody>\n",
              "</table>\n",
              "</div>"
            ],
            "text/plain": [
              "    metal   YM ductile\n",
              "m1  steel  100    True\n",
              "m2     AU  300    True\n",
              "m3   wood  200   False"
            ]
          },
          "metadata": {
            "tags": []
          },
          "execution_count": 119
        }
      ]
    },
    {
      "cell_type": "code",
      "metadata": {
        "id": "pnHjnOLMZnhx",
        "colab_type": "code",
        "outputId": "c36211f4-0dc0-4526-c11f-b26850298853",
        "colab": {
          "base_uri": "https://localhost:8080/",
          "height": 313
        }
      },
      "source": [
        "\n",
        "df1.ix['m4'] = ['cement', 0.1, False]\n",
        "df1"
      ],
      "execution_count": 0,
      "outputs": [
        {
          "output_type": "stream",
          "text": [
            "/usr/local/lib/python3.6/dist-packages/ipykernel_launcher.py:2: DeprecationWarning: \n",
            ".ix is deprecated. Please use\n",
            ".loc for label based indexing or\n",
            ".iloc for positional indexing\n",
            "\n",
            "See the documentation here:\n",
            "http://pandas.pydata.org/pandas-docs/stable/indexing.html#ix-indexer-is-deprecated\n",
            "  \n"
          ],
          "name": "stderr"
        },
        {
          "output_type": "execute_result",
          "data": {
            "text/html": [
              "<div>\n",
              "<style scoped>\n",
              "    .dataframe tbody tr th:only-of-type {\n",
              "        vertical-align: middle;\n",
              "    }\n",
              "\n",
              "    .dataframe tbody tr th {\n",
              "        vertical-align: top;\n",
              "    }\n",
              "\n",
              "    .dataframe thead th {\n",
              "        text-align: right;\n",
              "    }\n",
              "</style>\n",
              "<table border=\"1\" class=\"dataframe\">\n",
              "  <thead>\n",
              "    <tr style=\"text-align: right;\">\n",
              "      <th></th>\n",
              "      <th>metal</th>\n",
              "      <th>YM</th>\n",
              "      <th>ductile</th>\n",
              "    </tr>\n",
              "  </thead>\n",
              "  <tbody>\n",
              "    <tr>\n",
              "      <th>m1</th>\n",
              "      <td>steel</td>\n",
              "      <td>100.0</td>\n",
              "      <td>True</td>\n",
              "    </tr>\n",
              "    <tr>\n",
              "      <th>m2</th>\n",
              "      <td>AU</td>\n",
              "      <td>300.0</td>\n",
              "      <td>True</td>\n",
              "    </tr>\n",
              "    <tr>\n",
              "      <th>m3</th>\n",
              "      <td>wood</td>\n",
              "      <td>200.0</td>\n",
              "      <td>False</td>\n",
              "    </tr>\n",
              "    <tr>\n",
              "      <th>m4</th>\n",
              "      <td>cement</td>\n",
              "      <td>0.1</td>\n",
              "      <td>False</td>\n",
              "    </tr>\n",
              "  </tbody>\n",
              "</table>\n",
              "</div>"
            ],
            "text/plain": [
              "     metal     YM  ductile\n",
              "m1   steel  100.0     True\n",
              "m2      AU  300.0     True\n",
              "m3    wood  200.0    False\n",
              "m4  cement    0.1    False"
            ]
          },
          "metadata": {
            "tags": []
          },
          "execution_count": 137
        }
      ]
    },
    {
      "cell_type": "code",
      "metadata": {
        "id": "CGuxFAr-dFJS",
        "colab_type": "code",
        "outputId": "8f4bb565-5390-490e-80bc-86ef987bc7aa",
        "colab": {
          "base_uri": "https://localhost:8080/",
          "height": 141
        }
      },
      "source": [
        "df1.drop(['m4'], axis=0)"
      ],
      "execution_count": 0,
      "outputs": [
        {
          "output_type": "execute_result",
          "data": {
            "text/html": [
              "<div>\n",
              "<style scoped>\n",
              "    .dataframe tbody tr th:only-of-type {\n",
              "        vertical-align: middle;\n",
              "    }\n",
              "\n",
              "    .dataframe tbody tr th {\n",
              "        vertical-align: top;\n",
              "    }\n",
              "\n",
              "    .dataframe thead th {\n",
              "        text-align: right;\n",
              "    }\n",
              "</style>\n",
              "<table border=\"1\" class=\"dataframe\">\n",
              "  <thead>\n",
              "    <tr style=\"text-align: right;\">\n",
              "      <th></th>\n",
              "      <th>metal</th>\n",
              "      <th>YM</th>\n",
              "      <th>ductile</th>\n",
              "    </tr>\n",
              "  </thead>\n",
              "  <tbody>\n",
              "    <tr>\n",
              "      <th>m1</th>\n",
              "      <td>steel</td>\n",
              "      <td>100.0</td>\n",
              "      <td>True</td>\n",
              "    </tr>\n",
              "    <tr>\n",
              "      <th>m2</th>\n",
              "      <td>AU</td>\n",
              "      <td>300.0</td>\n",
              "      <td>True</td>\n",
              "    </tr>\n",
              "    <tr>\n",
              "      <th>m3</th>\n",
              "      <td>wood</td>\n",
              "      <td>200.0</td>\n",
              "      <td>False</td>\n",
              "    </tr>\n",
              "  </tbody>\n",
              "</table>\n",
              "</div>"
            ],
            "text/plain": [
              "    metal     YM  ductile\n",
              "m1  steel  100.0     True\n",
              "m2     AU  300.0     True\n",
              "m3   wood  200.0    False"
            ]
          },
          "metadata": {
            "tags": []
          },
          "execution_count": 138
        }
      ]
    },
    {
      "cell_type": "code",
      "metadata": {
        "id": "jfNLYavWhUkd",
        "colab_type": "code",
        "outputId": "67ff0633-b7ba-440d-f477-3548110224c9",
        "colab": {
          "base_uri": "https://localhost:8080/",
          "height": 172
        }
      },
      "source": [
        "df1.drop(['YM'], axis=1)"
      ],
      "execution_count": 0,
      "outputs": [
        {
          "output_type": "execute_result",
          "data": {
            "text/html": [
              "<div>\n",
              "<style scoped>\n",
              "    .dataframe tbody tr th:only-of-type {\n",
              "        vertical-align: middle;\n",
              "    }\n",
              "\n",
              "    .dataframe tbody tr th {\n",
              "        vertical-align: top;\n",
              "    }\n",
              "\n",
              "    .dataframe thead th {\n",
              "        text-align: right;\n",
              "    }\n",
              "</style>\n",
              "<table border=\"1\" class=\"dataframe\">\n",
              "  <thead>\n",
              "    <tr style=\"text-align: right;\">\n",
              "      <th></th>\n",
              "      <th>metal</th>\n",
              "      <th>ductile</th>\n",
              "    </tr>\n",
              "  </thead>\n",
              "  <tbody>\n",
              "    <tr>\n",
              "      <th>m1</th>\n",
              "      <td>steel</td>\n",
              "      <td>True</td>\n",
              "    </tr>\n",
              "    <tr>\n",
              "      <th>m2</th>\n",
              "      <td>AU</td>\n",
              "      <td>True</td>\n",
              "    </tr>\n",
              "    <tr>\n",
              "      <th>m3</th>\n",
              "      <td>wood</td>\n",
              "      <td>False</td>\n",
              "    </tr>\n",
              "    <tr>\n",
              "      <th>m4</th>\n",
              "      <td>cement</td>\n",
              "      <td>False</td>\n",
              "    </tr>\n",
              "  </tbody>\n",
              "</table>\n",
              "</div>"
            ],
            "text/plain": [
              "     metal  ductile\n",
              "m1   steel     True\n",
              "m2      AU     True\n",
              "m3    wood    False\n",
              "m4  cement    False"
            ]
          },
          "metadata": {
            "tags": []
          },
          "execution_count": 139
        }
      ]
    },
    {
      "cell_type": "markdown",
      "metadata": {
        "id": "khfEeOMCitYy",
        "colab_type": "text"
      },
      "source": [
        "Merging DataFrames"
      ]
    },
    {
      "cell_type": "code",
      "metadata": {
        "id": "N7RhIBSVhobf",
        "colab_type": "code",
        "outputId": "9db9ca78-c7bd-42e2-f42a-d1b75d675614",
        "colab": {
          "base_uri": "https://localhost:8080/",
          "height": 453
        }
      },
      "source": [
        "df1 = pd.DataFrame({'metal':['steel','AU','wood'],'YM':[100,300,200],'ductile':[True,True,False]},index=['m1', 'm2', 'm3'])\n",
        "df2 = pd.DataFrame({'metal':['steel','AU','cement'], 'UTS (Mpa)':[400,300,40],'YM':[20,10,5]},index=['me1', 'me2', 'me3'])\n",
        "df3 = pd.concat([df1,df2])\n",
        "df3\n",
        "print(df1)\n",
        "print(df2)\n",
        "pd.merge(df1,df2,on='metal',how='outer')"
      ],
      "execution_count": 0,
      "outputs": [
        {
          "output_type": "stream",
          "text": [
            "    metal   YM  ductile\n",
            "m1  steel  100     True\n",
            "m2     AU  300     True\n",
            "m3   wood  200    False\n",
            "      metal  UTS (Mpa)  YM\n",
            "me1   steel        400  20\n",
            "me2      AU        300  10\n",
            "me3  cement         40   5\n"
          ],
          "name": "stdout"
        },
        {
          "output_type": "stream",
          "text": [
            "/usr/local/lib/python3.6/dist-packages/ipykernel_launcher.py:3: FutureWarning: Sorting because non-concatenation axis is not aligned. A future version\n",
            "of pandas will change to not sort by default.\n",
            "\n",
            "To accept the future behavior, pass 'sort=False'.\n",
            "\n",
            "To retain the current behavior and silence the warning, pass 'sort=True'.\n",
            "\n",
            "  This is separate from the ipykernel package so we can avoid doing imports until\n"
          ],
          "name": "stderr"
        },
        {
          "output_type": "execute_result",
          "data": {
            "text/html": [
              "<div>\n",
              "<style scoped>\n",
              "    .dataframe tbody tr th:only-of-type {\n",
              "        vertical-align: middle;\n",
              "    }\n",
              "\n",
              "    .dataframe tbody tr th {\n",
              "        vertical-align: top;\n",
              "    }\n",
              "\n",
              "    .dataframe thead th {\n",
              "        text-align: right;\n",
              "    }\n",
              "</style>\n",
              "<table border=\"1\" class=\"dataframe\">\n",
              "  <thead>\n",
              "    <tr style=\"text-align: right;\">\n",
              "      <th></th>\n",
              "      <th>metal</th>\n",
              "      <th>YM_x</th>\n",
              "      <th>ductile</th>\n",
              "      <th>UTS (Mpa)</th>\n",
              "      <th>YM_y</th>\n",
              "    </tr>\n",
              "  </thead>\n",
              "  <tbody>\n",
              "    <tr>\n",
              "      <th>0</th>\n",
              "      <td>steel</td>\n",
              "      <td>100.0</td>\n",
              "      <td>True</td>\n",
              "      <td>400.0</td>\n",
              "      <td>20.0</td>\n",
              "    </tr>\n",
              "    <tr>\n",
              "      <th>1</th>\n",
              "      <td>AU</td>\n",
              "      <td>300.0</td>\n",
              "      <td>True</td>\n",
              "      <td>300.0</td>\n",
              "      <td>10.0</td>\n",
              "    </tr>\n",
              "    <tr>\n",
              "      <th>2</th>\n",
              "      <td>wood</td>\n",
              "      <td>200.0</td>\n",
              "      <td>False</td>\n",
              "      <td>NaN</td>\n",
              "      <td>NaN</td>\n",
              "    </tr>\n",
              "    <tr>\n",
              "      <th>3</th>\n",
              "      <td>cement</td>\n",
              "      <td>NaN</td>\n",
              "      <td>NaN</td>\n",
              "      <td>40.0</td>\n",
              "      <td>5.0</td>\n",
              "    </tr>\n",
              "  </tbody>\n",
              "</table>\n",
              "</div>"
            ],
            "text/plain": [
              "    metal   YM_x ductile  UTS (Mpa)  YM_y\n",
              "0   steel  100.0    True      400.0  20.0\n",
              "1      AU  300.0    True      300.0  10.0\n",
              "2    wood  200.0   False        NaN   NaN\n",
              "3  cement    NaN     NaN       40.0   5.0"
            ]
          },
          "metadata": {
            "tags": []
          },
          "execution_count": 145
        }
      ]
    },
    {
      "cell_type": "code",
      "metadata": {
        "id": "knlfpOsGjnrf",
        "colab_type": "code",
        "outputId": "fb0a02d9-92da-4f33-ab67-1ad80bbe9c4b",
        "colab": {
          "base_uri": "https://localhost:8080/",
          "height": 141
        }
      },
      "source": [
        "pd.merge(df1,df2,on='metal',how='outer')"
      ],
      "execution_count": 0,
      "outputs": [
        {
          "output_type": "execute_result",
          "data": {
            "text/html": [
              "<div>\n",
              "<style scoped>\n",
              "    .dataframe tbody tr th:only-of-type {\n",
              "        vertical-align: middle;\n",
              "    }\n",
              "\n",
              "    .dataframe tbody tr th {\n",
              "        vertical-align: top;\n",
              "    }\n",
              "\n",
              "    .dataframe thead th {\n",
              "        text-align: right;\n",
              "    }\n",
              "</style>\n",
              "<table border=\"1\" class=\"dataframe\">\n",
              "  <thead>\n",
              "    <tr style=\"text-align: right;\">\n",
              "      <th></th>\n",
              "      <th>metal</th>\n",
              "      <th>YM_x</th>\n",
              "      <th>ductile</th>\n",
              "      <th>UTS (Mpa)</th>\n",
              "      <th>YM_y</th>\n",
              "    </tr>\n",
              "  </thead>\n",
              "  <tbody>\n",
              "    <tr>\n",
              "      <th>0</th>\n",
              "      <td>steel</td>\n",
              "      <td>100</td>\n",
              "      <td>True</td>\n",
              "      <td>400</td>\n",
              "      <td>20</td>\n",
              "    </tr>\n",
              "    <tr>\n",
              "      <th>1</th>\n",
              "      <td>AU</td>\n",
              "      <td>300</td>\n",
              "      <td>True</td>\n",
              "      <td>300</td>\n",
              "      <td>10</td>\n",
              "    </tr>\n",
              "    <tr>\n",
              "      <th>2</th>\n",
              "      <td>wood</td>\n",
              "      <td>200</td>\n",
              "      <td>False</td>\n",
              "      <td>40</td>\n",
              "      <td>5</td>\n",
              "    </tr>\n",
              "  </tbody>\n",
              "</table>\n",
              "</div>"
            ],
            "text/plain": [
              "   metal  YM_x  ductile  UTS (Mpa)  YM_y\n",
              "0  steel   100     True        400    20\n",
              "1     AU   300     True        300    10\n",
              "2   wood   200    False         40     5"
            ]
          },
          "metadata": {
            "tags": []
          },
          "execution_count": 143
        }
      ]
    },
    {
      "cell_type": "code",
      "metadata": {
        "id": "GgR1CTrukPN2",
        "colab_type": "code",
        "outputId": "f0c34a0c-37ff-4f28-8aff-298fa8bf0784",
        "colab": {
          "base_uri": "https://localhost:8080/",
          "height": 141
        }
      },
      "source": [
        "pd.merge(df1,df2,on='metal',how='inner')"
      ],
      "execution_count": 0,
      "outputs": [
        {
          "output_type": "execute_result",
          "data": {
            "text/html": [
              "<div>\n",
              "<style scoped>\n",
              "    .dataframe tbody tr th:only-of-type {\n",
              "        vertical-align: middle;\n",
              "    }\n",
              "\n",
              "    .dataframe tbody tr th {\n",
              "        vertical-align: top;\n",
              "    }\n",
              "\n",
              "    .dataframe thead th {\n",
              "        text-align: right;\n",
              "    }\n",
              "</style>\n",
              "<table border=\"1\" class=\"dataframe\">\n",
              "  <thead>\n",
              "    <tr style=\"text-align: right;\">\n",
              "      <th></th>\n",
              "      <th>metal</th>\n",
              "      <th>YM_x</th>\n",
              "      <th>ductile</th>\n",
              "      <th>UTS (Mpa)</th>\n",
              "      <th>YM_y</th>\n",
              "    </tr>\n",
              "  </thead>\n",
              "  <tbody>\n",
              "    <tr>\n",
              "      <th>0</th>\n",
              "      <td>steel</td>\n",
              "      <td>100</td>\n",
              "      <td>True</td>\n",
              "      <td>400</td>\n",
              "      <td>20</td>\n",
              "    </tr>\n",
              "    <tr>\n",
              "      <th>1</th>\n",
              "      <td>AU</td>\n",
              "      <td>300</td>\n",
              "      <td>True</td>\n",
              "      <td>300</td>\n",
              "      <td>10</td>\n",
              "    </tr>\n",
              "    <tr>\n",
              "      <th>2</th>\n",
              "      <td>wood</td>\n",
              "      <td>200</td>\n",
              "      <td>False</td>\n",
              "      <td>40</td>\n",
              "      <td>5</td>\n",
              "    </tr>\n",
              "  </tbody>\n",
              "</table>\n",
              "</div>"
            ],
            "text/plain": [
              "   metal  YM_x  ductile  UTS (Mpa)  YM_y\n",
              "0  steel   100     True        400    20\n",
              "1     AU   300     True        300    10\n",
              "2   wood   200    False         40     5"
            ]
          },
          "metadata": {
            "tags": []
          },
          "execution_count": 144
        }
      ]
    },
    {
      "cell_type": "markdown",
      "metadata": {
        "id": "2lJQf3HunYK1",
        "colab_type": "text"
      },
      "source": [
        "Student Activity"
      ]
    },
    {
      "cell_type": "code",
      "metadata": {
        "id": "nMgG7xMokRCw",
        "colab_type": "code",
        "outputId": "ab4c0bf5-3cb9-4d2e-f8da-e9d59bca7051",
        "colab": {
          "resources": {
            "http://localhost:8080/nbextensions/google.colab/files.js": {
              "data": "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",
              "ok": true,
              "headers": [
                [
                  "content-type",
                  "application/javascript"
                ]
              ],
              "status": 200,
              "status_text": ""
            }
          },
          "base_uri": "https://localhost:8080/",
          "height": 75
        }
      },
      "source": [
        "from google.colab import files\n",
        "uploaded = files.upload()\n",
        "\n",
        "# from google.colab import files\n",
        "# uploaded = files.upload()"
      ],
      "execution_count": 0,
      "outputs": [
        {
          "output_type": "display_data",
          "data": {
            "text/html": [
              "\n",
              "     <input type=\"file\" id=\"files-c2f74e7d-4394-4e2c-82e8-811057cb64ab\" name=\"files[]\" multiple disabled />\n",
              "     <output id=\"result-c2f74e7d-4394-4e2c-82e8-811057cb64ab\">\n",
              "      Upload widget is only available when the cell has been executed in the\n",
              "      current browser session. Please rerun this cell to enable.\n",
              "      </output>\n",
              "      <script src=\"/nbextensions/google.colab/files.js\"></script> "
            ],
            "text/plain": [
              "<IPython.core.display.HTML object>"
            ]
          },
          "metadata": {
            "tags": []
          }
        },
        {
          "output_type": "stream",
          "text": [
            "Saving matches.csv to matches.csv\n"
          ],
          "name": "stdout"
        }
      ]
    },
    {
      "cell_type": "markdown",
      "metadata": {
        "id": "qwW2seaV6if3",
        "colab_type": "text"
      },
      "source": [
        ""
      ]
    },
    {
      "cell_type": "code",
      "metadata": {
        "id": "TN9_6_5Cnwtk",
        "colab_type": "code",
        "outputId": "7ef39816-292b-47db-b533-7f18f99d324d",
        "colab": {
          "base_uri": "https://localhost:8080/",
          "height": 1003
        }
      },
      "source": [
        "import pandas as pd\n",
        "roads = pd.read_csv('roads.csv')\n",
        "accidents = pd.read_csv('road_accidents.csv')\n",
        "roads\n"
      ],
      "execution_count": 0,
      "outputs": [
        {
          "output_type": "execute_result",
          "data": {
            "text/html": [
              "<div>\n",
              "<style scoped>\n",
              "    .dataframe tbody tr th:only-of-type {\n",
              "        vertical-align: middle;\n",
              "    }\n",
              "\n",
              "    .dataframe tbody tr th {\n",
              "        vertical-align: top;\n",
              "    }\n",
              "\n",
              "    .dataframe thead th {\n",
              "        text-align: right;\n",
              "    }\n",
              "</style>\n",
              "<table border=\"1\" class=\"dataframe\">\n",
              "  <thead>\n",
              "    <tr style=\"text-align: right;\">\n",
              "      <th></th>\n",
              "      <th>Category</th>\n",
              "      <th>States/UTs</th>\n",
              "      <th>Total</th>\n",
              "      <th>Surfaced</th>\n",
              "    </tr>\n",
              "  </thead>\n",
              "  <tbody>\n",
              "    <tr>\n",
              "      <th>0</th>\n",
              "      <td>States</td>\n",
              "      <td>Andhra Pradesh</td>\n",
              "      <td>168516.000</td>\n",
              "      <td>93573</td>\n",
              "    </tr>\n",
              "    <tr>\n",
              "      <th>1</th>\n",
              "      <td>States</td>\n",
              "      <td>Arunachal Pradesh</td>\n",
              "      <td>5262.000</td>\n",
              "      <td>5262</td>\n",
              "    </tr>\n",
              "    <tr>\n",
              "      <th>2</th>\n",
              "      <td>States</td>\n",
              "      <td>Assam</td>\n",
              "      <td>222087.000</td>\n",
              "      <td>27622</td>\n",
              "    </tr>\n",
              "    <tr>\n",
              "      <th>3</th>\n",
              "      <td>States</td>\n",
              "      <td>Bihar</td>\n",
              "      <td>167579.000</td>\n",
              "      <td>94421</td>\n",
              "    </tr>\n",
              "    <tr>\n",
              "      <th>4</th>\n",
              "      <td>States</td>\n",
              "      <td>Chhattisgarh</td>\n",
              "      <td>30295.000</td>\n",
              "      <td>30295</td>\n",
              "    </tr>\n",
              "    <tr>\n",
              "      <th>5</th>\n",
              "      <td>States</td>\n",
              "      <td>Goa</td>\n",
              "      <td>5851.000</td>\n",
              "      <td>3221</td>\n",
              "    </tr>\n",
              "    <tr>\n",
              "      <th>6</th>\n",
              "      <td>States</td>\n",
              "      <td>Gujarat</td>\n",
              "      <td>53288.000</td>\n",
              "      <td>50621</td>\n",
              "    </tr>\n",
              "    <tr>\n",
              "      <th>7</th>\n",
              "      <td>States</td>\n",
              "      <td>Haryana</td>\n",
              "      <td>4622.000</td>\n",
              "      <td>4622</td>\n",
              "    </tr>\n",
              "    <tr>\n",
              "      <th>8</th>\n",
              "      <td>States</td>\n",
              "      <td>Himachal Pradesh</td>\n",
              "      <td>15145.000</td>\n",
              "      <td>14714</td>\n",
              "    </tr>\n",
              "    <tr>\n",
              "      <th>9</th>\n",
              "      <td>States</td>\n",
              "      <td>Jammu &amp; Kashmir</td>\n",
              "      <td>13451.000</td>\n",
              "      <td>12404</td>\n",
              "    </tr>\n",
              "    <tr>\n",
              "      <th>10</th>\n",
              "      <td>States</td>\n",
              "      <td>Jharkhand</td>\n",
              "      <td>17097.000</td>\n",
              "      <td>17097</td>\n",
              "    </tr>\n",
              "    <tr>\n",
              "      <th>11</th>\n",
              "      <td>States</td>\n",
              "      <td>Karnataka</td>\n",
              "      <td>163957.000</td>\n",
              "      <td>90260</td>\n",
              "    </tr>\n",
              "    <tr>\n",
              "      <th>12</th>\n",
              "      <td>States</td>\n",
              "      <td>Kerala</td>\n",
              "      <td>124864.349</td>\n",
              "      <td>79354</td>\n",
              "    </tr>\n",
              "    <tr>\n",
              "      <th>13</th>\n",
              "      <td>States</td>\n",
              "      <td>Madhya Pradesh</td>\n",
              "      <td>117722.000</td>\n",
              "      <td>75718</td>\n",
              "    </tr>\n",
              "    <tr>\n",
              "      <th>14</th>\n",
              "      <td>States</td>\n",
              "      <td>Maharashtra</td>\n",
              "      <td>262371.000</td>\n",
              "      <td>193806</td>\n",
              "    </tr>\n",
              "    <tr>\n",
              "      <th>15</th>\n",
              "      <td>States</td>\n",
              "      <td>Manipur</td>\n",
              "      <td>7635.000</td>\n",
              "      <td>3919</td>\n",
              "    </tr>\n",
              "    <tr>\n",
              "      <th>16</th>\n",
              "      <td>States</td>\n",
              "      <td>Meghalaya</td>\n",
              "      <td>1793.000</td>\n",
              "      <td>1194</td>\n",
              "    </tr>\n",
              "    <tr>\n",
              "      <th>17</th>\n",
              "      <td>States</td>\n",
              "      <td>Mizoram</td>\n",
              "      <td>2561.000</td>\n",
              "      <td>2561</td>\n",
              "    </tr>\n",
              "    <tr>\n",
              "      <th>18</th>\n",
              "      <td>States</td>\n",
              "      <td>Nagaland</td>\n",
              "      <td>23783.000</td>\n",
              "      <td>10930</td>\n",
              "    </tr>\n",
              "    <tr>\n",
              "      <th>19</th>\n",
              "      <td>States</td>\n",
              "      <td>Odisha</td>\n",
              "      <td>213446.000</td>\n",
              "      <td>213446</td>\n",
              "    </tr>\n",
              "    <tr>\n",
              "      <th>20</th>\n",
              "      <td>States</td>\n",
              "      <td>Punjab</td>\n",
              "      <td>62900.000</td>\n",
              "      <td>62900</td>\n",
              "    </tr>\n",
              "    <tr>\n",
              "      <th>21</th>\n",
              "      <td>States</td>\n",
              "      <td>Rajasthan</td>\n",
              "      <td>103441.000</td>\n",
              "      <td>67313</td>\n",
              "    </tr>\n",
              "    <tr>\n",
              "      <th>22</th>\n",
              "      <td>States</td>\n",
              "      <td>Sikkim</td>\n",
              "      <td>3343.000</td>\n",
              "      <td>3343</td>\n",
              "    </tr>\n",
              "    <tr>\n",
              "      <th>23</th>\n",
              "      <td>States</td>\n",
              "      <td>Tamil Nadu</td>\n",
              "      <td>144583.000</td>\n",
              "      <td>107803</td>\n",
              "    </tr>\n",
              "    <tr>\n",
              "      <th>24</th>\n",
              "      <td>States</td>\n",
              "      <td>Tripura</td>\n",
              "      <td>18165.000</td>\n",
              "      <td>8976</td>\n",
              "    </tr>\n",
              "    <tr>\n",
              "      <th>25</th>\n",
              "      <td>States</td>\n",
              "      <td>Uttarakhand</td>\n",
              "      <td>6933.000</td>\n",
              "      <td>6933</td>\n",
              "    </tr>\n",
              "    <tr>\n",
              "      <th>26</th>\n",
              "      <td>States</td>\n",
              "      <td>Uttar Pradesh</td>\n",
              "      <td>113531.000</td>\n",
              "      <td>79446</td>\n",
              "    </tr>\n",
              "    <tr>\n",
              "      <th>27</th>\n",
              "      <td>States</td>\n",
              "      <td>West Bengal</td>\n",
              "      <td>184088.000</td>\n",
              "      <td>38156</td>\n",
              "    </tr>\n",
              "    <tr>\n",
              "      <th>28</th>\n",
              "      <td>Union Territories</td>\n",
              "      <td>Andaman &amp; Nicobar Islands</td>\n",
              "      <td>111.000</td>\n",
              "      <td>111</td>\n",
              "    </tr>\n",
              "    <tr>\n",
              "      <th>29</th>\n",
              "      <td>Union Territories</td>\n",
              "      <td>Chandigarh</td>\n",
              "      <td>1219.000</td>\n",
              "      <td>967</td>\n",
              "    </tr>\n",
              "    <tr>\n",
              "      <th>30</th>\n",
              "      <td>All India</td>\n",
              "      <td>All India</td>\n",
              "      <td>2259639.349</td>\n",
              "      <td>1400988</td>\n",
              "    </tr>\n",
              "  </tbody>\n",
              "</table>\n",
              "</div>"
            ],
            "text/plain": [
              "             Category                 States/UTs        Total  Surfaced\n",
              "0              States             Andhra Pradesh   168516.000     93573\n",
              "1              States          Arunachal Pradesh     5262.000      5262\n",
              "2              States                      Assam   222087.000     27622\n",
              "3              States                      Bihar   167579.000     94421\n",
              "4              States               Chhattisgarh    30295.000     30295\n",
              "5              States                        Goa     5851.000      3221\n",
              "6              States                    Gujarat    53288.000     50621\n",
              "7              States                    Haryana     4622.000      4622\n",
              "8              States           Himachal Pradesh    15145.000     14714\n",
              "9              States            Jammu & Kashmir    13451.000     12404\n",
              "10             States                  Jharkhand    17097.000     17097\n",
              "11             States                  Karnataka   163957.000     90260\n",
              "12             States                     Kerala   124864.349     79354\n",
              "13             States             Madhya Pradesh   117722.000     75718\n",
              "14             States                Maharashtra   262371.000    193806\n",
              "15             States                    Manipur     7635.000      3919\n",
              "16             States                  Meghalaya     1793.000      1194\n",
              "17             States                    Mizoram     2561.000      2561\n",
              "18             States                   Nagaland    23783.000     10930\n",
              "19             States                     Odisha   213446.000    213446\n",
              "20             States                     Punjab    62900.000     62900\n",
              "21             States                  Rajasthan   103441.000     67313\n",
              "22             States                     Sikkim     3343.000      3343\n",
              "23             States                 Tamil Nadu   144583.000    107803\n",
              "24             States                    Tripura    18165.000      8976\n",
              "25             States                Uttarakhand     6933.000      6933\n",
              "26             States              Uttar Pradesh   113531.000     79446\n",
              "27             States                West Bengal   184088.000     38156\n",
              "28  Union Territories  Andaman & Nicobar Islands      111.000       111\n",
              "29  Union Territories                 Chandigarh     1219.000       967\n",
              "30          All India                  All India  2259639.349   1400988"
            ]
          },
          "metadata": {
            "tags": []
          },
          "execution_count": 150
        }
      ]
    },
    {
      "cell_type": "markdown",
      "metadata": {
        "id": "SF30PmyPopRf",
        "colab_type": "text"
      },
      "source": [
        "Shape of Each frame"
      ]
    },
    {
      "cell_type": "code",
      "metadata": {
        "id": "dDmukAFioMsS",
        "colab_type": "code",
        "colab": {}
      },
      "source": [
        "roads.shape\n",
        "roads.head()\n",
        "m_roads = roads.drop(['Category','Total'], axis=1)\n",
        "# print(x.shape)\n",
        "# print (x.size)\n",
        "# print (x.ndim)"
      ],
      "execution_count": 0,
      "outputs": []
    },
    {
      "cell_type": "code",
      "metadata": {
        "id": "gDK0tUdrou0x",
        "colab_type": "code",
        "colab": {}
      },
      "source": [
        "accidents.shape\n",
        "accidents.head()\n",
        "m_accidents = accidents.drop(['2006','2007','2008','2009','2010','2011','2015'], axis=1)"
      ],
      "execution_count": 0,
      "outputs": []
    },
    {
      "cell_type": "code",
      "metadata": {
        "id": "c3hqZRHjo8Kf",
        "colab_type": "code",
        "outputId": "4160c069-0b27-44f2-a121-6dceae523708",
        "colab": {
          "base_uri": "https://localhost:8080/",
          "height": 1003
        }
      },
      "source": [
        "pd.merge(m_accidents,m_roads,on='States/UTs',how='inner')"
      ],
      "execution_count": 0,
      "outputs": [
        {
          "output_type": "execute_result",
          "data": {
            "text/html": [
              "<div>\n",
              "<style scoped>\n",
              "    .dataframe tbody tr th:only-of-type {\n",
              "        vertical-align: middle;\n",
              "    }\n",
              "\n",
              "    .dataframe tbody tr th {\n",
              "        vertical-align: top;\n",
              "    }\n",
              "\n",
              "    .dataframe thead th {\n",
              "        text-align: right;\n",
              "    }\n",
              "</style>\n",
              "<table border=\"1\" class=\"dataframe\">\n",
              "  <thead>\n",
              "    <tr style=\"text-align: right;\">\n",
              "      <th></th>\n",
              "      <th>States/UTs</th>\n",
              "      <th>2012</th>\n",
              "      <th>2013</th>\n",
              "      <th>2014</th>\n",
              "      <th>Surfaced</th>\n",
              "    </tr>\n",
              "  </thead>\n",
              "  <tbody>\n",
              "    <tr>\n",
              "      <th>0</th>\n",
              "      <td>Andhra Pradesh</td>\n",
              "      <td>14578.0</td>\n",
              "      <td>17355.0</td>\n",
              "      <td>7815</td>\n",
              "      <td>93573</td>\n",
              "    </tr>\n",
              "    <tr>\n",
              "      <th>1</th>\n",
              "      <td>Arunachal Pradesh</td>\n",
              "      <td>147.0</td>\n",
              "      <td>242.0</td>\n",
              "      <td>149</td>\n",
              "      <td>5262</td>\n",
              "    </tr>\n",
              "    <tr>\n",
              "      <th>2</th>\n",
              "      <td>Assam</td>\n",
              "      <td>4174.0</td>\n",
              "      <td>4112.0</td>\n",
              "      <td>4186</td>\n",
              "      <td>27622</td>\n",
              "    </tr>\n",
              "    <tr>\n",
              "      <th>3</th>\n",
              "      <td>Bihar</td>\n",
              "      <td>5124.0</td>\n",
              "      <td>4470.0</td>\n",
              "      <td>4580</td>\n",
              "      <td>94421</td>\n",
              "    </tr>\n",
              "    <tr>\n",
              "      <th>4</th>\n",
              "      <td>Chhattisgarh</td>\n",
              "      <td>6183.0</td>\n",
              "      <td>5824.0</td>\n",
              "      <td>6049</td>\n",
              "      <td>30295</td>\n",
              "    </tr>\n",
              "    <tr>\n",
              "      <th>5</th>\n",
              "      <td>Goa</td>\n",
              "      <td>1752.0</td>\n",
              "      <td>1920.0</td>\n",
              "      <td>1904</td>\n",
              "      <td>3221</td>\n",
              "    </tr>\n",
              "    <tr>\n",
              "      <th>6</th>\n",
              "      <td>Gujarat</td>\n",
              "      <td>10382.0</td>\n",
              "      <td>9434.0</td>\n",
              "      <td>8597</td>\n",
              "      <td>50621</td>\n",
              "    </tr>\n",
              "    <tr>\n",
              "      <th>7</th>\n",
              "      <td>Haryana</td>\n",
              "      <td>3221.0</td>\n",
              "      <td>3485.0</td>\n",
              "      <td>3628</td>\n",
              "      <td>4622</td>\n",
              "    </tr>\n",
              "    <tr>\n",
              "      <th>8</th>\n",
              "      <td>Himachal Pradesh</td>\n",
              "      <td>1012.0</td>\n",
              "      <td>1093.0</td>\n",
              "      <td>1138</td>\n",
              "      <td>14714</td>\n",
              "    </tr>\n",
              "    <tr>\n",
              "      <th>9</th>\n",
              "      <td>Jammu &amp; Kashmir</td>\n",
              "      <td>2540.0</td>\n",
              "      <td>2601.0</td>\n",
              "      <td>2421</td>\n",
              "      <td>12404</td>\n",
              "    </tr>\n",
              "    <tr>\n",
              "      <th>10</th>\n",
              "      <td>Jharkhand</td>\n",
              "      <td>2496.0</td>\n",
              "      <td>2546.0</td>\n",
              "      <td>2547</td>\n",
              "      <td>17097</td>\n",
              "    </tr>\n",
              "    <tr>\n",
              "      <th>11</th>\n",
              "      <td>Karnataka</td>\n",
              "      <td>17797.0</td>\n",
              "      <td>18541.0</td>\n",
              "      <td>16617</td>\n",
              "      <td>90260</td>\n",
              "    </tr>\n",
              "    <tr>\n",
              "      <th>12</th>\n",
              "      <td>Kerala</td>\n",
              "      <td>14147.0</td>\n",
              "      <td>13775.0</td>\n",
              "      <td>14171</td>\n",
              "      <td>79354</td>\n",
              "    </tr>\n",
              "    <tr>\n",
              "      <th>13</th>\n",
              "      <td>Madhya Pradesh</td>\n",
              "      <td>26726.0</td>\n",
              "      <td>26253.0</td>\n",
              "      <td>27474</td>\n",
              "      <td>75718</td>\n",
              "    </tr>\n",
              "    <tr>\n",
              "      <th>14</th>\n",
              "      <td>Maharashtra</td>\n",
              "      <td>38227.0</td>\n",
              "      <td>36069.0</td>\n",
              "      <td>36473</td>\n",
              "      <td>193806</td>\n",
              "    </tr>\n",
              "    <tr>\n",
              "      <th>15</th>\n",
              "      <td>Manipur</td>\n",
              "      <td>502.0</td>\n",
              "      <td>246.0</td>\n",
              "      <td>166</td>\n",
              "      <td>3919</td>\n",
              "    </tr>\n",
              "    <tr>\n",
              "      <th>16</th>\n",
              "      <td>Meghalaya</td>\n",
              "      <td>354.0</td>\n",
              "      <td>346.0</td>\n",
              "      <td>311</td>\n",
              "      <td>1194</td>\n",
              "    </tr>\n",
              "    <tr>\n",
              "      <th>17</th>\n",
              "      <td>Mizoram</td>\n",
              "      <td>47.0</td>\n",
              "      <td>46.0</td>\n",
              "      <td>70</td>\n",
              "      <td>2561</td>\n",
              "    </tr>\n",
              "    <tr>\n",
              "      <th>18</th>\n",
              "      <td>Nagaland</td>\n",
              "      <td>32.0</td>\n",
              "      <td>50.0</td>\n",
              "      <td>248</td>\n",
              "      <td>10930</td>\n",
              "    </tr>\n",
              "    <tr>\n",
              "      <th>19</th>\n",
              "      <td>Odisha</td>\n",
              "      <td>4378.0</td>\n",
              "      <td>4500.0</td>\n",
              "      <td>4405</td>\n",
              "      <td>213446</td>\n",
              "    </tr>\n",
              "    <tr>\n",
              "      <th>20</th>\n",
              "      <td>Punjab</td>\n",
              "      <td>2175.0</td>\n",
              "      <td>2404.0</td>\n",
              "      <td>2641</td>\n",
              "      <td>62900</td>\n",
              "    </tr>\n",
              "    <tr>\n",
              "      <th>21</th>\n",
              "      <td>Rajasthan</td>\n",
              "      <td>8407.0</td>\n",
              "      <td>8653.0</td>\n",
              "      <td>8964</td>\n",
              "      <td>67313</td>\n",
              "    </tr>\n",
              "    <tr>\n",
              "      <th>22</th>\n",
              "      <td>Sikkim</td>\n",
              "      <td>53.0</td>\n",
              "      <td>80.0</td>\n",
              "      <td>146</td>\n",
              "      <td>3343</td>\n",
              "    </tr>\n",
              "    <tr>\n",
              "      <th>23</th>\n",
              "      <td>Tamil Nadu</td>\n",
              "      <td>28224.0</td>\n",
              "      <td>27333.0</td>\n",
              "      <td>24869</td>\n",
              "      <td>107803</td>\n",
              "    </tr>\n",
              "    <tr>\n",
              "      <th>24</th>\n",
              "      <td>Tripura</td>\n",
              "      <td>377.0</td>\n",
              "      <td>398.0</td>\n",
              "      <td>325</td>\n",
              "      <td>8976</td>\n",
              "    </tr>\n",
              "    <tr>\n",
              "      <th>25</th>\n",
              "      <td>Uttarakhand</td>\n",
              "      <td>796.0</td>\n",
              "      <td>649.0</td>\n",
              "      <td>735</td>\n",
              "      <td>6933</td>\n",
              "    </tr>\n",
              "    <tr>\n",
              "      <th>26</th>\n",
              "      <td>Uttar Pradesh</td>\n",
              "      <td>15715.0</td>\n",
              "      <td>15964.0</td>\n",
              "      <td>18605</td>\n",
              "      <td>79446</td>\n",
              "    </tr>\n",
              "    <tr>\n",
              "      <th>27</th>\n",
              "      <td>West Bengal</td>\n",
              "      <td>6025.0</td>\n",
              "      <td>5694.0</td>\n",
              "      <td>6892</td>\n",
              "      <td>38156</td>\n",
              "    </tr>\n",
              "    <tr>\n",
              "      <th>28</th>\n",
              "      <td>Andaman &amp; Nicobar Islands</td>\n",
              "      <td>74.0</td>\n",
              "      <td>61.0</td>\n",
              "      <td>131</td>\n",
              "      <td>111</td>\n",
              "    </tr>\n",
              "    <tr>\n",
              "      <th>29</th>\n",
              "      <td>Chandigarh</td>\n",
              "      <td>367.0</td>\n",
              "      <td>327.0</td>\n",
              "      <td>336</td>\n",
              "      <td>967</td>\n",
              "    </tr>\n",
              "    <tr>\n",
              "      <th>30</th>\n",
              "      <td>All India</td>\n",
              "      <td>223933.0</td>\n",
              "      <td>222883.0</td>\n",
              "      <td>226415</td>\n",
              "      <td>1400988</td>\n",
              "    </tr>\n",
              "  </tbody>\n",
              "</table>\n",
              "</div>"
            ],
            "text/plain": [
              "                   States/UTs      2012      2013    2014  Surfaced\n",
              "0              Andhra Pradesh   14578.0   17355.0    7815     93573\n",
              "1           Arunachal Pradesh     147.0     242.0     149      5262\n",
              "2                       Assam    4174.0    4112.0    4186     27622\n",
              "3                       Bihar    5124.0    4470.0    4580     94421\n",
              "4                Chhattisgarh    6183.0    5824.0    6049     30295\n",
              "5                         Goa    1752.0    1920.0    1904      3221\n",
              "6                     Gujarat   10382.0    9434.0    8597     50621\n",
              "7                     Haryana    3221.0    3485.0    3628      4622\n",
              "8            Himachal Pradesh    1012.0    1093.0    1138     14714\n",
              "9             Jammu & Kashmir    2540.0    2601.0    2421     12404\n",
              "10                  Jharkhand    2496.0    2546.0    2547     17097\n",
              "11                  Karnataka   17797.0   18541.0   16617     90260\n",
              "12                     Kerala   14147.0   13775.0   14171     79354\n",
              "13             Madhya Pradesh   26726.0   26253.0   27474     75718\n",
              "14                Maharashtra   38227.0   36069.0   36473    193806\n",
              "15                    Manipur     502.0     246.0     166      3919\n",
              "16                  Meghalaya     354.0     346.0     311      1194\n",
              "17                    Mizoram      47.0      46.0      70      2561\n",
              "18                   Nagaland      32.0      50.0     248     10930\n",
              "19                     Odisha    4378.0    4500.0    4405    213446\n",
              "20                     Punjab    2175.0    2404.0    2641     62900\n",
              "21                  Rajasthan    8407.0    8653.0    8964     67313\n",
              "22                     Sikkim      53.0      80.0     146      3343\n",
              "23                 Tamil Nadu   28224.0   27333.0   24869    107803\n",
              "24                    Tripura     377.0     398.0     325      8976\n",
              "25                Uttarakhand     796.0     649.0     735      6933\n",
              "26              Uttar Pradesh   15715.0   15964.0   18605     79446\n",
              "27                West Bengal    6025.0    5694.0    6892     38156\n",
              "28  Andaman & Nicobar Islands      74.0      61.0     131       111\n",
              "29                 Chandigarh     367.0     327.0     336       967\n",
              "30                  All India  223933.0  222883.0  226415   1400988"
            ]
          },
          "metadata": {
            "tags": []
          },
          "execution_count": 164
        }
      ]
    },
    {
      "cell_type": "code",
      "metadata": {
        "id": "3VOB6vQ0rmY1",
        "colab_type": "code",
        "colab": {}
      },
      "source": [
        "import pandas as pd\n",
        "import numpy as np\n",
        "import matplotlib.pyplot as plt\n",
        "import seaborn as sns\n",
        "import statsmodels.api as sm\n",
        "\n",
        "# coorelation = -cov(x,y)/(sd(x)*sd(y))"
      ],
      "execution_count": 0,
      "outputs": []
    },
    {
      "cell_type": "code",
      "metadata": {
        "id": "fLXflP8eyvCH",
        "colab_type": "code",
        "outputId": "c218427e-94f1-4151-d62f-9ba9184930b7",
        "colab": {
          "base_uri": "https://localhost:8080/",
          "height": 615
        }
      },
      "source": [
        "cars = sm.datasets.get_rdataset('mtcars').data\n",
        "print(cars.head(4))\n",
        "print(cars.head(4).T)\n",
        "print(cars.info())"
      ],
      "execution_count": 0,
      "outputs": [
        {
          "output_type": "stream",
          "text": [
            "                 mpg  cyl   disp   hp  drat     wt   qsec  vs  am  gear  carb\n",
            "Mazda RX4       21.0    6  160.0  110  3.90  2.620  16.46   0   1     4     4\n",
            "Mazda RX4 Wag   21.0    6  160.0  110  3.90  2.875  17.02   0   1     4     4\n",
            "Datsun 710      22.8    4  108.0   93  3.85  2.320  18.61   1   1     4     1\n",
            "Hornet 4 Drive  21.4    6  258.0  110  3.08  3.215  19.44   1   0     3     1\n",
            "      Mazda RX4  Mazda RX4 Wag  Datsun 710  Hornet 4 Drive\n",
            "mpg       21.00         21.000       22.80          21.400\n",
            "cyl        6.00          6.000        4.00           6.000\n",
            "disp     160.00        160.000      108.00         258.000\n",
            "hp       110.00        110.000       93.00         110.000\n",
            "drat       3.90          3.900        3.85           3.080\n",
            "wt         2.62          2.875        2.32           3.215\n",
            "qsec      16.46         17.020       18.61          19.440\n",
            "vs         0.00          0.000        1.00           1.000\n",
            "am         1.00          1.000        1.00           0.000\n",
            "gear       4.00          4.000        4.00           3.000\n",
            "carb       4.00          4.000        1.00           1.000\n",
            "<class 'pandas.core.frame.DataFrame'>\n",
            "Index: 32 entries, Mazda RX4 to Volvo 142E\n",
            "Data columns (total 11 columns):\n",
            "mpg     32 non-null float64\n",
            "cyl     32 non-null int64\n",
            "disp    32 non-null float64\n",
            "hp      32 non-null int64\n",
            "drat    32 non-null float64\n",
            "wt      32 non-null float64\n",
            "qsec    32 non-null float64\n",
            "vs      32 non-null int64\n",
            "am      32 non-null int64\n",
            "gear    32 non-null int64\n",
            "carb    32 non-null int64\n",
            "dtypes: float64(5), int64(6)\n",
            "memory usage: 3.0+ KB\n",
            "None\n"
          ],
          "name": "stdout"
        }
      ]
    },
    {
      "cell_type": "code",
      "metadata": {
        "id": "1hKPALlFzJMo",
        "colab_type": "code",
        "outputId": "a34edd08-8434-4a53-9d01-f5c111353563",
        "colab": {
          "base_uri": "https://localhost:8080/",
          "height": 302
        }
      },
      "source": [
        "sns.regplot(x=cars.mpg,y=cars.wt,ci=95)\n",
        "corcoef=np.corrcoef(cars.mpg,cars.wt)[0,1]\n",
        "text_cc = '\\n\\n\\n Correlation coefficient is %1.4f'%corcoef\n",
        "plt.title('Scatter plot MPG vs Weight')\n",
        "plt.suptitle(text_cc)\n",
        "plt.gcf().tight_layout()\n",
        "plt.show()"
      ],
      "execution_count": 0,
      "outputs": [
        {
          "output_type": "display_data",
          "data": {
            "image/png": "[encoded data removed]",
            "text/plain": [
              "<Figure size 432x288 with 1 Axes>"
            ]
          },
          "metadata": {
            "tags": []
          }
        }
      ]
    },
    {
      "cell_type": "code",
      "metadata": {
        "id": "jHaueFg62eQL",
        "colab_type": "code",
        "outputId": "79e9e777-b591-44aa-d4d3-f94d5e9be2a3",
        "colab": {
          "base_uri": "https://localhost:8080/",
          "height": 269
        }
      },
      "source": [
        "sns.heatmap(cars.corr(),cmap='BuGn')\n",
        "plt.show()"
      ],
      "execution_count": 0,
      "outputs": [
        {
          "output_type": "display_data",
          "data": {
            "image/png": "[encoded data removed]",
            "text/plain": [
              "<Figure size 432x288 with 2 Axes>"
            ]
          },
          "metadata": {
            "tags": []
          }
        }
      ]
    },
    {
      "cell_type": "code",
      "metadata": {
        "id": "zZsEJx3L5QcU",
        "colab_type": "code",
        "outputId": "c1f6cef6-2ce7-496a-dff3-5ed7a5bbcf59",
        "colab": {
          "base_uri": "https://localhost:8080/",
          "height": 492
        }
      },
      "source": [
        "import statsmodels.api as sm\n",
        "X= cars.wt\n",
        "y= cars.mpg\n",
        "\n",
        "X = sm.add_constant(X)\n",
        "modal = sm.OLS(y,X).fit()\n",
        "predictions = modal.predict(X)\n",
        "print(modal.summary())"
      ],
      "execution_count": 0,
      "outputs": [
        {
          "output_type": "stream",
          "text": [
            "                            OLS Regression Results                            \n",
            "==============================================================================\n",
            "Dep. Variable:                    mpg   R-squared:                       0.753\n",
            "Model:                            OLS   Adj. R-squared:                  0.745\n",
            "Method:                 Least Squares   F-statistic:                     91.38\n",
            "Date:                Tue, 07 May 2019   Prob (F-statistic):           1.29e-10\n",
            "Time:                        11:17:14   Log-Likelihood:                -80.015\n",
            "No. Observations:                  32   AIC:                             164.0\n",
            "Df Residuals:                      30   BIC:                             167.0\n",
            "Df Model:                           1                                         \n",
            "Covariance Type:            nonrobust                                         \n",
            "==============================================================================\n",
            "                 coef    std err          t      P>|t|      [0.025      0.975]\n",
            "------------------------------------------------------------------------------\n",
            "const         37.2851      1.878     19.858      0.000      33.450      41.120\n",
            "wt            -5.3445      0.559     -9.559      0.000      -6.486      -4.203\n",
            "==============================================================================\n",
            "Omnibus:                        2.988   Durbin-Watson:                   1.252\n",
            "Prob(Omnibus):                  0.225   Jarque-Bera (JB):                2.399\n",
            "Skew:                           0.668   Prob(JB):                        0.301\n",
            "Kurtosis:                       2.877   Cond. No.                         12.7\n",
            "==============================================================================\n",
            "\n",
            "Warnings:\n",
            "[1] Standard Errors assume that the covariance matrix of the errors is correctly specified.\n"
          ],
          "name": "stdout"
        },
        {
          "output_type": "stream",
          "text": [
            "/usr/local/lib/python3.6/dist-packages/numpy/core/fromnumeric.py:2389: FutureWarning: Method .ptp is deprecated and will be removed in a future version. Use numpy.ptp instead.\n",
            "  return ptp(axis=axis, out=out, **kwargs)\n"
          ],
          "name": "stderr"
        }
      ]
    },
    {
      "cell_type": "code",
      "metadata": {
        "id": "3N6d9YApAL2p",
        "colab_type": "code",
        "outputId": "3f0ef91d-d84f-4082-a469-07019621a5d6",
        "colab": {
          "base_uri": "https://localhost:8080/",
          "height": 35
        }
      },
      "source": [
        "new_X=[1,3.0]\n",
        "predictions = modal.predict(new_X)\n",
        "predictions\n",
        "print('predicted mpg of the car with weight %d(000 lbs) is %2.2f' %(3.0,np.round(predictions,3)))"
      ],
      "execution_count": 0,
      "outputs": [
        {
          "output_type": "stream",
          "text": [
            "predicted mpg of the car with weight 3(000 lbs) is 21.25\n"
          ],
          "name": "stdout"
        }
      ]
    },
    {
      "cell_type": "markdown",
      "metadata": {
        "id": "ZgthwdOIIFJC",
        "colab_type": "text"
      },
      "source": [
        "Fit a model"
      ]
    },
    {
      "cell_type": "code",
      "metadata": {
        "id": "WGxG5g8tFdO7",
        "colab_type": "code",
        "colab": {}
      },
      "source": [
        "from sklearn import linear_model\n",
        "x= np.array(cars.wt).reshape(-1,1)\n",
        "y= cars.mpg\n",
        "lm = linear_model.LinearRegression()\n",
        "model = lm.fit(x,y)\n"
      ],
      "execution_count": 0,
      "outputs": []
    },
    {
      "cell_type": "markdown",
      "metadata": {
        "id": "5JwZ9BDsIIVQ",
        "colab_type": "text"
      },
      "source": [
        "make a prediciton"
      ]
    },
    {
      "cell_type": "code",
      "metadata": {
        "id": "HITgHLgkHQvb",
        "colab_type": "code",
        "outputId": "b58a11fe-531c-4be1-c64b-a52578f8d9bb",
        "colab": {
          "base_uri": "https://localhost:8080/",
          "height": 35
        }
      },
      "source": [
        "\n",
        "predictions = model.predict(x)\n",
        "predictions\n",
        "\n",
        "new_X = np.array(3).reshape(-1,1)\n",
        "new_predictions = model.predict(new_X)\n",
        "new_predictions"
      ],
      "execution_count": 0,
      "outputs": [
        {
          "output_type": "execute_result",
          "data": {
            "text/plain": [
              "array([21.25171145])"
            ]
          },
          "metadata": {
            "tags": []
          },
          "execution_count": 205
        }
      ]
    },
    {
      "cell_type": "markdown",
      "metadata": {
        "id": "jFZme48_Iicd",
        "colab_type": "text"
      },
      "source": [
        "To get the R^2 score of the model"
      ]
    },
    {
      "cell_type": "code",
      "metadata": {
        "id": "HRPnAuaRHvfw",
        "colab_type": "code",
        "outputId": "02ae4b42-72a4-4956-c776-2f25ddfee334",
        "colab": {
          "base_uri": "https://localhost:8080/",
          "height": 35
        }
      },
      "source": [
        "print('R square is %1.3f' %model.score(x,y))\n"
      ],
      "execution_count": 0,
      "outputs": [
        {
          "output_type": "stream",
          "text": [
            "R square is 0.753\n"
          ],
          "name": "stdout"
        }
      ]
    },
    {
      "cell_type": "code",
      "metadata": {
        "id": "jJHcgdvELVAY",
        "colab_type": "code",
        "outputId": "cb82d960-ffbb-4ecb-ffe7-3a7681030cf2",
        "colab": {
          "base_uri": "https://localhost:8080/",
          "height": 35
        }
      },
      "source": [
        "print(\"\"\"Hello World\"\"\")"
      ],
      "execution_count": 0,
      "outputs": [
        {
          "output_type": "stream",
          "text": [
            "Hello World\n"
          ],
          "name": "stdout"
        }
      ]
    },
    {
      "cell_type": "code",
      "metadata": {
        "id": "PGZNlNaEXzXK",
        "colab_type": "code",
        "outputId": "624fd3a8-ca53-46be-9fac-a50295f12bfb",
        "colab": {
          "base_uri": "https://localhost:8080/",
          "height": 52
        }
      },
      "source": [
        "print(\"\"\"Hello\n",
        "World\"\"\")"
      ],
      "execution_count": 0,
      "outputs": [
        {
          "output_type": "stream",
          "text": [
            "Hello\n",
            "World\n"
          ],
          "name": "stdout"
        }
      ]
    },
    {
      "cell_type": "code",
      "metadata": {
        "id": "yJw9KwH7X51K",
        "colab_type": "code",
        "outputId": "ee27c991-90e8-441f-e75f-3aa396563879",
        "colab": {
          "base_uri": "https://localhost:8080/",
          "height": 52
        }
      },
      "source": [
        "print(\"\"\"Hello \n",
        "      World\"\"\")"
      ],
      "execution_count": 0,
      "outputs": [
        {
          "output_type": "stream",
          "text": [
            "Hello \n",
            "      World\n"
          ],
          "name": "stdout"
        }
      ]
    },
    {
      "cell_type": "code",
      "metadata": {
        "id": "j7-Ul0MQX-OV",
        "colab_type": "code",
        "outputId": "9aa11004-411c-4c55-bcd7-1c7c39c6ccd1",
        "colab": {
          "base_uri": "https://localhost:8080/",
          "height": 35
        }
      },
      "source": [
        "planet = 'Pluto'\n",
        "claim = \"Pluto is a planet!\"\n",
        "claim.startswith(planet)\n"
      ],
      "execution_count": 0,
      "outputs": [
        {
          "output_type": "execute_result",
          "data": {
            "text/plain": [
              "True"
            ]
          },
          "metadata": {
            "tags": []
          },
          "execution_count": 6
        }
      ]
    },
    {
      "cell_type": "code",
      "metadata": {
        "id": "6i8Qfu6PYweP",
        "colab_type": "code",
        "outputId": "32789dda-9d42-427a-986b-fa27efbc3fd7",
        "colab": {
          "base_uri": "https://localhost:8080/",
          "height": 1795
        }
      },
      "source": [
        "help(np.ravel)"
      ],
      "execution_count": 0,
      "outputs": [
        {
          "output_type": "stream",
          "text": [
            "Help on function ravel in module numpy:\n",
            "\n",
            "ravel(a, order='C')\n",
            "    Return a contiguous flattened array.\n",
            "    \n",
            "    A 1-D array, containing the elements of the input, is returned.  A copy is\n",
            "    made only if needed.\n",
            "    \n",
            "    As of NumPy 1.10, the returned array will have the same type as the input\n",
            "    array. (for example, a masked array will be returned for a masked array\n",
            "    input)\n",
            "    \n",
            "    Parameters\n",
            "    ----------\n",
            "    a : array_like\n",
            "        Input array.  The elements in `a` are read in the order specified by\n",
            "        `order`, and packed as a 1-D array.\n",
            "    order : {'C','F', 'A', 'K'}, optional\n",
            "    \n",
            "        The elements of `a` are read using this index order. 'C' means\n",
            "        to index the elements in row-major, C-style order,\n",
            "        with the last axis index changing fastest, back to the first\n",
            "        axis index changing slowest.  'F' means to index the elements\n",
            "        in column-major, Fortran-style order, with the\n",
            "        first index changing fastest, and the last index changing\n",
            "        slowest. Note that the 'C' and 'F' options take no account of\n",
            "        the memory layout of the underlying array, and only refer to\n",
            "        the order of axis indexing.  'A' means to read the elements in\n",
            "        Fortran-like index order if `a` is Fortran *contiguous* in\n",
            "        memory, C-like order otherwise.  'K' means to read the\n",
            "        elements in the order they occur in memory, except for\n",
            "        reversing the data when strides are negative.  By default, 'C'\n",
            "        index order is used.\n",
            "    \n",
            "    Returns\n",
            "    -------\n",
            "    y : array_like\n",
            "        y is an array of the same subtype as `a`, with shape ``(a.size,)``.\n",
            "        Note that matrices are special cased for backward compatibility, if `a`\n",
            "        is a matrix, then y is a 1-D ndarray.\n",
            "    \n",
            "    See Also\n",
            "    --------\n",
            "    ndarray.flat : 1-D iterator over an array.\n",
            "    ndarray.flatten : 1-D array copy of the elements of an array\n",
            "                      in row-major order.\n",
            "    ndarray.reshape : Change the shape of an array without changing its data.\n",
            "    \n",
            "    Notes\n",
            "    -----\n",
            "    In row-major, C-style order, in two dimensions, the row index\n",
            "    varies the slowest, and the column index the quickest.  This can\n",
            "    be generalized to multiple dimensions, where row-major order\n",
            "    implies that the index along the first axis varies slowest, and\n",
            "    the index along the last quickest.  The opposite holds for\n",
            "    column-major, Fortran-style index ordering.\n",
            "    \n",
            "    When a view is desired in as many cases as possible, ``arr.reshape(-1)``\n",
            "    may be preferable.\n",
            "    \n",
            "    Examples\n",
            "    --------\n",
            "    It is equivalent to ``reshape(-1, order=order)``.\n",
            "    \n",
            "    >>> x = np.array([[1, 2, 3], [4, 5, 6]])\n",
            "    >>> print(np.ravel(x))\n",
            "    [1 2 3 4 5 6]\n",
            "    \n",
            "    >>> print(x.reshape(-1))\n",
            "    [1 2 3 4 5 6]\n",
            "    \n",
            "    >>> print(np.ravel(x, order='F'))\n",
            "    [1 4 2 5 3 6]\n",
            "    \n",
            "    When ``order`` is 'A', it will preserve the array's 'C' or 'F' ordering:\n",
            "    \n",
            "    >>> print(np.ravel(x.T))\n",
            "    [1 4 2 5 3 6]\n",
            "    >>> print(np.ravel(x.T, order='A'))\n",
            "    [1 2 3 4 5 6]\n",
            "    \n",
            "    When ``order`` is 'K', it will preserve orderings that are neither 'C'\n",
            "    nor 'F', but won't reverse axes:\n",
            "    \n",
            "    >>> a = np.arange(3)[::-1]; a\n",
            "    array([2, 1, 0])\n",
            "    >>> a.ravel(order='C')\n",
            "    array([2, 1, 0])\n",
            "    >>> a.ravel(order='K')\n",
            "    array([2, 1, 0])\n",
            "    \n",
            "    >>> a = np.arange(12).reshape(2,3,2).swapaxes(1,2); a\n",
            "    array([[[ 0,  2,  4],\n",
            "            [ 1,  3,  5]],\n",
            "           [[ 6,  8, 10],\n",
            "            [ 7,  9, 11]]])\n",
            "    >>> a.ravel(order='C')\n",
            "    array([ 0,  2,  4,  1,  3,  5,  6,  8, 10,  7,  9, 11])\n",
            "    >>> a.ravel(order='K')\n",
            "    array([ 0,  1,  2,  3,  4,  5,  6,  7,  8,  9, 10, 11])\n",
            "\n"
          ],
          "name": "stdout"
        }
      ]
    },
    {
      "cell_type": "markdown",
      "metadata": {
        "id": "addpREH--vPb",
        "colab_type": "text"
      },
      "source": [
        "Day 3"
      ]
    },
    {
      "cell_type": "markdown",
      "metadata": {
        "id": "i9PJ9W2h-8Gh",
        "colab_type": "text"
      },
      "source": [
        "Import statement"
      ]
    },
    {
      "cell_type": "code",
      "metadata": {
        "id": "nHWUc8zV-xuZ",
        "colab_type": "code",
        "colab": {}
      },
      "source": [
        "import numpy as np\n",
        "from sklearn import linear_model\n",
        "import pandas as pd\n",
        "import statsmodels.api as sm\n"
      ],
      "execution_count": 0,
      "outputs": []
    },
    {
      "cell_type": "markdown",
      "metadata": {
        "id": "Kiu4vzW0_Jig",
        "colab_type": "text"
      },
      "source": [
        "Load cars data file\n"
      ]
    },
    {
      "cell_type": "code",
      "metadata": {
        "id": "_hZEnCpf_NpM",
        "colab_type": "code",
        "outputId": "83282f2e-0e6e-4d57-f92f-3e33df3ca454",
        "colab": {
          "resources": {
            "http://localhost:8080/nbextensions/google.colab/files.js": {
              "data": "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",
              "ok": true,
              "headers": [
                [
                  "content-type",
                  "application/javascript"
                ]
              ],
              "status": 200,
              "status_text": ""
            }
          },
          "base_uri": "https://localhost:8080/",
          "height": 75
        }
      },
      "source": [
        "from google.colab import files\n",
        "uploaded = files.upload() "
      ],
      "execution_count": 0,
      "outputs": [
        {
          "output_type": "display_data",
          "data": {
            "text/html": [
              "\n",
              "     <input type=\"file\" id=\"files-4a2c2ec2-24a8-4f02-a35b-01afdf47a29c\" name=\"files[]\" multiple disabled />\n",
              "     <output id=\"result-4a2c2ec2-24a8-4f02-a35b-01afdf47a29c\">\n",
              "      Upload widget is only available when the cell has been executed in the\n",
              "      current browser session. Please rerun this cell to enable.\n",
              "      </output>\n",
              "      <script src=\"/nbextensions/google.colab/files.js\"></script> "
            ],
            "text/plain": [
              "<IPython.core.display.HTML object>"
            ]
          },
          "metadata": {
            "tags": []
          }
        },
        {
          "output_type": "stream",
          "text": [
            "Saving concrete.csv to concrete.csv\n"
          ],
          "name": "stdout"
        }
      ]
    },
    {
      "cell_type": "code",
      "metadata": {
        "id": "CPjiDS03AMwu",
        "colab_type": "code",
        "outputId": "ad0b6fe1-b72d-44d0-80ad-a302d890c2ea",
        "colab": {
          "base_uri": "https://localhost:8080/",
          "height": 140
        }
      },
      "source": [
        "cars = sm.datasets.get_rdataset('mtcars').data\n",
        "# print(cars.head(4))\n",
        "\n",
        "X = np.array(cars.qsec).reshape(-1,1)\n",
        "W = np.array(cars.disp).reshape(-1,1)\n",
        "y = cars.mpg\n",
        "\n",
        "lm = linear_model.LinearRegression()\n",
        "model2 = lm.fit(X, y)\n",
        "model1 = lm.fit(W, y)\n",
        "\n",
        "predictions1 = model2.predict(X)\n",
        "predictions2 = lm.predict(W)\n",
        "\n",
        "print('R square is %1.3f' %model2.score(X,y))\n",
        "print('R square is %1.3f' %lm.score(W,y))\n"
      ],
      "execution_count": 0,
      "outputs": [
        {
          "output_type": "stream",
          "text": [
            "                 mpg  cyl   disp   hp  drat     wt   qsec  vs  am  gear  carb\n",
            "Mazda RX4       21.0    6  160.0  110  3.90  2.620  16.46   0   1     4     4\n",
            "Mazda RX4 Wag   21.0    6  160.0  110  3.90  2.875  17.02   0   1     4     4\n",
            "Datsun 710      22.8    4  108.0   93  3.85  2.320  18.61   1   1     4     1\n",
            "Hornet 4 Drive  21.4    6  258.0  110  3.08  3.215  19.44   1   0     3     1\n",
            "R square is -2.198\n",
            "R square is 0.718\n"
          ],
          "name": "stdout"
        }
      ]
    },
    {
      "cell_type": "code",
      "metadata": {
        "id": "MdAbZZ4-Agc3",
        "colab_type": "code",
        "outputId": "d92ff0db-0d51-4f9c-8145-58b88acb3949",
        "colab": {
          "base_uri": "https://localhost:8080/",
          "height": 35
        }
      },
      "source": [
        "\n",
        "import numpy as np\n",
        "from sklearn import linear_model\n",
        "import pandas as pd\n",
        "import statsmodels.api as sm\n",
        "\n",
        "cars = sm.datasets.get_rdataset('mtcars').data\n",
        "\n",
        "#X = np.array(cars.wt), np.array(cars.disp)\n",
        "X = np.array(cars[['cyl', 'disp', 'hp', 'drat', 'wt', 'qsec', 'vs', 'am', 'gear', 'carb']])\n",
        "y = cars.mpg\n",
        "\n",
        "lm = linear_model.LinearRegression()\n",
        "model = lm.fit(X, y)\n",
        "\n",
        "predictions = lm.predict(X)\n",
        "print('R square is %1.3f' %lm.score(X,y))"
      ],
      "execution_count": 0,
      "outputs": [
        {
          "output_type": "stream",
          "text": [
            "R square is 0.869\n"
          ],
          "name": "stdout"
        }
      ]
    },
    {
      "cell_type": "markdown",
      "metadata": {
        "id": "pZtZT5ex4A0h",
        "colab_type": "text"
      },
      "source": [
        "Automatic Liner regression building -- TODO:"
      ]
    },
    {
      "cell_type": "markdown",
      "metadata": {
        "id": "Dt5jRqwz6lQm",
        "colab_type": "text"
      },
      "source": [
        "Liner Regression model on Cement data - check VIF"
      ]
    },
    {
      "cell_type": "code",
      "metadata": {
        "id": "xEq9opRGOnHO",
        "colab_type": "code",
        "outputId": "567960bc-5f6f-41b6-ce08-27cae50f1407",
        "colab": {
          "base_uri": "https://localhost:8080/",
          "height": 220
        }
      },
      "source": [
        "import pandas as pd\n",
        "\n",
        "concrete = pd.read_csv('concrete.csv')\n",
        "\n",
        "print(concrete.shape)\n",
        "concrete.head()\n",
        "\n"
      ],
      "execution_count": 0,
      "outputs": [
        {
          "output_type": "stream",
          "text": [
            "(1030, 9)\n"
          ],
          "name": "stdout"
        },
        {
          "output_type": "execute_result",
          "data": {
            "text/html": [
              "<div>\n",
              "<style scoped>\n",
              "    .dataframe tbody tr th:only-of-type {\n",
              "        vertical-align: middle;\n",
              "    }\n",
              "\n",
              "    .dataframe tbody tr th {\n",
              "        vertical-align: top;\n",
              "    }\n",
              "\n",
              "    .dataframe thead th {\n",
              "        text-align: right;\n",
              "    }\n",
              "</style>\n",
              "<table border=\"1\" class=\"dataframe\">\n",
              "  <thead>\n",
              "    <tr style=\"text-align: right;\">\n",
              "      <th></th>\n",
              "      <th>cement</th>\n",
              "      <th>slag</th>\n",
              "      <th>ash</th>\n",
              "      <th>water</th>\n",
              "      <th>superplastic</th>\n",
              "      <th>coarseagg</th>\n",
              "      <th>fineagg</th>\n",
              "      <th>age</th>\n",
              "      <th>strength</th>\n",
              "    </tr>\n",
              "  </thead>\n",
              "  <tbody>\n",
              "    <tr>\n",
              "      <th>0</th>\n",
              "      <td>141.3</td>\n",
              "      <td>212.0</td>\n",
              "      <td>0.0</td>\n",
              "      <td>203.5</td>\n",
              "      <td>0.0</td>\n",
              "      <td>971.8</td>\n",
              "      <td>748.5</td>\n",
              "      <td>28</td>\n",
              "      <td>29.89</td>\n",
              "    </tr>\n",
              "    <tr>\n",
              "      <th>1</th>\n",
              "      <td>168.9</td>\n",
              "      <td>42.2</td>\n",
              "      <td>124.3</td>\n",
              "      <td>158.3</td>\n",
              "      <td>10.8</td>\n",
              "      <td>1080.8</td>\n",
              "      <td>796.2</td>\n",
              "      <td>14</td>\n",
              "      <td>23.51</td>\n",
              "    </tr>\n",
              "    <tr>\n",
              "      <th>2</th>\n",
              "      <td>250.0</td>\n",
              "      <td>0.0</td>\n",
              "      <td>95.7</td>\n",
              "      <td>187.4</td>\n",
              "      <td>5.5</td>\n",
              "      <td>956.9</td>\n",
              "      <td>861.2</td>\n",
              "      <td>28</td>\n",
              "      <td>29.22</td>\n",
              "    </tr>\n",
              "    <tr>\n",
              "      <th>3</th>\n",
              "      <td>266.0</td>\n",
              "      <td>114.0</td>\n",
              "      <td>0.0</td>\n",
              "      <td>228.0</td>\n",
              "      <td>0.0</td>\n",
              "      <td>932.0</td>\n",
              "      <td>670.0</td>\n",
              "      <td>28</td>\n",
              "      <td>45.85</td>\n",
              "    </tr>\n",
              "    <tr>\n",
              "      <th>4</th>\n",
              "      <td>154.8</td>\n",
              "      <td>183.4</td>\n",
              "      <td>0.0</td>\n",
              "      <td>193.3</td>\n",
              "      <td>9.1</td>\n",
              "      <td>1047.4</td>\n",
              "      <td>696.7</td>\n",
              "      <td>28</td>\n",
              "      <td>18.29</td>\n",
              "    </tr>\n",
              "  </tbody>\n",
              "</table>\n",
              "</div>"
            ],
            "text/plain": [
              "   cement   slag    ash  water  superplastic  coarseagg  fineagg  age  \\\n",
              "0   141.3  212.0    0.0  203.5           0.0      971.8    748.5   28   \n",
              "1   168.9   42.2  124.3  158.3          10.8     1080.8    796.2   14   \n",
              "2   250.0    0.0   95.7  187.4           5.5      956.9    861.2   28   \n",
              "3   266.0  114.0    0.0  228.0           0.0      932.0    670.0   28   \n",
              "4   154.8  183.4    0.0  193.3           9.1     1047.4    696.7   28   \n",
              "\n",
              "   strength  \n",
              "0     29.89  \n",
              "1     23.51  \n",
              "2     29.22  \n",
              "3     45.85  \n",
              "4     18.29  "
            ]
          },
          "metadata": {
            "tags": []
          },
          "execution_count": 15
        }
      ]
    },
    {
      "cell_type": "markdown",
      "metadata": {
        "id": "BYOM-P1eDWUp",
        "colab_type": "text"
      },
      "source": [
        "Modal 'Strength'  all features, Declared X"
      ]
    },
    {
      "cell_type": "code",
      "metadata": {
        "id": "J6XP8PaYD4Kt",
        "colab_type": "code",
        "outputId": "ba5b6818-b837-4cbe-c37a-ce35da98fa7e",
        "colab": {
          "base_uri": "https://localhost:8080/",
          "height": 123
        }
      },
      "source": [
        "X = concrete[[\"cement\",\"slag\",\"ash\",\"water\",\"superplastic\",\"coarseagg\",\"fineagg\",\"age\"]]\n",
        "print(X.head())"
      ],
      "execution_count": 0,
      "outputs": [
        {
          "output_type": "stream",
          "text": [
            "   cement   slag    ash  water  superplastic  coarseagg  fineagg  age\n",
            "0   141.3  212.0    0.0  203.5           0.0      971.8    748.5   28\n",
            "1   168.9   42.2  124.3  158.3          10.8     1080.8    796.2   14\n",
            "2   250.0    0.0   95.7  187.4           5.5      956.9    861.2   28\n",
            "3   266.0  114.0    0.0  228.0           0.0      932.0    670.0   28\n",
            "4   154.8  183.4    0.0  193.3           9.1     1047.4    696.7   28\n"
          ],
          "name": "stdout"
        }
      ]
    },
    {
      "cell_type": "markdown",
      "metadata": {
        "id": "g_nslahOEZ7D",
        "colab_type": "text"
      },
      "source": [
        "Declared Y"
      ]
    },
    {
      "cell_type": "code",
      "metadata": {
        "id": "SCfD9aKYCVjV",
        "colab_type": "code",
        "outputId": "f94a6399-68ac-4908-e2ad-4d675850cd0c",
        "colab": {
          "base_uri": "https://localhost:8080/",
          "height": 35
        }
      },
      "source": [
        "import numpy as np\n",
        "Y = np.array(concrete.strength)\n",
        "print (Y[0:5])"
      ],
      "execution_count": 0,
      "outputs": [
        {
          "output_type": "stream",
          "text": [
            "[29.89 23.51 29.22 45.85 18.29]\n"
          ],
          "name": "stdout"
        }
      ]
    },
    {
      "cell_type": "markdown",
      "metadata": {
        "id": "G-c_Mbz_GTqZ",
        "colab_type": "text"
      },
      "source": [
        "Create Model for X all feature except strength"
      ]
    },
    {
      "cell_type": "code",
      "metadata": {
        "id": "Qsb59-V4Gbg-",
        "colab_type": "code",
        "outputId": "1c475f18-7c6e-4572-e023-dc72a22d4e8f",
        "colab": {
          "base_uri": "https://localhost:8080/",
          "height": 70
        }
      },
      "source": [
        "from sklearn import linear_model\n",
        "lm = linear_model.LinearRegression();\n",
        "modal = lm.fit(X,Y)\n",
        "print (modal)\n",
        "lm.score(X,Y)\n",
        "# modal.summary"
      ],
      "execution_count": 0,
      "outputs": [
        {
          "output_type": "stream",
          "text": [
            "LinearRegression(copy_X=True, fit_intercept=True, n_jobs=None,\n",
            "         normalize=False)\n"
          ],
          "name": "stdout"
        },
        {
          "output_type": "execute_result",
          "data": {
            "text/plain": [
              "0.6155198704142721"
            ]
          },
          "metadata": {
            "tags": []
          },
          "execution_count": 36
        }
      ]
    },
    {
      "cell_type": "markdown",
      "metadata": {
        "id": "5avyCYihJq9h",
        "colab_type": "text"
      },
      "source": [
        "VIF"
      ]
    },
    {
      "cell_type": "code",
      "metadata": {
        "id": "B_6traSND3AO",
        "colab_type": "code",
        "outputId": "087734a1-31d1-466d-90ec-d7900848aca5",
        "colab": {
          "base_uri": "https://localhost:8080/",
          "height": 158
        }
      },
      "source": [
        "from statsmodels.stats.outliers_influence import variance_inflation_factor\n",
        "[variance_inflation_factor(X.values, i) for i in range(X.shape[1])]\n",
        "# for j in range(1,X.shape[1]):\n",
        "#   print(j)\n",
        "# X.shape"
      ],
      "execution_count": 0,
      "outputs": [
        {
          "output_type": "execute_result",
          "data": {
            "text/plain": [
              "[15.456716721850174,\n",
              " 3.32912716785822,\n",
              " 4.1478331464409814,\n",
              " 82.1575690843567,\n",
              " 5.4710937277294125,\n",
              " 84.9557786410409,\n",
              " 72.79099547091855,\n",
              " 1.699459271414487]"
            ]
          },
          "metadata": {
            "tags": []
          },
          "execution_count": 42
        }
      ]
    },
    {
      "cell_type": "code",
      "metadata": {
        "id": "Sxc39jRWE8lp",
        "colab_type": "code",
        "colab": {}
      },
      "source": [
        ""
      ],
      "execution_count": 0,
      "outputs": []
    },
    {
      "cell_type": "markdown",
      "metadata": {
        "id": "2d9f3Ou6Kwnu",
        "colab_type": "text"
      },
      "source": [
        "Drop columns/features to make VIF less 5"
      ]
    },
    {
      "cell_type": "code",
      "metadata": {
        "id": "rFJ1Akr3K3x0",
        "colab_type": "code",
        "outputId": "2849b6ec-f05f-4b77-fd9a-eb569d390ca7",
        "colab": {
          "base_uri": "https://localhost:8080/",
          "height": 105
        }
      },
      "source": [
        "# X = concrete[[\"cement\",\"slag\",\"ash\",\"water\",\"superplastic\",\"coarseagg\",\"fineagg\",\"age\"]]\n",
        "X = concrete[[\"slag\",\"ash\",\"superplastic\",\"fineagg\",\"age\"]]\n",
        "from statsmodels.stats.outliers_influence import variance_inflation_factor\n",
        "[variance_inflation_factor(X.values, i) for i in range(X.shape[1])]"
      ],
      "execution_count": 0,
      "outputs": [
        {
          "output_type": "execute_result",
          "data": {
            "text/plain": [
              "[1.8620246301030539,\n",
              " 2.2693887805673407,\n",
              " 2.6399971969743268,\n",
              " 4.25499522307153,\n",
              " 1.5431900761572044]"
            ]
          },
          "metadata": {
            "tags": []
          },
          "execution_count": 50
        }
      ]
    },
    {
      "cell_type": "markdown",
      "metadata": {
        "id": "XnL-bePVNSv0",
        "colab_type": "text"
      },
      "source": [
        "Create OLS Modal"
      ]
    },
    {
      "cell_type": "code",
      "metadata": {
        "id": "1YZeGMHcLeTr",
        "colab_type": "code",
        "outputId": "36dc1b8f-7555-46be-e012-9726bf86d3e7",
        "colab": {
          "base_uri": "https://localhost:8080/",
          "height": 651
        }
      },
      "source": [
        "import statsmodels.api as sm\n",
        "import numpy as np\n",
        "X= concrete[[\"cement\",\"slag\",\"ash\",\"water\",\"superplastic\",\"coarseagg\",\"fineagg\",\"age\"]]\n",
        "Y = np.array(concrete.strength)\n",
        "\n",
        "X = sm.add_constant(X)\n",
        "\n",
        "modal = sm.OLS(Y,X).fit()\n",
        "predictions = modal.predict(X)\n",
        "print(modal.summary())\n"
      ],
      "execution_count": 0,
      "outputs": [
        {
          "output_type": "stream",
          "text": [
            "                            OLS Regression Results                            \n",
            "==============================================================================\n",
            "Dep. Variable:                      y   R-squared:                       0.616\n",
            "Model:                            OLS   Adj. R-squared:                  0.613\n",
            "Method:                 Least Squares   F-statistic:                     204.3\n",
            "Date:                Wed, 08 May 2019   Prob (F-statistic):          6.29e-206\n",
            "Time:                        07:00:54   Log-Likelihood:                -3869.0\n",
            "No. Observations:                1030   AIC:                             7756.\n",
            "Df Residuals:                    1021   BIC:                             7800.\n",
            "Df Model:                           8                                         \n",
            "Covariance Type:            nonrobust                                         \n",
            "================================================================================\n",
            "                   coef    std err          t      P>|t|      [0.025      0.975]\n",
            "--------------------------------------------------------------------------------\n",
            "const          -23.3312     26.586     -0.878      0.380     -75.500      28.837\n",
            "cement           0.1198      0.008     14.113      0.000       0.103       0.136\n",
            "slag             0.1039      0.010     10.247      0.000       0.084       0.124\n",
            "ash              0.0879      0.013      6.988      0.000       0.063       0.113\n",
            "water           -0.1499      0.040     -3.731      0.000      -0.229      -0.071\n",
            "superplastic     0.2922      0.093      3.128      0.002       0.109       0.476\n",
            "coarseagg        0.0181      0.009      1.926      0.054      -0.000       0.037\n",
            "fineagg          0.0202      0.011      1.887      0.059      -0.001       0.041\n",
            "age              0.1142      0.005     21.046      0.000       0.104       0.125\n",
            "==============================================================================\n",
            "Omnibus:                        5.378   Durbin-Watson:                   1.870\n",
            "Prob(Omnibus):                  0.068   Jarque-Bera (JB):                5.304\n",
            "Skew:                          -0.174   Prob(JB):                       0.0705\n",
            "Kurtosis:                       3.045   Cond. No.                     1.06e+05\n",
            "==============================================================================\n",
            "\n",
            "Warnings:\n",
            "[1] Standard Errors assume that the covariance matrix of the errors is correctly specified.\n",
            "[2] The condition number is large, 1.06e+05. This might indicate that there are\n",
            "strong multicollinearity or other numerical problems.\n"
          ],
          "name": "stdout"
        },
        {
          "output_type": "stream",
          "text": [
            "/usr/local/lib/python3.6/dist-packages/numpy/core/fromnumeric.py:2389: FutureWarning: Method .ptp is deprecated and will be removed in a future version. Use numpy.ptp instead.\n",
            "  return ptp(axis=axis, out=out, **kwargs)\n"
          ],
          "name": "stderr"
        }
      ]
    },
    {
      "cell_type": "markdown",
      "metadata": {
        "id": "gH461-1Zgmdh",
        "colab_type": "text"
      },
      "source": [
        "# **Logistic Regression** (Logistic Model)"
      ]
    },
    {
      "cell_type": "markdown",
      "metadata": {
        "id": "Gfkw9ByVirPA",
        "colab_type": "text"
      },
      "source": [
        "stats modal - Logit Model"
      ]
    },
    {
      "cell_type": "code",
      "metadata": {
        "id": "kXXWakriPESr",
        "colab_type": "code",
        "outputId": "c93b8f88-a3ce-4b59-cfa0-a68cc1905e42",
        "colab": {
          "resources": {
            "http://localhost:8080/nbextensions/google.colab/files.js": {
              "data": "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",
              "ok": true,
              "headers": [
                [
                  "content-type",
                  "application/javascript"
                ]
              ],
              "status": 200,
              "status_text": ""
            }
          },
          "base_uri": "https://localhost:8080/",
          "height": 75
        }
      },
      "source": [
        "# upload Data\n",
        "from google.colab import files\n",
        "uploads = files.upload()\n"
      ],
      "execution_count": 0,
      "outputs": [
        {
          "output_type": "display_data",
          "data": {
            "text/html": [
              "\n",
              "     <input type=\"file\" id=\"files-328de5e3-7d02-435b-b31d-928306b66515\" name=\"files[]\" multiple disabled />\n",
              "     <output id=\"result-328de5e3-7d02-435b-b31d-928306b66515\">\n",
              "      Upload widget is only available when the cell has been executed in the\n",
              "      current browser session. Please rerun this cell to enable.\n",
              "      </output>\n",
              "      <script src=\"/nbextensions/google.colab/files.js\"></script> "
            ],
            "text/plain": [
              "<IPython.core.display.HTML object>"
            ]
          },
          "metadata": {
            "tags": []
          }
        },
        {
          "output_type": "stream",
          "text": [
            "Saving wisc_bc_data.csv to wisc_bc_data.csv\n"
          ],
          "name": "stdout"
        }
      ]
    },
    {
      "cell_type": "code",
      "metadata": {
        "id": "bi5BXxDclCQg",
        "colab_type": "code",
        "outputId": "3902b53f-82fc-4b64-9490-ba51682e7280",
        "colab": {
          "base_uri": "https://localhost:8080/",
          "height": 35
        }
      },
      "source": [
        "#read data\n",
        "import pandas as pd\n",
        "wisc_df = pd.read_csv('wisc_bc_data.csv')\n"
      ],
      "execution_count": 0,
      "outputs": [
        {
          "output_type": "execute_result",
          "data": {
            "text/plain": [
              "(569, 32)"
            ]
          },
          "metadata": {
            "tags": []
          },
          "execution_count": 57
        }
      ]
    },
    {
      "cell_type": "code",
      "metadata": {
        "id": "mh_UNzjClfzH",
        "colab_type": "code",
        "outputId": "da63d94e-0279-4488-8075-ecaa5f55e94a",
        "colab": {
          "base_uri": "https://localhost:8080/",
          "height": 35
        }
      },
      "source": [
        "#shape\n",
        "wisc_df.shape"
      ],
      "execution_count": 0,
      "outputs": [
        {
          "output_type": "execute_result",
          "data": {
            "text/plain": [
              "(569, 32)"
            ]
          },
          "metadata": {
            "tags": []
          },
          "execution_count": 58
        }
      ]
    },
    {
      "cell_type": "code",
      "metadata": {
        "id": "BeptbvAGlnh2",
        "colab_type": "code",
        "outputId": "a833c406-4cdc-4b16-b004-d8b6ec1ce0a1",
        "colab": {
          "base_uri": "https://localhost:8080/",
          "height": 252
        }
      },
      "source": [
        "#head\n",
        "wisc_df.head()"
      ],
      "execution_count": 0,
      "outputs": [
        {
          "output_type": "execute_result",
          "data": {
            "text/html": [
              "<div>\n",
              "<style scoped>\n",
              "    .dataframe tbody tr th:only-of-type {\n",
              "        vertical-align: middle;\n",
              "    }\n",
              "\n",
              "    .dataframe tbody tr th {\n",
              "        vertical-align: top;\n",
              "    }\n",
              "\n",
              "    .dataframe thead th {\n",
              "        text-align: right;\n",
              "    }\n",
              "</style>\n",
              "<table border=\"1\" class=\"dataframe\">\n",
              "  <thead>\n",
              "    <tr style=\"text-align: right;\">\n",
              "      <th></th>\n",
              "      <th>id</th>\n",
              "      <th>diagnosis</th>\n",
              "      <th>radius_mean</th>\n",
              "      <th>texture_mean</th>\n",
              "      <th>perimeter_mean</th>\n",
              "      <th>area_mean</th>\n",
              "      <th>smoothness_mean</th>\n",
              "      <th>compactness_mean</th>\n",
              "      <th>concavity_mean</th>\n",
              "      <th>points_mean</th>\n",
              "      <th>...</th>\n",
              "      <th>radius_worst</th>\n",
              "      <th>texture_worst</th>\n",
              "      <th>perimeter_worst</th>\n",
              "      <th>area_worst</th>\n",
              "      <th>smoothness_worst</th>\n",
              "      <th>compactness_worst</th>\n",
              "      <th>concavity_worst</th>\n",
              "      <th>points_worst</th>\n",
              "      <th>symmetry_worst</th>\n",
              "      <th>dimension_worst</th>\n",
              "    </tr>\n",
              "  </thead>\n",
              "  <tbody>\n",
              "    <tr>\n",
              "      <th>0</th>\n",
              "      <td>87139402</td>\n",
              "      <td>B</td>\n",
              "      <td>12.32</td>\n",
              "      <td>12.39</td>\n",
              "      <td>78.85</td>\n",
              "      <td>464.1</td>\n",
              "      <td>0.10280</td>\n",
              "      <td>0.06981</td>\n",
              "      <td>0.03987</td>\n",
              "      <td>0.03700</td>\n",
              "      <td>...</td>\n",
              "      <td>13.50</td>\n",
              "      <td>15.64</td>\n",
              "      <td>86.97</td>\n",
              "      <td>549.1</td>\n",
              "      <td>0.1385</td>\n",
              "      <td>0.1266</td>\n",
              "      <td>0.12420</td>\n",
              "      <td>0.09391</td>\n",
              "      <td>0.2827</td>\n",
              "      <td>0.06771</td>\n",
              "    </tr>\n",
              "    <tr>\n",
              "      <th>1</th>\n",
              "      <td>8910251</td>\n",
              "      <td>B</td>\n",
              "      <td>10.60</td>\n",
              "      <td>18.95</td>\n",
              "      <td>69.28</td>\n",
              "      <td>346.4</td>\n",
              "      <td>0.09688</td>\n",
              "      <td>0.11470</td>\n",
              "      <td>0.06387</td>\n",
              "      <td>0.02642</td>\n",
              "      <td>...</td>\n",
              "      <td>11.88</td>\n",
              "      <td>22.94</td>\n",
              "      <td>78.28</td>\n",
              "      <td>424.8</td>\n",
              "      <td>0.1213</td>\n",
              "      <td>0.2515</td>\n",
              "      <td>0.19160</td>\n",
              "      <td>0.07926</td>\n",
              "      <td>0.2940</td>\n",
              "      <td>0.07587</td>\n",
              "    </tr>\n",
              "    <tr>\n",
              "      <th>2</th>\n",
              "      <td>905520</td>\n",
              "      <td>B</td>\n",
              "      <td>11.04</td>\n",
              "      <td>16.83</td>\n",
              "      <td>70.92</td>\n",
              "      <td>373.2</td>\n",
              "      <td>0.10770</td>\n",
              "      <td>0.07804</td>\n",
              "      <td>0.03046</td>\n",
              "      <td>0.02480</td>\n",
              "      <td>...</td>\n",
              "      <td>12.41</td>\n",
              "      <td>26.44</td>\n",
              "      <td>79.93</td>\n",
              "      <td>471.4</td>\n",
              "      <td>0.1369</td>\n",
              "      <td>0.1482</td>\n",
              "      <td>0.10670</td>\n",
              "      <td>0.07431</td>\n",
              "      <td>0.2998</td>\n",
              "      <td>0.07881</td>\n",
              "    </tr>\n",
              "    <tr>\n",
              "      <th>3</th>\n",
              "      <td>868871</td>\n",
              "      <td>B</td>\n",
              "      <td>11.28</td>\n",
              "      <td>13.39</td>\n",
              "      <td>73.00</td>\n",
              "      <td>384.8</td>\n",
              "      <td>0.11640</td>\n",
              "      <td>0.11360</td>\n",
              "      <td>0.04635</td>\n",
              "      <td>0.04796</td>\n",
              "      <td>...</td>\n",
              "      <td>11.92</td>\n",
              "      <td>15.77</td>\n",
              "      <td>76.53</td>\n",
              "      <td>434.0</td>\n",
              "      <td>0.1367</td>\n",
              "      <td>0.1822</td>\n",
              "      <td>0.08669</td>\n",
              "      <td>0.08611</td>\n",
              "      <td>0.2102</td>\n",
              "      <td>0.06784</td>\n",
              "    </tr>\n",
              "    <tr>\n",
              "      <th>4</th>\n",
              "      <td>9012568</td>\n",
              "      <td>B</td>\n",
              "      <td>15.19</td>\n",
              "      <td>13.21</td>\n",
              "      <td>97.65</td>\n",
              "      <td>711.8</td>\n",
              "      <td>0.07963</td>\n",
              "      <td>0.06934</td>\n",
              "      <td>0.03393</td>\n",
              "      <td>0.02657</td>\n",
              "      <td>...</td>\n",
              "      <td>16.20</td>\n",
              "      <td>15.73</td>\n",
              "      <td>104.50</td>\n",
              "      <td>819.1</td>\n",
              "      <td>0.1126</td>\n",
              "      <td>0.1737</td>\n",
              "      <td>0.13620</td>\n",
              "      <td>0.08178</td>\n",
              "      <td>0.2487</td>\n",
              "      <td>0.06766</td>\n",
              "    </tr>\n",
              "  </tbody>\n",
              "</table>\n",
              "<p>5 rows × 32 columns</p>\n",
              "</div>"
            ],
            "text/plain": [
              "         id diagnosis  radius_mean  texture_mean  perimeter_mean  area_mean  \\\n",
              "0  87139402         B        12.32         12.39           78.85      464.1   \n",
              "1   8910251         B        10.60         18.95           69.28      346.4   \n",
              "2    905520         B        11.04         16.83           70.92      373.2   \n",
              "3    868871         B        11.28         13.39           73.00      384.8   \n",
              "4   9012568         B        15.19         13.21           97.65      711.8   \n",
              "\n",
              "   smoothness_mean  compactness_mean  concavity_mean  points_mean  ...  \\\n",
              "0          0.10280           0.06981         0.03987      0.03700  ...   \n",
              "1          0.09688           0.11470         0.06387      0.02642  ...   \n",
              "2          0.10770           0.07804         0.03046      0.02480  ...   \n",
              "3          0.11640           0.11360         0.04635      0.04796  ...   \n",
              "4          0.07963           0.06934         0.03393      0.02657  ...   \n",
              "\n",
              "   radius_worst  texture_worst  perimeter_worst  area_worst  smoothness_worst  \\\n",
              "0         13.50          15.64            86.97       549.1            0.1385   \n",
              "1         11.88          22.94            78.28       424.8            0.1213   \n",
              "2         12.41          26.44            79.93       471.4            0.1369   \n",
              "3         11.92          15.77            76.53       434.0            0.1367   \n",
              "4         16.20          15.73           104.50       819.1            0.1126   \n",
              "\n",
              "   compactness_worst  concavity_worst  points_worst  symmetry_worst  \\\n",
              "0             0.1266          0.12420       0.09391          0.2827   \n",
              "1             0.2515          0.19160       0.07926          0.2940   \n",
              "2             0.1482          0.10670       0.07431          0.2998   \n",
              "3             0.1822          0.08669       0.08611          0.2102   \n",
              "4             0.1737          0.13620       0.08178          0.2487   \n",
              "\n",
              "   dimension_worst  \n",
              "0          0.06771  \n",
              "1          0.07587  \n",
              "2          0.07881  \n",
              "3          0.06784  \n",
              "4          0.06766  \n",
              "\n",
              "[5 rows x 32 columns]"
            ]
          },
          "metadata": {
            "tags": []
          },
          "execution_count": 59
        }
      ]
    },
    {
      "cell_type": "code",
      "metadata": {
        "id": "FuyskLG-lrUY",
        "colab_type": "code",
        "outputId": "70910022-60c1-486b-c2dd-3d61f2b4bb93",
        "colab": {
          "base_uri": "https://localhost:8080/",
          "height": 55
        }
      },
      "source": [
        "\n",
        "import numpy as np\n",
        "#create model\n",
        "print(list(wisc_df))\n"
      ],
      "execution_count": 0,
      "outputs": [
        {
          "output_type": "stream",
          "text": [
            "['id', 'diagnosis', 'radius_mean', 'texture_mean', 'perimeter_mean', 'area_mean', 'smoothness_mean', 'compactness_mean', 'concavity_mean', 'points_mean', 'symmetry_mean', 'dimension_mean', 'radius_se', 'texture_se', 'perimeter_se', 'area_se', 'smoothness_se', 'compactness_se', 'concavity_se', 'points_se', 'symmetry_se', 'dimension_se', 'radius_worst', 'texture_worst', 'perimeter_worst', 'area_worst', 'smoothness_worst', 'compactness_worst', 'concavity_worst', 'points_worst', 'symmetry_worst', 'dimension_worst']\n"
          ],
          "name": "stdout"
        }
      ]
    },
    {
      "cell_type": "markdown",
      "metadata": {
        "id": "PohitS_KqWm0",
        "colab_type": "text"
      },
      "source": [
        "Create X"
      ]
    },
    {
      "cell_type": "code",
      "metadata": {
        "id": "AZYBEkfQnpAP",
        "colab_type": "code",
        "outputId": "1796116e-f251-40b4-a4ef-4f0482cf2317",
        "colab": {
          "base_uri": "https://localhost:8080/",
          "height": 35
        }
      },
      "source": [
        "# X = np.array(wisc_df[['id', 'radius_mean', 'texture_mean', 'perimeter_mean', 'area_mean', 'smoothness_mean', 'compactness_mean', 'concavity_mean', 'points_mean', 'symmetry_mean', 'dimension_mean', 'radius_se', 'texture_se', 'perimeter_se', 'area_se', 'smoothness_se', 'compactness_se', 'concavity_se', 'points_se', 'symmetry_se', 'dimension_se', 'radius_worst', 'texture_worst', 'perimeter_worst', 'area_worst', 'smoothness_worst', 'compactness_worst', 'concavity_worst', 'points_worst', 'symmetry_worst', 'dimension_worst']])\n",
        "# cancer = wisc_df.copy()\n",
        "\n",
        "# cancer.drop(['id','diagnosis'],axis=1)\n",
        "# print(list(cancer.drop(['id','diagnosis'],axis=1)))\n",
        "# print(list(cancer))\n",
        "# list(wisc_df.drop(['id','diagnosis'],axis=1))\n",
        "X = np.array(wisc_df[list(wisc_df.drop(['id','diagnosis'],axis=1))])\n",
        "X\n",
        "X.shape\n"
      ],
      "execution_count": 0,
      "outputs": [
        {
          "output_type": "execute_result",
          "data": {
            "text/plain": [
              "(569, 30)"
            ]
          },
          "metadata": {
            "tags": []
          },
          "execution_count": 100
        }
      ]
    },
    {
      "cell_type": "markdown",
      "metadata": {
        "id": "bAUh2T6oqbj1",
        "colab_type": "text"
      },
      "source": [
        "Create Y"
      ]
    },
    {
      "cell_type": "code",
      "metadata": {
        "id": "5I6pofBnqz_U",
        "colab_type": "code",
        "outputId": "9f18c775-97bc-4323-cf56-8e32a89d2775",
        "colab": {
          "base_uri": "https://localhost:8080/",
          "height": 791
        }
      },
      "source": [
        "Y = np.array(wisc_df[\"diagnosis\"].map({'B':'0','M':'1'}))\n",
        "Y"
      ],
      "execution_count": 0,
      "outputs": [
        {
          "output_type": "execute_result",
          "data": {
            "text/plain": [
              "array(['0', '0', '0', '0', '0', '0', '0', '1', '0', '0', '1', '0', '0',\n",
              "       '0', '1', '0', '0', '0', '1', '0', '0', '0', '0', '0', '0', '1',\n",
              "       '0', '1', '0', '0', '0', '1', '1', '0', '0', '0', '1', '0', '1',\n",
              "       '1', '1', '1', '1', '0', '0', '1', '0', '1', '0', '0', '1', '0',\n",
              "       '0', '0', '1', '0', '0', '0', '1', '1', '1', '1', '1', '1', '1',\n",
              "       '0', '0', '0', '0', '0', '1', '0', '0', '0', '0', '0', '1', '0',\n",
              "       '0', '1', '0', '0', '0', '0', '0', '0', '0', '0', '1', '0', '0',\n",
              "       '0', '1', '0', '1', '1', '0', '0', '0', '1', '0', '0', '0', '1',\n",
              "       '0', '0', '0', '0', '0', '0', '0', '0', '1', '1', '0', '1', '1',\n",
              "       '1', '1', '0', '0', '1', '0', '1', '0', '0', '1', '1', '1', '1',\n",
              "       '1', '0', '0', '1', '0', '1', '0', '0', '1', '0', '1', '1', '1',\n",
              "       '1', '1', '0', '1', '0', '0', '0', '0', '0', '0', '0', '0', '0',\n",
              "       '0', '1', '0', '0', '0', '0', '0', '0', '1', '1', '0', '1', '0',\n",
              "       '0', '1', '1', '1', '0', '1', '0', '1', '0', '1', '0', '0', '1',\n",
              "       '0', '1', '0', '0', '1', '1', '1', '0', '1', '0', '0', '1', '1',\n",
              "       '1', '1', '0', '0', '0', '1', '0', '0', '0', '0', '1', '0', '1',\n",
              "       '0', '1', '0', '1', '1', '0', '0', '0', '0', '0', '1', '1', '0',\n",
              "       '0', '1', '0', '0', '0', '0', '1', '1', '0', '0', '0', '0', '1',\n",
              "       '0', '0', '1', '0', '0', '0', '1', '0', '0', '1', '1', '0', '0',\n",
              "       '0', '0', '0', '0', '1', '0', '1', '0', '0', '0', '0', '0', '0',\n",
              "       '0', '0', '1', '0', '1', '1', '0', '0', '0', '1', '0', '1', '0',\n",
              "       '0', '1', '1', '0', '1', '0', '0', '1', '0', '0', '0', '1', '0',\n",
              "       '1', '1', '1', '0', '0', '0', '1', '0', '1', '1', '1', '1', '0',\n",
              "       '1', '1', '0', '0', '1', '1', '1', '1', '0', '0', '0', '1', '1',\n",
              "       '0', '0', '1', '0', '1', '1', '0', '0', '0', '1', '1', '0', '0',\n",
              "       '1', '0', '1', '0', '1', '0', '0', '0', '0', '1', '0', '0', '0',\n",
              "       '1', '0', '0', '1', '1', '0', '1', '0', '0', '0', '1', '0', '0',\n",
              "       '1', '0', '0', '1', '0', '0', '0', '1', '0', '1', '1', '0', '0',\n",
              "       '0', '0', '1', '0', '0', '1', '0', '0', '0', '0', '0', '0', '0',\n",
              "       '0', '0', '0', '0', '0', '1', '1', '0', '0', '1', '0', '1', '0',\n",
              "       '1', '0', '0', '1', '0', '0', '0', '1', '1', '0', '0', '0', '1',\n",
              "       '1', '0', '1', '0', '0', '1', '0', '0', '0', '0', '0', '0', '1',\n",
              "       '0', '0', '1', '1', '0', '1', '0', '0', '0', '1', '0', '0', '0',\n",
              "       '1', '1', '1', '0', '1', '0', '0', '1', '0', '0', '0', '0', '0',\n",
              "       '1', '0', '1', '0', '0', '0', '0', '1', '0', '1', '1', '0', '0',\n",
              "       '0', '0', '1', '0', '0', '1', '1', '0', '0', '1', '0', '0', '1',\n",
              "       '0', '0', '0', '0', '0', '1', '0', '1', '0', '1', '0', '1', '0',\n",
              "       '1', '1', '0', '0', '1', '0', '1', '0', '1', '1', '1', '1', '0',\n",
              "       '0', '0', '0', '1', '1', '1', '1', '1', '1', '0', '0', '0', '0',\n",
              "       '0', '1', '1', '0', '1', '1', '0', '1', '1', '1', '1', '1', '0',\n",
              "       '0', '0', '1', '0', '0', '0', '0', '1', '0', '0', '0', '0', '0',\n",
              "       '1', '1', '0', '0', '0', '0', '0', '1', '0', '0', '1', '1', '0',\n",
              "       '0', '0', '0', '0', '0', '0', '1', '0', '0', '1', '0', '0', '0',\n",
              "       '0', '1', '0', '0', '0', '0', '0', '1', '0', '1'], dtype=object)"
            ]
          },
          "metadata": {
            "tags": []
          },
          "execution_count": 89
        }
      ]
    },
    {
      "cell_type": "markdown",
      "metadata": {
        "id": "E4hgqDrptKDA",
        "colab_type": "text"
      },
      "source": [
        "Create Model"
      ]
    },
    {
      "cell_type": "code",
      "metadata": {
        "id": "ayskwbBrs5sd",
        "colab_type": "code",
        "outputId": "79034257-172c-4cb5-fcaf-bf1dd85501fa",
        "colab": {
          "base_uri": "https://localhost:8080/",
          "height": 72
        }
      },
      "source": [
        "#import Logistic Regression\n",
        "from sklearn.linear_model import LogisticRegression\n",
        "modal = LogisticRegression().fit(X,Y)"
      ],
      "execution_count": 0,
      "outputs": [
        {
          "output_type": "stream",
          "text": [
            "/usr/local/lib/python3.6/dist-packages/sklearn/linear_model/logistic.py:433: FutureWarning: Default solver will be changed to 'lbfgs' in 0.22. Specify a solver to silence this warning.\n",
            "  FutureWarning)\n"
          ],
          "name": "stderr"
        }
      ]
    },
    {
      "cell_type": "markdown",
      "metadata": {
        "id": "TshB48Qky9DN",
        "colab_type": "text"
      },
      "source": [
        "Score/Accuracy"
      ]
    },
    {
      "cell_type": "code",
      "metadata": {
        "id": "E2R3OpjtuBzS",
        "colab_type": "code",
        "outputId": "3e6cbe6a-7250-4dc2-a298-1ce81e5bba0f",
        "colab": {
          "base_uri": "https://localhost:8080/",
          "height": 35
        }
      },
      "source": [
        "modal.score(X,Y)"
      ],
      "execution_count": 0,
      "outputs": [
        {
          "output_type": "execute_result",
          "data": {
            "text/plain": [
              "0.9595782073813708"
            ]
          },
          "metadata": {
            "tags": []
          },
          "execution_count": 96
        }
      ]
    },
    {
      "cell_type": "markdown",
      "metadata": {
        "id": "9tkaLPyu5DiL",
        "colab_type": "text"
      },
      "source": [
        "Prediction"
      ]
    },
    {
      "cell_type": "code",
      "metadata": {
        "id": "Mre4TflN5FO-",
        "colab_type": "code",
        "outputId": "b0cff270-d949-47de-d0b3-1bf5b4c5b408",
        "colab": {
          "base_uri": "https://localhost:8080/",
          "height": 791
        }
      },
      "source": [
        "predictions = modal.predict(X)\n",
        "predictions"
      ],
      "execution_count": 0,
      "outputs": [
        {
          "output_type": "execute_result",
          "data": {
            "text/plain": [
              "array(['0', '0', '0', '0', '0', '0', '0', '1', '0', '0', '1', '0', '0',\n",
              "       '0', '1', '0', '0', '0', '1', '0', '0', '0', '0', '0', '0', '0',\n",
              "       '0', '1', '0', '0', '0', '0', '1', '0', '0', '0', '1', '0', '1',\n",
              "       '1', '1', '1', '0', '0', '0', '1', '0', '1', '0', '0', '0', '0',\n",
              "       '0', '1', '1', '0', '0', '0', '1', '1', '1', '1', '1', '1', '1',\n",
              "       '0', '0', '0', '0', '0', '0', '0', '0', '1', '1', '0', '1', '0',\n",
              "       '0', '1', '0', '0', '0', '0', '0', '0', '0', '1', '1', '0', '0',\n",
              "       '0', '1', '0', '1', '1', '0', '0', '0', '1', '0', '0', '0', '1',\n",
              "       '0', '0', '0', '0', '0', '0', '0', '0', '1', '1', '0', '1', '1',\n",
              "       '1', '1', '0', '0', '1', '0', '1', '0', '0', '1', '0', '1', '0',\n",
              "       '1', '0', '0', '1', '0', '1', '0', '0', '1', '0', '1', '1', '1',\n",
              "       '1', '1', '0', '1', '0', '0', '0', '0', '0', '0', '0', '1', '0',\n",
              "       '0', '1', '0', '0', '0', '0', '0', '0', '1', '1', '0', '1', '0',\n",
              "       '0', '1', '1', '1', '0', '1', '0', '1', '0', '1', '0', '0', '1',\n",
              "       '0', '1', '0', '0', '1', '1', '1', '0', '1', '0', '0', '1', '1',\n",
              "       '1', '1', '0', '0', '0', '0', '0', '1', '0', '0', '1', '0', '0',\n",
              "       '0', '1', '0', '1', '1', '0', '0', '0', '0', '1', '1', '1', '0',\n",
              "       '0', '1', '0', '0', '0', '0', '1', '1', '0', '0', '0', '0', '1',\n",
              "       '0', '0', '1', '0', '0', '0', '1', '0', '0', '1', '1', '0', '0',\n",
              "       '1', '0', '0', '0', '1', '0', '1', '0', '0', '0', '0', '0', '0',\n",
              "       '0', '0', '1', '0', '1', '1', '0', '0', '0', '1', '0', '1', '0',\n",
              "       '0', '1', '1', '0', '1', '0', '0', '1', '0', '0', '0', '1', '0',\n",
              "       '1', '1', '1', '0', '0', '0', '1', '0', '1', '1', '1', '1', '0',\n",
              "       '1', '1', '0', '0', '1', '1', '1', '1', '0', '0', '0', '1', '1',\n",
              "       '0', '0', '1', '0', '1', '1', '0', '0', '0', '1', '1', '0', '0',\n",
              "       '1', '0', '1', '0', '1', '0', '0', '0', '0', '1', '0', '0', '0',\n",
              "       '1', '0', '0', '1', '1', '0', '1', '0', '0', '0', '1', '0', '0',\n",
              "       '1', '0', '0', '1', '0', '0', '0', '1', '0', '1', '0', '0', '0',\n",
              "       '0', '0', '1', '0', '0', '1', '0', '0', '0', '0', '0', '0', '0',\n",
              "       '0', '0', '0', '0', '0', '0', '1', '0', '0', '1', '0', '1', '0',\n",
              "       '1', '0', '0', '1', '0', '0', '0', '0', '1', '0', '0', '0', '1',\n",
              "       '1', '1', '1', '0', '0', '1', '0', '0', '0', '0', '0', '0', '1',\n",
              "       '0', '0', '1', '0', '0', '1', '0', '0', '0', '1', '0', '0', '0',\n",
              "       '1', '1', '1', '0', '1', '0', '0', '1', '0', '0', '0', '0', '0',\n",
              "       '1', '0', '1', '0', '0', '0', '0', '1', '0', '1', '1', '0', '0',\n",
              "       '0', '0', '1', '0', '0', '1', '1', '0', '0', '1', '0', '0', '1',\n",
              "       '0', '0', '0', '0', '0', '1', '0', '1', '0', '1', '0', '1', '0',\n",
              "       '1', '1', '0', '0', '1', '0', '1', '0', '1', '1', '1', '1', '0',\n",
              "       '0', '0', '0', '0', '1', '1', '1', '1', '1', '0', '0', '0', '0',\n",
              "       '0', '1', '1', '0', '1', '1', '0', '1', '1', '1', '1', '1', '0',\n",
              "       '0', '0', '1', '0', '0', '0', '0', '1', '0', '0', '0', '0', '0',\n",
              "       '1', '1', '0', '0', '0', '0', '0', '1', '0', '0', '1', '1', '0',\n",
              "       '0', '0', '0', '0', '0', '0', '1', '0', '0', '1', '0', '0', '0',\n",
              "       '0', '1', '0', '0', '0', '0', '0', '1', '0', '1'], dtype=object)"
            ]
          },
          "metadata": {
            "tags": []
          },
          "execution_count": 101
        }
      ]
    },
    {
      "cell_type": "markdown",
      "metadata": {
        "id": "tv2jr5aX4sPQ",
        "colab_type": "text"
      },
      "source": [
        "Classification Matrix"
      ]
    },
    {
      "cell_type": "code",
      "metadata": {
        "id": "Pbemf_BozBAC",
        "colab_type": "code",
        "outputId": "154ac03c-6180-4150-bfa8-acd46b519c82",
        "colab": {
          "base_uri": "https://localhost:8080/",
          "height": 52
        }
      },
      "source": [
        "from sklearn import metrics\n",
        "metrics.confusion_matrix(Y, predictions)"
      ],
      "execution_count": 0,
      "outputs": [
        {
          "output_type": "execute_result",
          "data": {
            "text/plain": [
              "array([[348,   9],\n",
              "       [ 14, 198]])"
            ]
          },
          "metadata": {
            "tags": []
          },
          "execution_count": 102
        }
      ]
    },
    {
      "cell_type": "markdown",
      "metadata": {
        "id": "XNiU7c0I5k8b",
        "colab_type": "text"
      },
      "source": [
        "Precision score"
      ]
    },
    {
      "cell_type": "code",
      "metadata": {
        "id": "_HWxp6FB5Q_k",
        "colab_type": "code",
        "outputId": "3f9420d9-c128-40a8-ce65-259693771df2",
        "colab": {
          "base_uri": "https://localhost:8080/",
          "height": 87
        }
      },
      "source": [
        "from sklearn.metrics import precision_score\n",
        "print(precision_score(Y, predictions, average=None))\n",
        "print(precision_score(Y, predictions, average=\"micro\"))\n",
        "print(precision_score(Y, predictions, average=\"macro\"))\n",
        "print(precision_score(Y, predictions, average=\"weighted\"))\n"
      ],
      "execution_count": 0,
      "outputs": [
        {
          "output_type": "stream",
          "text": [
            "[0.96132597 0.95652174]\n",
            "0.9595782073813708\n",
            "0.9589238529906318\n",
            "0.9595359909690652\n"
          ],
          "name": "stdout"
        }
      ]
    },
    {
      "cell_type": "markdown",
      "metadata": {
        "id": "zHeZx4YM-kR-",
        "colab_type": "text"
      },
      "source": [
        "Recall Score"
      ]
    },
    {
      "cell_type": "code",
      "metadata": {
        "id": "l_hfIcYs-l2S",
        "colab_type": "code",
        "outputId": "f28962b5-365e-4c82-8cad-c9951e48a341",
        "colab": {
          "base_uri": "https://localhost:8080/",
          "height": 87
        }
      },
      "source": [
        "from sklearn.metrics import recall_score\n",
        "print(recall_score(Y, predictions, average=None))\n",
        "print(recall_score(Y, predictions, average=\"micro\"))\n",
        "print(recall_score(Y, predictions, average=\"macro\"))\n",
        "print(recall_score(Y, predictions, average=\"weighted\"))"
      ],
      "execution_count": 0,
      "outputs": [
        {
          "output_type": "stream",
          "text": [
            "[0.97478992 0.93396226]\n",
            "0.9595782073813708\n",
            "0.954376090058665\n",
            "0.9595782073813708\n"
          ],
          "name": "stdout"
        }
      ]
    },
    {
      "cell_type": "markdown",
      "metadata": {
        "id": "LMcmVzet-OIL",
        "colab_type": "text"
      },
      "source": [
        "F1 score"
      ]
    },
    {
      "cell_type": "code",
      "metadata": {
        "id": "-aQYUHKB8TNg",
        "colab_type": "code",
        "outputId": "86e65c6d-dd86-4550-bcea-38e12f6035bf",
        "colab": {
          "base_uri": "https://localhost:8080/",
          "height": 87
        }
      },
      "source": [
        "from sklearn.metrics import f1_score\n",
        "print(f1_score(Y, predictions, average=None))\n",
        "print(f1_score(Y, predictions, average=\"micro\"))\n",
        "print(f1_score(Y, predictions, average=\"macro\"))\n",
        "print(f1_score(Y, predictions, average=\"weighted\"))"
      ],
      "execution_count": 0,
      "outputs": [
        {
          "output_type": "stream",
          "text": [
            "[0.96801113 0.9451074 ]\n",
            "0.9595782073813708\n",
            "0.9565592625663462\n",
            "0.9594775758875367\n"
          ],
          "name": "stdout"
        }
      ]
    },
    {
      "cell_type": "markdown",
      "metadata": {
        "id": "gE-RccJdP3ip",
        "colab_type": "text"
      },
      "source": [
        "# **Loan Data**"
      ]
    },
    {
      "cell_type": "code",
      "metadata": {
        "id": "Y6VlbCOn_Bg7",
        "colab_type": "code",
        "outputId": "b4ad7ae7-fe02-4be5-94d6-9e64bdf315e5",
        "colab": {
          "resources": {
            "http://localhost:8080/nbextensions/google.colab/files.js": {
              "data": "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",
              "ok": true,
              "headers": [
                [
                  "content-type",
                  "application/javascript"
                ]
              ],
              "status": 200,
              "status_text": ""
            }
          },
          "base_uri": "https://localhost:8080/",
          "height": 75
        }
      },
      "source": [
        "# upload Data\n",
        "from google.colab import files\n",
        "uploads = files.upload()"
      ],
      "execution_count": 1,
      "outputs": [
        {
          "output_type": "display_data",
          "data": {
            "text/html": [
              "\n",
              "     <input type=\"file\" id=\"files-1afbfcf4-1122-4858-ba54-c0fa6cb3ee7e\" name=\"files[]\" multiple disabled />\n",
              "     <output id=\"result-1afbfcf4-1122-4858-ba54-c0fa6cb3ee7e\">\n",
              "      Upload widget is only available when the cell has been executed in the\n",
              "      current browser session. Please rerun this cell to enable.\n",
              "      </output>\n",
              "      <script src=\"/nbextensions/google.colab/files.js\"></script> "
            ],
            "text/plain": [
              "<IPython.core.display.HTML object>"
            ]
          },
          "metadata": {
            "tags": []
          }
        },
        {
          "output_type": "stream",
          "text": [
            "Saving loans_imputed.csv to loans_imputed.csv\n"
          ],
          "name": "stdout"
        }
      ]
    },
    {
      "cell_type": "code",
      "metadata": {
        "id": "NtekmD7MP8XX",
        "colab_type": "code",
        "colab": {}
      },
      "source": [
        "#read data\n",
        "import pandas as pd\n",
        "loan_df = pd.read_csv('loans_imputed.csv')"
      ],
      "execution_count": 0,
      "outputs": []
    },
    {
      "cell_type": "code",
      "metadata": {
        "id": "adrH9FVwQ5Vh",
        "colab_type": "code",
        "outputId": "d7feb961-61fe-4b95-e8b5-918d293225ee",
        "colab": {
          "base_uri": "https://localhost:8080/",
          "height": 35
        }
      },
      "source": [
        "#shape\n",
        "loan_df.shape"
      ],
      "execution_count": 52,
      "outputs": [
        {
          "output_type": "execute_result",
          "data": {
            "text/plain": [
              "(9578, 14)"
            ]
          },
          "metadata": {
            "tags": []
          },
          "execution_count": 52
        }
      ]
    },
    {
      "cell_type": "code",
      "metadata": {
        "id": "6wIGJRz1RQGO",
        "colab_type": "code",
        "outputId": "9fde23ee-ca6f-4444-b592-e561d516b2b8",
        "colab": {
          "base_uri": "https://localhost:8080/",
          "height": 203
        }
      },
      "source": [
        "#head\n",
        "loan_df.head()"
      ],
      "execution_count": 53,
      "outputs": [
        {
          "output_type": "execute_result",
          "data": {
            "text/html": [
              "<div>\n",
              "<style scoped>\n",
              "    .dataframe tbody tr th:only-of-type {\n",
              "        vertical-align: middle;\n",
              "    }\n",
              "\n",
              "    .dataframe tbody tr th {\n",
              "        vertical-align: top;\n",
              "    }\n",
              "\n",
              "    .dataframe thead th {\n",
              "        text-align: right;\n",
              "    }\n",
              "</style>\n",
              "<table border=\"1\" class=\"dataframe\">\n",
              "  <thead>\n",
              "    <tr style=\"text-align: right;\">\n",
              "      <th></th>\n",
              "      <th>credit.policy</th>\n",
              "      <th>purpose</th>\n",
              "      <th>int.rate</th>\n",
              "      <th>installment</th>\n",
              "      <th>log.annual.inc</th>\n",
              "      <th>dti</th>\n",
              "      <th>fico</th>\n",
              "      <th>days.with.cr.line</th>\n",
              "      <th>revol.bal</th>\n",
              "      <th>revol.util</th>\n",
              "      <th>inq.last.6mths</th>\n",
              "      <th>delinq.2yrs</th>\n",
              "      <th>pub.rec</th>\n",
              "      <th>not.fully.paid</th>\n",
              "    </tr>\n",
              "  </thead>\n",
              "  <tbody>\n",
              "    <tr>\n",
              "      <th>0</th>\n",
              "      <td>1</td>\n",
              "      <td>debt_consolidation</td>\n",
              "      <td>0.1189</td>\n",
              "      <td>829.10</td>\n",
              "      <td>11.350407</td>\n",
              "      <td>19.48</td>\n",
              "      <td>737</td>\n",
              "      <td>5639.958333</td>\n",
              "      <td>28854</td>\n",
              "      <td>52.1</td>\n",
              "      <td>0</td>\n",
              "      <td>0</td>\n",
              "      <td>0</td>\n",
              "      <td>0</td>\n",
              "    </tr>\n",
              "    <tr>\n",
              "      <th>1</th>\n",
              "      <td>1</td>\n",
              "      <td>credit_card</td>\n",
              "      <td>0.1071</td>\n",
              "      <td>228.22</td>\n",
              "      <td>11.082143</td>\n",
              "      <td>14.29</td>\n",
              "      <td>707</td>\n",
              "      <td>2760.000000</td>\n",
              "      <td>33623</td>\n",
              "      <td>76.7</td>\n",
              "      <td>0</td>\n",
              "      <td>0</td>\n",
              "      <td>0</td>\n",
              "      <td>0</td>\n",
              "    </tr>\n",
              "    <tr>\n",
              "      <th>2</th>\n",
              "      <td>1</td>\n",
              "      <td>debt_consolidation</td>\n",
              "      <td>0.1357</td>\n",
              "      <td>366.86</td>\n",
              "      <td>10.373491</td>\n",
              "      <td>11.63</td>\n",
              "      <td>682</td>\n",
              "      <td>4710.000000</td>\n",
              "      <td>3511</td>\n",
              "      <td>25.6</td>\n",
              "      <td>1</td>\n",
              "      <td>0</td>\n",
              "      <td>0</td>\n",
              "      <td>0</td>\n",
              "    </tr>\n",
              "    <tr>\n",
              "      <th>3</th>\n",
              "      <td>1</td>\n",
              "      <td>debt_consolidation</td>\n",
              "      <td>0.1008</td>\n",
              "      <td>162.34</td>\n",
              "      <td>11.350407</td>\n",
              "      <td>8.10</td>\n",
              "      <td>712</td>\n",
              "      <td>2699.958333</td>\n",
              "      <td>33667</td>\n",
              "      <td>73.2</td>\n",
              "      <td>1</td>\n",
              "      <td>0</td>\n",
              "      <td>0</td>\n",
              "      <td>0</td>\n",
              "    </tr>\n",
              "    <tr>\n",
              "      <th>4</th>\n",
              "      <td>1</td>\n",
              "      <td>credit_card</td>\n",
              "      <td>0.1426</td>\n",
              "      <td>102.92</td>\n",
              "      <td>11.299732</td>\n",
              "      <td>14.97</td>\n",
              "      <td>667</td>\n",
              "      <td>4066.000000</td>\n",
              "      <td>4740</td>\n",
              "      <td>39.5</td>\n",
              "      <td>0</td>\n",
              "      <td>1</td>\n",
              "      <td>0</td>\n",
              "      <td>0</td>\n",
              "    </tr>\n",
              "  </tbody>\n",
              "</table>\n",
              "</div>"
            ],
            "text/plain": [
              "   credit.policy             purpose  int.rate  installment  log.annual.inc  \\\n",
              "0              1  debt_consolidation    0.1189       829.10       11.350407   \n",
              "1              1         credit_card    0.1071       228.22       11.082143   \n",
              "2              1  debt_consolidation    0.1357       366.86       10.373491   \n",
              "3              1  debt_consolidation    0.1008       162.34       11.350407   \n",
              "4              1         credit_card    0.1426       102.92       11.299732   \n",
              "\n",
              "     dti  fico  days.with.cr.line  revol.bal  revol.util  inq.last.6mths  \\\n",
              "0  19.48   737        5639.958333      28854        52.1               0   \n",
              "1  14.29   707        2760.000000      33623        76.7               0   \n",
              "2  11.63   682        4710.000000       3511        25.6               1   \n",
              "3   8.10   712        2699.958333      33667        73.2               1   \n",
              "4  14.97   667        4066.000000       4740        39.5               0   \n",
              "\n",
              "   delinq.2yrs  pub.rec  not.fully.paid  \n",
              "0            0        0               0  \n",
              "1            0        0               0  \n",
              "2            0        0               0  \n",
              "3            0        0               0  \n",
              "4            1        0               0  "
            ]
          },
          "metadata": {
            "tags": []
          },
          "execution_count": 53
        }
      ]
    },
    {
      "cell_type": "code",
      "metadata": {
        "id": "-WJl5bb7RXlx",
        "colab_type": "code",
        "outputId": "74ffc683-abf0-4b1b-f659-cc4747221c4c",
        "colab": {
          "base_uri": "https://localhost:8080/",
          "height": 55
        }
      },
      "source": [
        "#column list \n",
        "import numpy as np\n",
        "print(list(loan_df))"
      ],
      "execution_count": 5,
      "outputs": [
        {
          "output_type": "stream",
          "text": [
            "['credit.policy', 'purpose', 'int.rate', 'installment', 'log.annual.inc', 'dti', 'fico', 'days.with.cr.line', 'revol.bal', 'revol.util', 'inq.last.6mths', 'delinq.2yrs', 'pub.rec', 'not.fully.paid']\n"
          ],
          "name": "stdout"
        }
      ]
    },
    {
      "cell_type": "code",
      "metadata": {
        "id": "gfEF06kcR0e4",
        "colab_type": "code",
        "outputId": "9dd08dd3-2dd6-402e-89a7-cc2769d0b10b",
        "colab": {
          "base_uri": "https://localhost:8080/",
          "height": 35
        }
      },
      "source": [
        "#Create X\n",
        "# loan_df['purpose'] = loan_df['purpose'].map({'debt_consolidation':'0','credit_card':'1','all_other':'2','educational':'3','home_improvement':'4','major_purchase':'5','small_business':'6'})\n",
        "X = np.array(loan_df[list(loan_df.drop(['credit.policy','dti'],axis=1))])\n",
        "X\n",
        "X.shape\n"
      ],
      "execution_count": 71,
      "outputs": [
        {
          "output_type": "execute_result",
          "data": {
            "text/plain": [
              "(9578, 12)"
            ]
          },
          "metadata": {
            "tags": []
          },
          "execution_count": 71
        }
      ]
    },
    {
      "cell_type": "code",
      "metadata": {
        "id": "LQM446IPSSTX",
        "colab_type": "code",
        "outputId": "02332ff8-95eb-419e-cb21-5a8df082ecd8",
        "colab": {
          "base_uri": "https://localhost:8080/",
          "height": 35
        }
      },
      "source": [
        "Y = np.array(loan_df['credit.policy'])\n",
        "Y"
      ],
      "execution_count": 55,
      "outputs": [
        {
          "output_type": "execute_result",
          "data": {
            "text/plain": [
              "array([1, 1, 1, ..., 0, 0, 0])"
            ]
          },
          "metadata": {
            "tags": []
          },
          "execution_count": 55
        }
      ]
    },
    {
      "cell_type": "code",
      "metadata": {
        "id": "irF82fcVThhn",
        "colab_type": "code",
        "outputId": "d0352dc0-0f73-425a-a43e-e804c903ff4e",
        "colab": {
          "base_uri": "https://localhost:8080/",
          "height": 72
        }
      },
      "source": [
        "#import Logistic Regression\n",
        "from sklearn.linear_model import LogisticRegression\n",
        "modal = LogisticRegression().fit(X,Y)"
      ],
      "execution_count": 69,
      "outputs": [
        {
          "output_type": "stream",
          "text": [
            "/usr/local/lib/python3.6/dist-packages/sklearn/linear_model/logistic.py:433: FutureWarning: Default solver will be changed to 'lbfgs' in 0.22. Specify a solver to silence this warning.\n",
            "  FutureWarning)\n"
          ],
          "name": "stderr"
        }
      ]
    },
    {
      "cell_type": "code",
      "metadata": {
        "id": "ujw46WAJTjxr",
        "colab_type": "code",
        "outputId": "863882e7-a676-4efd-a82c-0e8d56c1a127",
        "colab": {
          "base_uri": "https://localhost:8080/",
          "height": 52
        }
      },
      "source": [
        "print(X.shape)\n",
        "#score\n",
        "modal.score(X,Y)"
      ],
      "execution_count": 70,
      "outputs": [
        {
          "output_type": "stream",
          "text": [
            "(9578, 12)\n"
          ],
          "name": "stdout"
        },
        {
          "output_type": "execute_result",
          "data": {
            "text/plain": [
              "0.8961160993944456"
            ]
          },
          "metadata": {
            "tags": []
          },
          "execution_count": 70
        }
      ]
    },
    {
      "cell_type": "code",
      "metadata": {
        "id": "MJC5s1S5EgbK",
        "colab_type": "code",
        "colab": {}
      },
      "source": [
        "%matplotlib inline"
      ],
      "execution_count": 0,
      "outputs": []
    },
    {
      "cell_type": "code",
      "metadata": {
        "id": "p-RsDZ0lD_xA",
        "colab_type": "code",
        "colab": {
          "base_uri": "https://localhost:8080/",
          "height": 248
        },
        "outputId": "4015de98-c533-4c90-8ebd-a1145ff97bad"
      },
      "source": [
        "import matplotlib.pyplot as plt\n",
        "\n",
        "# plt.matshow(loan_df.corr())\n",
        "# plt.show()\n",
        "# import pandas as pd\n",
        "# import numpy as np\n",
        "\n",
        "rs = np.random.RandomState(0)\n",
        "df = loan_df.drop(['installment','credit.policy','fico'],axis=1) #pd.DataFrame(rs.rand(10, 10))\n",
        "corr = df.corr()\n",
        "corr.style.background_gradient(cmap='coolwarm')"
      ],
      "execution_count": 38,
      "outputs": [
        {
          "output_type": "execute_result",
          "data": {
            "text/html": [
              "<style  type=\"text/css\" >\n",
              "    #T_f264a38e_721e_11e9_801b_0242ac1c0002row0_col0 {\n",
              "            background-color:  #b40426;\n",
              "            color:  #f1f1f1;\n",
              "        }    #T_f264a38e_721e_11e9_801b_0242ac1c0002row0_col1 {\n",
              "            background-color:  #5a78e4;\n",
              "            color:  #000000;\n",
              "        }    #T_f264a38e_721e_11e9_801b_0242ac1c0002row0_col2 {\n",
              "            background-color:  #90b2fe;\n",
              "            color:  #000000;\n",
              "        }    #T_f264a38e_721e_11e9_801b_0242ac1c0002row0_col3 {\n",
              "            background-color:  #3b4cc0;\n",
              "            color:  #f1f1f1;\n",
              "        }    #T_f264a38e_721e_11e9_801b_0242ac1c0002row0_col4 {\n",
              "            background-color:  #6180e9;\n",
              "            color:  #000000;\n",
              "        }    #T_f264a38e_721e_11e9_801b_0242ac1c0002row0_col5 {\n",
              "            background-color:  #d9dce1;\n",
              "            color:  #000000;\n",
              "        }    #T_f264a38e_721e_11e9_801b_0242ac1c0002row0_col6 {\n",
              "            background-color:  #88abfd;\n",
              "            color:  #000000;\n",
              "        }    #T_f264a38e_721e_11e9_801b_0242ac1c0002row0_col7 {\n",
              "            background-color:  #779af7;\n",
              "            color:  #000000;\n",
              "        }    #T_f264a38e_721e_11e9_801b_0242ac1c0002row0_col8 {\n",
              "            background-color:  #6282ea;\n",
              "            color:  #000000;\n",
              "        }    #T_f264a38e_721e_11e9_801b_0242ac1c0002row0_col9 {\n",
              "            background-color:  #7699f6;\n",
              "            color:  #000000;\n",
              "        }    #T_f264a38e_721e_11e9_801b_0242ac1c0002row1_col0 {\n",
              "            background-color:  #6e90f2;\n",
              "            color:  #000000;\n",
              "        }    #T_f264a38e_721e_11e9_801b_0242ac1c0002row1_col1 {\n",
              "            background-color:  #b40426;\n",
              "            color:  #f1f1f1;\n",
              "        }    #T_f264a38e_721e_11e9_801b_0242ac1c0002row1_col2 {\n",
              "            background-color:  #3b4cc0;\n",
              "            color:  #f1f1f1;\n",
              "        }    #T_f264a38e_721e_11e9_801b_0242ac1c0002row1_col3 {\n",
              "            background-color:  #c3d5f4;\n",
              "            color:  #000000;\n",
              "        }    #T_f264a38e_721e_11e9_801b_0242ac1c0002row1_col4 {\n",
              "            background-color:  #bed2f6;\n",
              "            color:  #000000;\n",
              "        }    #T_f264a38e_721e_11e9_801b_0242ac1c0002row1_col5 {\n",
              "            background-color:  #5673e0;\n",
              "            color:  #000000;\n",
              "        }    #T_f264a38e_721e_11e9_801b_0242ac1c0002row1_col6 {\n",
              "            background-color:  #4f69d9;\n",
              "            color:  #000000;\n",
              "        }    #T_f264a38e_721e_11e9_801b_0242ac1c0002row1_col7 {\n",
              "            background-color:  #4f69d9;\n",
              "            color:  #000000;\n",
              "        }    #T_f264a38e_721e_11e9_801b_0242ac1c0002row1_col8 {\n",
              "            background-color:  #485fd1;\n",
              "            color:  #f1f1f1;\n",
              "        }    #T_f264a38e_721e_11e9_801b_0242ac1c0002row1_col9 {\n",
              "            background-color:  #3b4cc0;\n",
              "            color:  #f1f1f1;\n",
              "        }    #T_f264a38e_721e_11e9_801b_0242ac1c0002row2_col0 {\n",
              "            background-color:  #a1c0ff;\n",
              "            color:  #000000;\n",
              "        }    #T_f264a38e_721e_11e9_801b_0242ac1c0002row2_col1 {\n",
              "            background-color:  #3b4cc0;\n",
              "            color:  #f1f1f1;\n",
              "        }    #T_f264a38e_721e_11e9_801b_0242ac1c0002row2_col2 {\n",
              "            background-color:  #b40426;\n",
              "            color:  #f1f1f1;\n",
              "        }    #T_f264a38e_721e_11e9_801b_0242ac1c0002row2_col3 {\n",
              "            background-color:  #6e90f2;\n",
              "            color:  #000000;\n",
              "        }    #T_f264a38e_721e_11e9_801b_0242ac1c0002row2_col4 {\n",
              "            background-color:  #81a4fb;\n",
              "            color:  #000000;\n",
              "        }    #T_f264a38e_721e_11e9_801b_0242ac1c0002row2_col5 {\n",
              "            background-color:  #b5cdfa;\n",
              "            color:  #000000;\n",
              "        }    #T_f264a38e_721e_11e9_801b_0242ac1c0002row2_col6 {\n",
              "            background-color:  #4f69d9;\n",
              "            color:  #000000;\n",
              "        }    #T_f264a38e_721e_11e9_801b_0242ac1c0002row2_col7 {\n",
              "            background-color:  #4055c8;\n",
              "            color:  #f1f1f1;\n",
              "        }    #T_f264a38e_721e_11e9_801b_0242ac1c0002row2_col8 {\n",
              "            background-color:  #455cce;\n",
              "            color:  #f1f1f1;\n",
              "        }    #T_f264a38e_721e_11e9_801b_0242ac1c0002row2_col9 {\n",
              "            background-color:  #4f69d9;\n",
              "            color:  #000000;\n",
              "        }    #T_f264a38e_721e_11e9_801b_0242ac1c0002row3_col0 {\n",
              "            background-color:  #3b4cc0;\n",
              "            color:  #f1f1f1;\n",
              "        }    #T_f264a38e_721e_11e9_801b_0242ac1c0002row3_col1 {\n",
              "            background-color:  #b6cefa;\n",
              "            color:  #000000;\n",
              "        }    #T_f264a38e_721e_11e9_801b_0242ac1c0002row3_col2 {\n",
              "            background-color:  #5b7ae5;\n",
              "            color:  #000000;\n",
              "        }    #T_f264a38e_721e_11e9_801b_0242ac1c0002row3_col3 {\n",
              "            background-color:  #b40426;\n",
              "            color:  #f1f1f1;\n",
              "        }    #T_f264a38e_721e_11e9_801b_0242ac1c0002row3_col4 {\n",
              "            background-color:  #8fb1fe;\n",
              "            color:  #000000;\n",
              "        }    #T_f264a38e_721e_11e9_801b_0242ac1c0002row3_col5 {\n",
              "            background-color:  #3f53c6;\n",
              "            color:  #f1f1f1;\n",
              "        }    #T_f264a38e_721e_11e9_801b_0242ac1c0002row3_col6 {\n",
              "            background-color:  #3b4cc0;\n",
              "            color:  #f1f1f1;\n",
              "        }    #T_f264a38e_721e_11e9_801b_0242ac1c0002row3_col7 {\n",
              "            background-color:  #5f7fe8;\n",
              "            color:  #000000;\n",
              "        }    #T_f264a38e_721e_11e9_801b_0242ac1c0002row3_col8 {\n",
              "            background-color:  #5977e3;\n",
              "            color:  #000000;\n",
              "        }    #T_f264a38e_721e_11e9_801b_0242ac1c0002row3_col9 {\n",
              "            background-color:  #3c4ec2;\n",
              "            color:  #f1f1f1;\n",
              "        }    #T_f264a38e_721e_11e9_801b_0242ac1c0002row4_col0 {\n",
              "            background-color:  #799cf8;\n",
              "            color:  #000000;\n",
              "        }    #T_f264a38e_721e_11e9_801b_0242ac1c0002row4_col1 {\n",
              "            background-color:  #c1d4f4;\n",
              "            color:  #000000;\n",
              "        }    #T_f264a38e_721e_11e9_801b_0242ac1c0002row4_col2 {\n",
              "            background-color:  #85a8fc;\n",
              "            color:  #000000;\n",
              "        }    #T_f264a38e_721e_11e9_801b_0242ac1c0002row4_col3 {\n",
              "            background-color:  #a3c2fe;\n",
              "            color:  #000000;\n",
              "        }    #T_f264a38e_721e_11e9_801b_0242ac1c0002row4_col4 {\n",
              "            background-color:  #b40426;\n",
              "            color:  #f1f1f1;\n",
              "        }    #T_f264a38e_721e_11e9_801b_0242ac1c0002row4_col5 {\n",
              "            background-color:  #88abfd;\n",
              "            color:  #000000;\n",
              "        }    #T_f264a38e_721e_11e9_801b_0242ac1c0002row4_col6 {\n",
              "            background-color:  #4c66d6;\n",
              "            color:  #000000;\n",
              "        }    #T_f264a38e_721e_11e9_801b_0242ac1c0002row4_col7 {\n",
              "            background-color:  #3d50c3;\n",
              "            color:  #f1f1f1;\n",
              "        }    #T_f264a38e_721e_11e9_801b_0242ac1c0002row4_col8 {\n",
              "            background-color:  #3b4cc0;\n",
              "            color:  #f1f1f1;\n",
              "        }    #T_f264a38e_721e_11e9_801b_0242ac1c0002row4_col9 {\n",
              "            background-color:  #5470de;\n",
              "            color:  #000000;\n",
              "        }    #T_f264a38e_721e_11e9_801b_0242ac1c0002row5_col0 {\n",
              "            background-color:  #e3d9d3;\n",
              "            color:  #000000;\n",
              "        }    #T_f264a38e_721e_11e9_801b_0242ac1c0002row5_col1 {\n",
              "            background-color:  #5a78e4;\n",
              "            color:  #000000;\n",
              "        }    #T_f264a38e_721e_11e9_801b_0242ac1c0002row5_col2 {\n",
              "            background-color:  #b7cff9;\n",
              "            color:  #000000;\n",
              "        }    #T_f264a38e_721e_11e9_801b_0242ac1c0002row5_col3 {\n",
              "            background-color:  #5572df;\n",
              "            color:  #000000;\n",
              "        }    #T_f264a38e_721e_11e9_801b_0242ac1c0002row5_col4 {\n",
              "            background-color:  #85a8fc;\n",
              "            color:  #000000;\n",
              "        }    #T_f264a38e_721e_11e9_801b_0242ac1c0002row5_col5 {\n",
              "            background-color:  #b40426;\n",
              "            color:  #f1f1f1;\n",
              "        }    #T_f264a38e_721e_11e9_801b_0242ac1c0002row5_col6 {\n",
              "            background-color:  #4257c9;\n",
              "            color:  #f1f1f1;\n",
              "        }    #T_f264a38e_721e_11e9_801b_0242ac1c0002row5_col7 {\n",
              "            background-color:  #3b4cc0;\n",
              "            color:  #f1f1f1;\n",
              "        }    #T_f264a38e_721e_11e9_801b_0242ac1c0002row5_col8 {\n",
              "            background-color:  #5875e1;\n",
              "            color:  #000000;\n",
              "        }    #T_f264a38e_721e_11e9_801b_0242ac1c0002row5_col9 {\n",
              "            background-color:  #5d7ce6;\n",
              "            color:  #000000;\n",
              "        }    #T_f264a38e_721e_11e9_801b_0242ac1c0002row6_col0 {\n",
              "            background-color:  #9bbcff;\n",
              "            color:  #000000;\n",
              "        }    #T_f264a38e_721e_11e9_801b_0242ac1c0002row6_col1 {\n",
              "            background-color:  #536edd;\n",
              "            color:  #000000;\n",
              "        }    #T_f264a38e_721e_11e9_801b_0242ac1c0002row6_col2 {\n",
              "            background-color:  #536edd;\n",
              "            color:  #000000;\n",
              "        }    #T_f264a38e_721e_11e9_801b_0242ac1c0002row6_col3 {\n",
              "            background-color:  #506bda;\n",
              "            color:  #000000;\n",
              "        }    #T_f264a38e_721e_11e9_801b_0242ac1c0002row6_col4 {\n",
              "            background-color:  #4a63d3;\n",
              "            color:  #f1f1f1;\n",
              "        }    #T_f264a38e_721e_11e9_801b_0242ac1c0002row6_col5 {\n",
              "            background-color:  #4358cb;\n",
              "            color:  #f1f1f1;\n",
              "        }    #T_f264a38e_721e_11e9_801b_0242ac1c0002row6_col6 {\n",
              "            background-color:  #b40426;\n",
              "            color:  #f1f1f1;\n",
              "        }    #T_f264a38e_721e_11e9_801b_0242ac1c0002row6_col7 {\n",
              "            background-color:  #4c66d6;\n",
              "            color:  #000000;\n",
              "        }    #T_f264a38e_721e_11e9_801b_0242ac1c0002row6_col8 {\n",
              "            background-color:  #5977e3;\n",
              "            color:  #000000;\n",
              "        }    #T_f264a38e_721e_11e9_801b_0242ac1c0002row6_col9 {\n",
              "            background-color:  #7396f5;\n",
              "            color:  #000000;\n",
              "        }    #T_f264a38e_721e_11e9_801b_0242ac1c0002row7_col0 {\n",
              "            background-color:  #8caffe;\n",
              "            color:  #000000;\n",
              "        }    #T_f264a38e_721e_11e9_801b_0242ac1c0002row7_col1 {\n",
              "            background-color:  #536edd;\n",
              "            color:  #000000;\n",
              "        }    #T_f264a38e_721e_11e9_801b_0242ac1c0002row7_col2 {\n",
              "            background-color:  #4358cb;\n",
              "            color:  #f1f1f1;\n",
              "        }    #T_f264a38e_721e_11e9_801b_0242ac1c0002row7_col3 {\n",
              "            background-color:  #7597f6;\n",
              "            color:  #000000;\n",
              "        }    #T_f264a38e_721e_11e9_801b_0242ac1c0002row7_col4 {\n",
              "            background-color:  #3b4cc0;\n",
              "            color:  #f1f1f1;\n",
              "        }    #T_f264a38e_721e_11e9_801b_0242ac1c0002row7_col5 {\n",
              "            background-color:  #3b4cc0;\n",
              "            color:  #f1f1f1;\n",
              "        }    #T_f264a38e_721e_11e9_801b_0242ac1c0002row7_col6 {\n",
              "            background-color:  #4c66d6;\n",
              "            color:  #000000;\n",
              "        }    #T_f264a38e_721e_11e9_801b_0242ac1c0002row7_col7 {\n",
              "            background-color:  #b40426;\n",
              "            color:  #f1f1f1;\n",
              "        }    #T_f264a38e_721e_11e9_801b_0242ac1c0002row7_col8 {\n",
              "            background-color:  #455cce;\n",
              "            color:  #f1f1f1;\n",
              "        }    #T_f264a38e_721e_11e9_801b_0242ac1c0002row7_col9 {\n",
              "            background-color:  #465ecf;\n",
              "            color:  #f1f1f1;\n",
              "        }    #T_f264a38e_721e_11e9_801b_0242ac1c0002row8_col0 {\n",
              "            background-color:  #7a9df8;\n",
              "            color:  #000000;\n",
              "        }    #T_f264a38e_721e_11e9_801b_0242ac1c0002row8_col1 {\n",
              "            background-color:  #4f69d9;\n",
              "            color:  #000000;\n",
              "        }    #T_f264a38e_721e_11e9_801b_0242ac1c0002row8_col2 {\n",
              "            background-color:  #4b64d5;\n",
              "            color:  #f1f1f1;\n",
              "        }    #T_f264a38e_721e_11e9_801b_0242ac1c0002row8_col3 {\n",
              "            background-color:  #7295f4;\n",
              "            color:  #000000;\n",
              "        }    #T_f264a38e_721e_11e9_801b_0242ac1c0002row8_col4 {\n",
              "            background-color:  #3b4cc0;\n",
              "            color:  #f1f1f1;\n",
              "        }    #T_f264a38e_721e_11e9_801b_0242ac1c0002row8_col5 {\n",
              "            background-color:  #5a78e4;\n",
              "            color:  #000000;\n",
              "        }    #T_f264a38e_721e_11e9_801b_0242ac1c0002row8_col6 {\n",
              "            background-color:  #5d7ce6;\n",
              "            color:  #000000;\n",
              "        }    #T_f264a38e_721e_11e9_801b_0242ac1c0002row8_col7 {\n",
              "            background-color:  #4961d2;\n",
              "            color:  #f1f1f1;\n",
              "        }    #T_f264a38e_721e_11e9_801b_0242ac1c0002row8_col8 {\n",
              "            background-color:  #b40426;\n",
              "            color:  #f1f1f1;\n",
              "        }    #T_f264a38e_721e_11e9_801b_0242ac1c0002row8_col9 {\n",
              "            background-color:  #536edd;\n",
              "            color:  #000000;\n",
              "        }    #T_f264a38e_721e_11e9_801b_0242ac1c0002row9_col0 {\n",
              "            background-color:  #8db0fe;\n",
              "            color:  #000000;\n",
              "        }    #T_f264a38e_721e_11e9_801b_0242ac1c0002row9_col1 {\n",
              "            background-color:  #4055c8;\n",
              "            color:  #f1f1f1;\n",
              "        }    #T_f264a38e_721e_11e9_801b_0242ac1c0002row9_col2 {\n",
              "            background-color:  #5572df;\n",
              "            color:  #000000;\n",
              "        }    #T_f264a38e_721e_11e9_801b_0242ac1c0002row9_col3 {\n",
              "            background-color:  #5470de;\n",
              "            color:  #000000;\n",
              "        }    #T_f264a38e_721e_11e9_801b_0242ac1c0002row9_col4 {\n",
              "            background-color:  #5470de;\n",
              "            color:  #000000;\n",
              "        }    #T_f264a38e_721e_11e9_801b_0242ac1c0002row9_col5 {\n",
              "            background-color:  #5f7fe8;\n",
              "            color:  #000000;\n",
              "        }    #T_f264a38e_721e_11e9_801b_0242ac1c0002row9_col6 {\n",
              "            background-color:  #7597f6;\n",
              "            color:  #000000;\n",
              "        }    #T_f264a38e_721e_11e9_801b_0242ac1c0002row9_col7 {\n",
              "            background-color:  #4961d2;\n",
              "            color:  #f1f1f1;\n",
              "        }    #T_f264a38e_721e_11e9_801b_0242ac1c0002row9_col8 {\n",
              "            background-color:  #516ddb;\n",
              "            color:  #000000;\n",
              "        }    #T_f264a38e_721e_11e9_801b_0242ac1c0002row9_col9 {\n",
              "            background-color:  #b40426;\n",
              "            color:  #f1f1f1;\n",
              "        }</style><table id=\"T_f264a38e_721e_11e9_801b_0242ac1c0002\" ><thead>    <tr>        <th class=\"blank level0\" ></th>        <th class=\"col_heading level0 col0\" >int.rate</th>        <th class=\"col_heading level0 col1\" >log.annual.inc</th>        <th class=\"col_heading level0 col2\" >dti</th>        <th class=\"col_heading level0 col3\" >days.with.cr.line</th>        <th class=\"col_heading level0 col4\" >revol.bal</th>        <th class=\"col_heading level0 col5\" >revol.util</th>        <th class=\"col_heading level0 col6\" >inq.last.6mths</th>        <th class=\"col_heading level0 col7\" >delinq.2yrs</th>        <th class=\"col_heading level0 col8\" >pub.rec</th>        <th class=\"col_heading level0 col9\" >not.fully.paid</th>    </tr></thead><tbody>\n",
              "                <tr>\n",
              "                        <th id=\"T_f264a38e_721e_11e9_801b_0242ac1c0002level0_row0\" class=\"row_heading level0 row0\" >int.rate</th>\n",
              "                        <td id=\"T_f264a38e_721e_11e9_801b_0242ac1c0002row0_col0\" class=\"data row0 col0\" >1</td>\n",
              "                        <td id=\"T_f264a38e_721e_11e9_801b_0242ac1c0002row0_col1\" class=\"data row0 col1\" >0.0563825</td>\n",
              "                        <td id=\"T_f264a38e_721e_11e9_801b_0242ac1c0002row0_col2\" class=\"data row0 col2\" >0.220006</td>\n",
              "                        <td id=\"T_f264a38e_721e_11e9_801b_0242ac1c0002row0_col3\" class=\"data row0 col3\" >-0.124022</td>\n",
              "                        <td id=\"T_f264a38e_721e_11e9_801b_0242ac1c0002row0_col4\" class=\"data row0 col4\" >0.0925271</td>\n",
              "                        <td id=\"T_f264a38e_721e_11e9_801b_0242ac1c0002row0_col5\" class=\"data row0 col5\" >0.464837</td>\n",
              "                        <td id=\"T_f264a38e_721e_11e9_801b_0242ac1c0002row0_col6\" class=\"data row0 col6\" >0.20278</td>\n",
              "                        <td id=\"T_f264a38e_721e_11e9_801b_0242ac1c0002row0_col7\" class=\"data row0 col7\" >0.156079</td>\n",
              "                        <td id=\"T_f264a38e_721e_11e9_801b_0242ac1c0002row0_col8\" class=\"data row0 col8\" >0.0981622</td>\n",
              "                        <td id=\"T_f264a38e_721e_11e9_801b_0242ac1c0002row0_col9\" class=\"data row0 col9\" >0.159552</td>\n",
              "            </tr>\n",
              "            <tr>\n",
              "                        <th id=\"T_f264a38e_721e_11e9_801b_0242ac1c0002level0_row1\" class=\"row_heading level0 row1\" >log.annual.inc</th>\n",
              "                        <td id=\"T_f264a38e_721e_11e9_801b_0242ac1c0002row1_col0\" class=\"data row1 col0\" >0.0563825</td>\n",
              "                        <td id=\"T_f264a38e_721e_11e9_801b_0242ac1c0002row1_col1\" class=\"data row1 col1\" >1</td>\n",
              "                        <td id=\"T_f264a38e_721e_11e9_801b_0242ac1c0002row1_col2\" class=\"data row1 col2\" >-0.0540648</td>\n",
              "                        <td id=\"T_f264a38e_721e_11e9_801b_0242ac1c0002row1_col3\" class=\"data row1 col3\" >0.336896</td>\n",
              "                        <td id=\"T_f264a38e_721e_11e9_801b_0242ac1c0002row1_col4\" class=\"data row1 col4\" >0.37214</td>\n",
              "                        <td id=\"T_f264a38e_721e_11e9_801b_0242ac1c0002row1_col5\" class=\"data row1 col5\" >0.0548811</td>\n",
              "                        <td id=\"T_f264a38e_721e_11e9_801b_0242ac1c0002row1_col6\" class=\"data row1 col6\" >0.0291713</td>\n",
              "                        <td id=\"T_f264a38e_721e_11e9_801b_0242ac1c0002row1_col7\" class=\"data row1 col7\" >0.0292033</td>\n",
              "                        <td id=\"T_f264a38e_721e_11e9_801b_0242ac1c0002row1_col8\" class=\"data row1 col8\" >0.0165065</td>\n",
              "                        <td id=\"T_f264a38e_721e_11e9_801b_0242ac1c0002row1_col9\" class=\"data row1 col9\" >-0.0334394</td>\n",
              "            </tr>\n",
              "            <tr>\n",
              "                        <th id=\"T_f264a38e_721e_11e9_801b_0242ac1c0002level0_row2\" class=\"row_heading level0 row2\" >dti</th>\n",
              "                        <td id=\"T_f264a38e_721e_11e9_801b_0242ac1c0002row2_col0\" class=\"data row2 col0\" >0.220006</td>\n",
              "                        <td id=\"T_f264a38e_721e_11e9_801b_0242ac1c0002row2_col1\" class=\"data row2 col1\" >-0.0540648</td>\n",
              "                        <td id=\"T_f264a38e_721e_11e9_801b_0242ac1c0002row2_col2\" class=\"data row2 col2\" >1</td>\n",
              "                        <td id=\"T_f264a38e_721e_11e9_801b_0242ac1c0002row2_col3\" class=\"data row2 col3\" >0.0601011</td>\n",
              "                        <td id=\"T_f264a38e_721e_11e9_801b_0242ac1c0002row2_col4\" class=\"data row2 col4\" >0.188748</td>\n",
              "                        <td id=\"T_f264a38e_721e_11e9_801b_0242ac1c0002row2_col5\" class=\"data row2 col5\" >0.337109</td>\n",
              "                        <td id=\"T_f264a38e_721e_11e9_801b_0242ac1c0002row2_col6\" class=\"data row2 col6\" >0.029189</td>\n",
              "                        <td id=\"T_f264a38e_721e_11e9_801b_0242ac1c0002row2_col7\" class=\"data row2 col7\" >-0.0217922</td>\n",
              "                        <td id=\"T_f264a38e_721e_11e9_801b_0242ac1c0002row2_col8\" class=\"data row2 col8\" >0.00620876</td>\n",
              "                        <td id=\"T_f264a38e_721e_11e9_801b_0242ac1c0002row2_col9\" class=\"data row2 col9\" >0.0373615</td>\n",
              "            </tr>\n",
              "            <tr>\n",
              "                        <th id=\"T_f264a38e_721e_11e9_801b_0242ac1c0002level0_row3\" class=\"row_heading level0 row3\" >days.with.cr.line</th>\n",
              "                        <td id=\"T_f264a38e_721e_11e9_801b_0242ac1c0002row3_col0\" class=\"data row3 col0\" >-0.124022</td>\n",
              "                        <td id=\"T_f264a38e_721e_11e9_801b_0242ac1c0002row3_col1\" class=\"data row3 col1\" >0.336896</td>\n",
              "                        <td id=\"T_f264a38e_721e_11e9_801b_0242ac1c0002row3_col2\" class=\"data row3 col2\" >0.0601011</td>\n",
              "                        <td id=\"T_f264a38e_721e_11e9_801b_0242ac1c0002row3_col3\" class=\"data row3 col3\" >1</td>\n",
              "                        <td id=\"T_f264a38e_721e_11e9_801b_0242ac1c0002row3_col4\" class=\"data row3 col4\" >0.229344</td>\n",
              "                        <td id=\"T_f264a38e_721e_11e9_801b_0242ac1c0002row3_col5\" class=\"data row3 col5\" >-0.0242393</td>\n",
              "                        <td id=\"T_f264a38e_721e_11e9_801b_0242ac1c0002row3_col6\" class=\"data row3 col6\" >-0.0417364</td>\n",
              "                        <td id=\"T_f264a38e_721e_11e9_801b_0242ac1c0002row3_col7\" class=\"data row3 col7\" >0.0813738</td>\n",
              "                        <td id=\"T_f264a38e_721e_11e9_801b_0242ac1c0002row3_col8\" class=\"data row3 col8\" >0.0718262</td>\n",
              "                        <td id=\"T_f264a38e_721e_11e9_801b_0242ac1c0002row3_col9\" class=\"data row3 col9\" >-0.0292367</td>\n",
              "            </tr>\n",
              "            <tr>\n",
              "                        <th id=\"T_f264a38e_721e_11e9_801b_0242ac1c0002level0_row4\" class=\"row_heading level0 row4\" >revol.bal</th>\n",
              "                        <td id=\"T_f264a38e_721e_11e9_801b_0242ac1c0002row4_col0\" class=\"data row4 col0\" >0.0925271</td>\n",
              "                        <td id=\"T_f264a38e_721e_11e9_801b_0242ac1c0002row4_col1\" class=\"data row4 col1\" >0.37214</td>\n",
              "                        <td id=\"T_f264a38e_721e_11e9_801b_0242ac1c0002row4_col2\" class=\"data row4 col2\" >0.188748</td>\n",
              "                        <td id=\"T_f264a38e_721e_11e9_801b_0242ac1c0002row4_col3\" class=\"data row4 col3\" >0.229344</td>\n",
              "                        <td id=\"T_f264a38e_721e_11e9_801b_0242ac1c0002row4_col4\" class=\"data row4 col4\" >1</td>\n",
              "                        <td id=\"T_f264a38e_721e_11e9_801b_0242ac1c0002row4_col5\" class=\"data row4 col5\" >0.203779</td>\n",
              "                        <td id=\"T_f264a38e_721e_11e9_801b_0242ac1c0002row4_col6\" class=\"data row4 col6\" >0.0223945</td>\n",
              "                        <td id=\"T_f264a38e_721e_11e9_801b_0242ac1c0002row4_col7\" class=\"data row4 col7\" >-0.0332431</td>\n",
              "                        <td id=\"T_f264a38e_721e_11e9_801b_0242ac1c0002row4_col8\" class=\"data row4 col8\" >-0.0310096</td>\n",
              "                        <td id=\"T_f264a38e_721e_11e9_801b_0242ac1c0002row4_col9\" class=\"data row4 col9\" >0.0536994</td>\n",
              "            </tr>\n",
              "            <tr>\n",
              "                        <th id=\"T_f264a38e_721e_11e9_801b_0242ac1c0002level0_row5\" class=\"row_heading level0 row5\" >revol.util</th>\n",
              "                        <td id=\"T_f264a38e_721e_11e9_801b_0242ac1c0002row5_col0\" class=\"data row5 col0\" >0.464837</td>\n",
              "                        <td id=\"T_f264a38e_721e_11e9_801b_0242ac1c0002row5_col1\" class=\"data row5 col1\" >0.0548811</td>\n",
              "                        <td id=\"T_f264a38e_721e_11e9_801b_0242ac1c0002row5_col2\" class=\"data row5 col2\" >0.337109</td>\n",
              "                        <td id=\"T_f264a38e_721e_11e9_801b_0242ac1c0002row5_col3\" class=\"data row5 col3\" >-0.0242393</td>\n",
              "                        <td id=\"T_f264a38e_721e_11e9_801b_0242ac1c0002row5_col4\" class=\"data row5 col4\" >0.203779</td>\n",
              "                        <td id=\"T_f264a38e_721e_11e9_801b_0242ac1c0002row5_col5\" class=\"data row5 col5\" >1</td>\n",
              "                        <td id=\"T_f264a38e_721e_11e9_801b_0242ac1c0002row5_col6\" class=\"data row5 col6\" >-0.0138799</td>\n",
              "                        <td id=\"T_f264a38e_721e_11e9_801b_0242ac1c0002row5_col7\" class=\"data row5 col7\" >-0.04274</td>\n",
              "                        <td id=\"T_f264a38e_721e_11e9_801b_0242ac1c0002row5_col8\" class=\"data row5 col8\" >0.0667165</td>\n",
              "                        <td id=\"T_f264a38e_721e_11e9_801b_0242ac1c0002row5_col9\" class=\"data row5 col9\" >0.0820878</td>\n",
              "            </tr>\n",
              "            <tr>\n",
              "                        <th id=\"T_f264a38e_721e_11e9_801b_0242ac1c0002level0_row6\" class=\"row_heading level0 row6\" >inq.last.6mths</th>\n",
              "                        <td id=\"T_f264a38e_721e_11e9_801b_0242ac1c0002row6_col0\" class=\"data row6 col0\" >0.20278</td>\n",
              "                        <td id=\"T_f264a38e_721e_11e9_801b_0242ac1c0002row6_col1\" class=\"data row6 col1\" >0.0291713</td>\n",
              "                        <td id=\"T_f264a38e_721e_11e9_801b_0242ac1c0002row6_col2\" class=\"data row6 col2\" >0.029189</td>\n",
              "                        <td id=\"T_f264a38e_721e_11e9_801b_0242ac1c0002row6_col3\" class=\"data row6 col3\" >-0.0417364</td>\n",
              "                        <td id=\"T_f264a38e_721e_11e9_801b_0242ac1c0002row6_col4\" class=\"data row6 col4\" >0.0223945</td>\n",
              "                        <td id=\"T_f264a38e_721e_11e9_801b_0242ac1c0002row6_col5\" class=\"data row6 col5\" >-0.0138799</td>\n",
              "                        <td id=\"T_f264a38e_721e_11e9_801b_0242ac1c0002row6_col6\" class=\"data row6 col6\" >1</td>\n",
              "                        <td id=\"T_f264a38e_721e_11e9_801b_0242ac1c0002row6_col7\" class=\"data row6 col7\" >0.0212454</td>\n",
              "                        <td id=\"T_f264a38e_721e_11e9_801b_0242ac1c0002row6_col8\" class=\"data row6 col8\" >0.0726729</td>\n",
              "                        <td id=\"T_f264a38e_721e_11e9_801b_0242ac1c0002row6_col9\" class=\"data row6 col9\" >0.149452</td>\n",
              "            </tr>\n",
              "            <tr>\n",
              "                        <th id=\"T_f264a38e_721e_11e9_801b_0242ac1c0002level0_row7\" class=\"row_heading level0 row7\" >delinq.2yrs</th>\n",
              "                        <td id=\"T_f264a38e_721e_11e9_801b_0242ac1c0002row7_col0\" class=\"data row7 col0\" >0.156079</td>\n",
              "                        <td id=\"T_f264a38e_721e_11e9_801b_0242ac1c0002row7_col1\" class=\"data row7 col1\" >0.0292033</td>\n",
              "                        <td id=\"T_f264a38e_721e_11e9_801b_0242ac1c0002row7_col2\" class=\"data row7 col2\" >-0.0217922</td>\n",
              "                        <td id=\"T_f264a38e_721e_11e9_801b_0242ac1c0002row7_col3\" class=\"data row7 col3\" >0.0813738</td>\n",
              "                        <td id=\"T_f264a38e_721e_11e9_801b_0242ac1c0002row7_col4\" class=\"data row7 col4\" >-0.0332431</td>\n",
              "                        <td id=\"T_f264a38e_721e_11e9_801b_0242ac1c0002row7_col5\" class=\"data row7 col5\" >-0.04274</td>\n",
              "                        <td id=\"T_f264a38e_721e_11e9_801b_0242ac1c0002row7_col6\" class=\"data row7 col6\" >0.0212454</td>\n",
              "                        <td id=\"T_f264a38e_721e_11e9_801b_0242ac1c0002row7_col7\" class=\"data row7 col7\" >1</td>\n",
              "                        <td id=\"T_f264a38e_721e_11e9_801b_0242ac1c0002row7_col8\" class=\"data row7 col8\" >0.00918419</td>\n",
              "                        <td id=\"T_f264a38e_721e_11e9_801b_0242ac1c0002row7_col9\" class=\"data row7 col9\" >0.00888104</td>\n",
              "            </tr>\n",
              "            <tr>\n",
              "                        <th id=\"T_f264a38e_721e_11e9_801b_0242ac1c0002level0_row8\" class=\"row_heading level0 row8\" >pub.rec</th>\n",
              "                        <td id=\"T_f264a38e_721e_11e9_801b_0242ac1c0002row8_col0\" class=\"data row8 col0\" >0.0981622</td>\n",
              "                        <td id=\"T_f264a38e_721e_11e9_801b_0242ac1c0002row8_col1\" class=\"data row8 col1\" >0.0165065</td>\n",
              "                        <td id=\"T_f264a38e_721e_11e9_801b_0242ac1c0002row8_col2\" class=\"data row8 col2\" >0.00620876</td>\n",
              "                        <td id=\"T_f264a38e_721e_11e9_801b_0242ac1c0002row8_col3\" class=\"data row8 col3\" >0.0718262</td>\n",
              "                        <td id=\"T_f264a38e_721e_11e9_801b_0242ac1c0002row8_col4\" class=\"data row8 col4\" >-0.0310096</td>\n",
              "                        <td id=\"T_f264a38e_721e_11e9_801b_0242ac1c0002row8_col5\" class=\"data row8 col5\" >0.0667165</td>\n",
              "                        <td id=\"T_f264a38e_721e_11e9_801b_0242ac1c0002row8_col6\" class=\"data row8 col6\" >0.0726729</td>\n",
              "                        <td id=\"T_f264a38e_721e_11e9_801b_0242ac1c0002row8_col7\" class=\"data row8 col7\" >0.00918419</td>\n",
              "                        <td id=\"T_f264a38e_721e_11e9_801b_0242ac1c0002row8_col8\" class=\"data row8 col8\" >1</td>\n",
              "                        <td id=\"T_f264a38e_721e_11e9_801b_0242ac1c0002row8_col9\" class=\"data row8 col9\" >0.0486343</td>\n",
              "            </tr>\n",
              "            <tr>\n",
              "                        <th id=\"T_f264a38e_721e_11e9_801b_0242ac1c0002level0_row9\" class=\"row_heading level0 row9\" >not.fully.paid</th>\n",
              "                        <td id=\"T_f264a38e_721e_11e9_801b_0242ac1c0002row9_col0\" class=\"data row9 col0\" >0.159552</td>\n",
              "                        <td id=\"T_f264a38e_721e_11e9_801b_0242ac1c0002row9_col1\" class=\"data row9 col1\" >-0.0334394</td>\n",
              "                        <td id=\"T_f264a38e_721e_11e9_801b_0242ac1c0002row9_col2\" class=\"data row9 col2\" >0.0373615</td>\n",
              "                        <td id=\"T_f264a38e_721e_11e9_801b_0242ac1c0002row9_col3\" class=\"data row9 col3\" >-0.0292367</td>\n",
              "                        <td id=\"T_f264a38e_721e_11e9_801b_0242ac1c0002row9_col4\" class=\"data row9 col4\" >0.0536994</td>\n",
              "                        <td id=\"T_f264a38e_721e_11e9_801b_0242ac1c0002row9_col5\" class=\"data row9 col5\" >0.0820878</td>\n",
              "                        <td id=\"T_f264a38e_721e_11e9_801b_0242ac1c0002row9_col6\" class=\"data row9 col6\" >0.149452</td>\n",
              "                        <td id=\"T_f264a38e_721e_11e9_801b_0242ac1c0002row9_col7\" class=\"data row9 col7\" >0.00888104</td>\n",
              "                        <td id=\"T_f264a38e_721e_11e9_801b_0242ac1c0002row9_col8\" class=\"data row9 col8\" >0.0486343</td>\n",
              "                        <td id=\"T_f264a38e_721e_11e9_801b_0242ac1c0002row9_col9\" class=\"data row9 col9\" >1</td>\n",
              "            </tr>\n",
              "    </tbody></table>"
            ],
            "text/plain": [
              "<pandas.io.formats.style.Styler at 0x7fd92d75f518>"
            ]
          },
          "metadata": {
            "tags": []
          },
          "execution_count": 38
        }
      ]
    },
    {
      "cell_type": "markdown",
      "metadata": {
        "id": "lBqew2XJ_xZb",
        "colab_type": "text"
      },
      "source": [
        "Plot heat map to find highly coreleated data"
      ]
    },
    {
      "cell_type": "code",
      "metadata": {
        "id": "z6C05iBHUA-K",
        "colab_type": "code",
        "colab": {
          "base_uri": "https://localhost:8080/",
          "height": 341
        },
        "outputId": "4ed8e529-07d6-47b3-a74d-40a5f2e28a90"
      },
      "source": [
        "import matplotlib.pyplot as plt\n",
        "import seaborn as sns\n",
        "# help(plt.imshow)\n",
        "# type(X)\n",
        "# plt.imshow(loan_df, cmap='hot', interpolation='nearest')\n",
        "# plt.show()\n",
        "sns.heatmap(loan_df.corr(),cmap='BuGn')\n",
        "plt.show()"
      ],
      "execution_count": 26,
      "outputs": [
        {
          "output_type": "display_data",
          "data": {
            "image/png": "[encoded data removed]",
            "text/plain": [
              "<Figure size 432x288 with 2 Axes>"
            ]
          },
          "metadata": {
            "tags": []
          }
        }
      ]
    },
    {
      "cell_type": "code",
      "metadata": {
        "id": "BeJ_z9pMNUkm",
        "colab_type": "code",
        "colab": {
          "base_uri": "https://localhost:8080/",
          "height": 55
        },
        "outputId": "399e6377-c157-4067-9c2c-87ecf90f120f"
      },
      "source": [
        "print(list(loan_df))"
      ],
      "execution_count": 73,
      "outputs": [
        {
          "output_type": "stream",
          "text": [
            "['credit.policy', 'purpose', 'int.rate', 'installment', 'log.annual.inc', 'dti', 'fico', 'days.with.cr.line', 'revol.bal', 'revol.util', 'inq.last.6mths', 'delinq.2yrs', 'pub.rec', 'not.fully.paid']\n"
          ],
          "name": "stdout"
        }
      ]
    },
    {
      "cell_type": "code",
      "metadata": {
        "id": "tgaiEEMxAJAb",
        "colab_type": "code",
        "colab": {
          "base_uri": "https://localhost:8080/",
          "height": 107
        },
        "outputId": "be791871-9f7d-485e-cf8c-d9eeb32d56b1"
      },
      "source": [
        "#Create X\n",
        "# loan_df['purpose'] = loan_df['purpose'].map({'debt_consolidation':'0','credit_card':'1','all_other':'2','educational':'3','home_improvement':'4','major_purchase':'5','small_business':'6'})\n",
        "X = np.array(loan_df[list(loan_df.drop(['credit.policy','revol.util'],axis=1))]) #revol.util\n",
        "X.shape\n",
        "#import Logistic Regression\n",
        "from sklearn.linear_model import LogisticRegression\n",
        "modal = LogisticRegression().fit(X,Y)\n",
        "print(X.shape)\n",
        "#score\n",
        "modal.score(X,Y)\n"
      ],
      "execution_count": 84,
      "outputs": [
        {
          "output_type": "stream",
          "text": [
            "(9578, 12)\n"
          ],
          "name": "stdout"
        },
        {
          "output_type": "stream",
          "text": [
            "/usr/local/lib/python3.6/dist-packages/sklearn/linear_model/logistic.py:433: FutureWarning: Default solver will be changed to 'lbfgs' in 0.22. Specify a solver to silence this warning.\n",
            "  FutureWarning)\n"
          ],
          "name": "stderr"
        },
        {
          "output_type": "execute_result",
          "data": {
            "text/plain": [
              "0.8994570891626644"
            ]
          },
          "metadata": {
            "tags": []
          },
          "execution_count": 84
        }
      ]
    },
    {
      "cell_type": "code",
      "metadata": {
        "id": "6L6U23tDJ59g",
        "colab_type": "code",
        "colab": {
          "base_uri": "https://localhost:8080/",
          "height": 72
        },
        "outputId": "56755b6a-0c79-46e9-d04f-64702e69df6f"
      },
      "source": [
        "#import Logistic Regression\n",
        "from sklearn.linear_model import LogisticRegression\n",
        "modal = LogisticRegression().fit(X,Y)"
      ],
      "execution_count": 36,
      "outputs": [
        {
          "output_type": "stream",
          "text": [
            "/usr/local/lib/python3.6/dist-packages/sklearn/linear_model/logistic.py:433: FutureWarning: Default solver will be changed to 'lbfgs' in 0.22. Specify a solver to silence this warning.\n",
            "  FutureWarning)\n"
          ],
          "name": "stderr"
        }
      ]
    },
    {
      "cell_type": "code",
      "metadata": {
        "id": "M018XK1tJ9Se",
        "colab_type": "code",
        "colab": {
          "base_uri": "https://localhost:8080/",
          "height": 52
        },
        "outputId": "6eedd21d-d1f4-44c9-a944-a3f0c73f50a3"
      },
      "source": [
        "print(X.shape)\n",
        "#score\n",
        "modal.score(X,Y)"
      ],
      "execution_count": 37,
      "outputs": [
        {
          "output_type": "stream",
          "text": [
            "(9578, 11)\n"
          ],
          "name": "stdout"
        },
        {
          "output_type": "execute_result",
          "data": {
            "text/plain": [
              "0.8946544163708499"
            ]
          },
          "metadata": {
            "tags": []
          },
          "execution_count": 37
        }
      ]
    },
    {
      "cell_type": "code",
      "metadata": {
        "id": "fJYz7jZmKCmj",
        "colab_type": "code",
        "colab": {
          "base_uri": "https://localhost:8080/",
          "height": 35
        },
        "outputId": "98722c03-9590-4241-cd2a-240eafbfc74f"
      },
      "source": [
        "#mean of interest rate\n",
        "#np.mean([ : ])\n",
        "X.shape"
      ],
      "execution_count": 46,
      "outputs": [
        {
          "output_type": "execute_result",
          "data": {
            "text/plain": [
              "(9578, 12)"
            ]
          },
          "metadata": {
            "tags": []
          },
          "execution_count": 46
        }
      ]
    },
    {
      "cell_type": "code",
      "metadata": {
        "id": "6x8alLawLEth",
        "colab_type": "code",
        "colab": {
          "base_uri": "https://localhost:8080/",
          "height": 87
        },
        "outputId": "683bb7fb-c06e-4c22-d012-d3289cddfc11"
      },
      "source": [
        "X[0:2]"
      ],
      "execution_count": 50,
      "outputs": [
        {
          "output_type": "execute_result",
          "data": {
            "text/plain": [
              "array([[nan, 0.1189, 11.35040654, 19.48, 737, 5639.958333, 28854, 52.1,\n",
              "        0, 0, 0, 0],\n",
              "       [nan, 0.1071, 11.08214255, 14.29, 707, 2760.0, 33623, 76.7, 0, 0,\n",
              "        0, 0]], dtype=object)"
            ]
          },
          "metadata": {
            "tags": []
          },
          "execution_count": 50
        }
      ]
    },
    {
      "cell_type": "code",
      "metadata": {
        "id": "zoJUe33bLu4n",
        "colab_type": "code",
        "colab": {
          "base_uri": "https://localhost:8080/",
          "height": 359
        },
        "outputId": "ee678994-5847-4cb7-fe83-6b4c4b193024"
      },
      "source": [
        "#Create X -- remove low avg rows from dataset\n",
        "# np.mean(np.array(loan_df['int.rate']))\n",
        "# loan_udf = loan_df.loc[loan_df['inq.last.6mths'] < np.mean(np.array(loan_df['inq.last.6mths']))]\n",
        "loan_udf = loan_df.loc[loan_df['int.rate'] < np.mean(np.array(loan_df['int.rate']))]\n",
        "# loan_df['purpose'] = loan_df['purpose'].map({'debt_consolidation':'0','credit_card':'1','all_other':'2','educational':'3','home_improvement':'4','major_purchase':'5','small_business':'6'})\n",
        "X = np.array(loan_udf[list(loan_udf.drop(['credit.policy','revol.util'],axis=1))]) #revol.util\n",
        "X.shape\n",
        "\n",
        "Y = np.array(loan_udf['credit.policy'])\n",
        "Y\n",
        "\n",
        "#import Logistic Regression\n",
        "from sklearn.linear_model import LogisticRegression\n",
        "modal = LogisticRegression().fit(X,Y)\n",
        "print(X.shape)\n",
        "#score\n",
        "modal.score(X,Y)\n",
        "\n",
        "loan_udf.plot.bar(rot=0)\n"
      ],
      "execution_count": 96,
      "outputs": [
        {
          "output_type": "stream",
          "text": [
            "/usr/local/lib/python3.6/dist-packages/sklearn/linear_model/logistic.py:433: FutureWarning: Default solver will be changed to 'lbfgs' in 0.22. Specify a solver to silence this warning.\n",
            "  FutureWarning)\n"
          ],
          "name": "stderr"
        },
        {
          "output_type": "stream",
          "text": [
            "(4818, 12)\n"
          ],
          "name": "stdout"
        },
        {
          "output_type": "execute_result",
          "data": {
            "text/plain": [
              "<matplotlib.axes._subplots.AxesSubplot at 0x7fd92cb07eb8>"
            ]
          },
          "metadata": {
            "tags": []
          },
          "execution_count": 96
        },
        {
          "output_type": "display_data",
          "data": {
            "image/png": "[encoded data removed]",
            "text/plain": [
              "<Figure size 432x288 with 1 Axes>"
            ]
          },
          "metadata": {
            "tags": []
          }
        }
      ]
    },
    {
      "cell_type": "markdown",
      "metadata": {
        "id": "fnrOhNaeTCRF",
        "colab_type": "text"
      },
      "source": [
        "Plot bar chart"
      ]
    },
    {
      "cell_type": "code",
      "metadata": {
        "id": "oyQaP_kGObc8",
        "colab_type": "code",
        "colab": {
          "base_uri": "https://localhost:8080/",
          "height": 470
        },
        "outputId": "bb04e81c-f217-4a41-aff0-27c426a98f00"
      },
      "source": [
        "import matplotlib.pyplot as plt; plt.rcdefaults()\n",
        "import numpy as np\n",
        "import matplotlib.pyplot as plt\n",
        "\n",
        "loan_pdf = loan_udf.drop(['purpose'],axis=1)\n",
        "objects = tuple(list(loan_pdf))#('Python', 'C++', 'Java', 'Perl', 'Scala', 'Lisp')\n",
        "# # type(objects)\n",
        "\n",
        "y_pos = np.arange(len(objects))\n",
        "# type(performance)\n",
        "# sum(loan_udf['credit.policy'])\n",
        "\n",
        "plist = [];\n",
        "for l in list(loan_pdf):\n",
        "  plist.append(sum(loan_pdf[l]))\n",
        "\n",
        "print(plist)\n",
        "performance = plist#[10,8,6,4,2,1]\n",
        "\n",
        "\n",
        "plt.bar(y_pos, performance, align='center', alpha=0.5)\n",
        "plt.xticks(y_pos, objects)\n",
        "plt.ylabel('headers')\n",
        "plt.title('Loan Data')\n",
        "\n",
        "plt.show()"
      ],
      "execution_count": 115,
      "outputs": [
        {
          "output_type": "stream",
          "text": [
            "[4349, 488.19950000000154, 1369525.9799999981, 52639.68523496133, 54672.95999999979, 3541056, 23284073.833354488, 72418659, 168305.33000000063, 5984, 384, 204, 554]\n"
          ],
          "name": "stdout"
        },
        {
          "output_type": "display_data",
          "data": {
            "image/png": "[encoded data removed]",
            "text/plain": [
              "<Figure size 640x480 with 1 Axes>"
            ]
          },
          "metadata": {
            "tags": []
          }
        }
      ]
    },
    {
      "cell_type": "code",
      "metadata": {
        "id": "62RghIP7Tq2k",
        "colab_type": "code",
        "colab": {
          "base_uri": "https://localhost:8080/",
          "height": 35
        },
        "outputId": "04cb0b2a-ec74-4bcc-dcf7-ea28300f20c5"
      },
      "source": [
        "predictions = modal.predict(X)\n",
        "predictions"
      ],
      "execution_count": 116,
      "outputs": [
        {
          "output_type": "execute_result",
          "data": {
            "text/plain": [
              "array([1, 1, 1, ..., 1, 1, 0])"
            ]
          },
          "metadata": {
            "tags": []
          },
          "execution_count": 116
        }
      ]
    },
    {
      "cell_type": "code",
      "metadata": {
        "id": "hShpDI4WYpQ3",
        "colab_type": "code",
        "colab": {
          "base_uri": "https://localhost:8080/",
          "height": 35
        },
        "outputId": "0752b1ee-0c8c-436f-f7c9-1890bebcfbd9"
      },
      "source": [
        "v = 1\n",
        "v"
      ],
      "execution_count": 121,
      "outputs": [
        {
          "output_type": "execute_result",
          "data": {
            "text/plain": [
              "1"
            ]
          },
          "metadata": {
            "tags": []
          },
          "execution_count": 121
        }
      ]
    },
    {
      "cell_type": "code",
      "metadata": {
        "id": "kNr1fUMisX4Q",
        "colab_type": "code",
        "colab": {
          "resources": {
            "http://localhost:8080/nbextensions/google.colab/files.js": {
              "data": "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",
              "ok": true,
              "headers": [
                [
                  "content-type",
                  "application/javascript"
                ]
              ],
              "status": 200,
              "status_text": ""
            }
          },
          "base_uri": "https://localhost:8080/",
          "height": 75
        },
        "outputId": "b3e450bf-72a4-4834-8152-dab1fccc14d7"
      },
      "source": [
        "# upload Data\n",
        "from google.colab import files\n",
        "uploads = files.upload()"
      ],
      "execution_count": 122,
      "outputs": [
        {
          "output_type": "display_data",
          "data": {
            "text/html": [
              "\n",
              "     <input type=\"file\" id=\"files-60923238-2b97-40b7-a974-8b70666b53b7\" name=\"files[]\" multiple disabled />\n",
              "     <output id=\"result-60923238-2b97-40b7-a974-8b70666b53b7\">\n",
              "      Upload widget is only available when the cell has been executed in the\n",
              "      current browser session. Please rerun this cell to enable.\n",
              "      </output>\n",
              "      <script src=\"/nbextensions/google.colab/files.js\"></script> "
            ],
            "text/plain": [
              "<IPython.core.display.HTML object>"
            ]
          },
          "metadata": {
            "tags": []
          }
        },
        {
          "output_type": "stream",
          "text": [
            "Saving TRAIN_info_SMS.csv to TRAIN_info_SMS.csv\n"
          ],
          "name": "stdout"
        }
      ]
    },
    {
      "cell_type": "code",
      "metadata": {
        "id": "t_VbY4aRGf4r",
        "colab_type": "code",
        "colab": {}
      },
      "source": [
        "#read data\n",
        "import pandas as pd\n",
        "train_df = pd.read_csv('TRAIN_info_SMS.csv')"
      ],
      "execution_count": 0,
      "outputs": []
    },
    {
      "cell_type": "code",
      "metadata": {
        "id": "SYKzYKzRG99W",
        "colab_type": "code",
        "colab": {
          "base_uri": "https://localhost:8080/",
          "height": 203
        },
        "outputId": "9f4a4990-2234-43c9-ec56-a80a420dc8bc"
      },
      "source": [
        "train_df.head()"
      ],
      "execution_count": 128,
      "outputs": [
        {
          "output_type": "execute_result",
          "data": {
            "text/html": [
              "<div>\n",
              "<style scoped>\n",
              "    .dataframe tbody tr th:only-of-type {\n",
              "        vertical-align: middle;\n",
              "    }\n",
              "\n",
              "    .dataframe tbody tr th {\n",
              "        vertical-align: top;\n",
              "    }\n",
              "\n",
              "    .dataframe thead th {\n",
              "        text-align: right;\n",
              "    }\n",
              "</style>\n",
              "<table border=\"1\" class=\"dataframe\">\n",
              "  <thead>\n",
              "    <tr style=\"text-align: right;\">\n",
              "      <th></th>\n",
              "      <th>Label</th>\n",
              "      <th>Message</th>\n",
              "    </tr>\n",
              "  </thead>\n",
              "  <tbody>\n",
              "    <tr>\n",
              "      <th>0</th>\n",
              "      <td>Delivery</td>\n",
              "      <td>Dear Guest, Thanks for choosing The Edison. Or...</td>\n",
              "    </tr>\n",
              "    <tr>\n",
              "      <th>1</th>\n",
              "      <td>Hotel</td>\n",
              "      <td>Welcome to Southern University at Shreveport R...</td>\n",
              "    </tr>\n",
              "    <tr>\n",
              "      <th>2</th>\n",
              "      <td>Payment</td>\n",
              "      <td>Bill dated 2013-01-14 for Rs 626 has been gene...</td>\n",
              "    </tr>\n",
              "    <tr>\n",
              "      <th>3</th>\n",
              "      <td>Payment</td>\n",
              "      <td>Bill dated 2014-11-30 for Rs 323 has been gene...</td>\n",
              "    </tr>\n",
              "    <tr>\n",
              "      <th>4</th>\n",
              "      <td>Appointment</td>\n",
              "      <td>DEAR Zachary, THANK YOU FOR YOUR BOOKING (ORDE...</td>\n",
              "    </tr>\n",
              "  </tbody>\n",
              "</table>\n",
              "</div>"
            ],
            "text/plain": [
              "         Label                                            Message\n",
              "0     Delivery  Dear Guest, Thanks for choosing The Edison. Or...\n",
              "1        Hotel  Welcome to Southern University at Shreveport R...\n",
              "2      Payment  Bill dated 2013-01-14 for Rs 626 has been gene...\n",
              "3      Payment  Bill dated 2014-11-30 for Rs 323 has been gene...\n",
              "4  Appointment  DEAR Zachary, THANK YOU FOR YOUR BOOKING (ORDE..."
            ]
          },
          "metadata": {
            "tags": []
          },
          "execution_count": 128
        }
      ]
    },
    {
      "cell_type": "code",
      "metadata": {
        "id": "3x7RZcgjHA5f",
        "colab_type": "code",
        "colab": {
          "base_uri": "https://localhost:8080/",
          "height": 35
        },
        "outputId": "00d7dc3a-3c48-47dd-c335-95786018b596"
      },
      "source": [
        "train_df.shape"
      ],
      "execution_count": 129,
      "outputs": [
        {
          "output_type": "execute_result",
          "data": {
            "text/plain": [
              "(12000, 2)"
            ]
          },
          "metadata": {
            "tags": []
          },
          "execution_count": 129
        }
      ]
    },
    {
      "cell_type": "code",
      "metadata": {
        "id": "wugLxe4AHHN3",
        "colab_type": "code",
        "colab": {
          "base_uri": "https://localhost:8080/",
          "height": 35
        },
        "outputId": "c91bffd2-d7c8-49de-af6b-5a5179a6b5a4"
      },
      "source": [
        "#max size of a column value\n",
        "len(train_df['Message'].max())\n"
      ],
      "execution_count": 136,
      "outputs": [
        {
          "output_type": "execute_result",
          "data": {
            "text/plain": [
              "140"
            ]
          },
          "metadata": {
            "tags": []
          },
          "execution_count": 136
        }
      ]
    },
    {
      "cell_type": "code",
      "metadata": {
        "id": "XhNwD5iyHd_w",
        "colab_type": "code",
        "colab": {
          "base_uri": "https://localhost:8080/",
          "height": 35
        },
        "outputId": "78195656-169a-482e-9768-46c0e6b9bc45"
      },
      "source": [
        "#distinct values in a column\n",
        "len(train_df['Label'].unique())"
      ],
      "execution_count": 139,
      "outputs": [
        {
          "output_type": "execute_result",
          "data": {
            "text/plain": [
              "12"
            ]
          },
          "metadata": {
            "tags": []
          },
          "execution_count": 139
        }
      ]
    },
    {
      "cell_type": "code",
      "metadata": {
        "id": "gq0vFofPIfEN",
        "colab_type": "code",
        "colab": {
          "base_uri": "https://localhost:8080/",
          "height": 52
        },
        "outputId": "10bb101a-da00-451a-a3ab-08c85c7a1489"
      },
      "source": [
        "#clean data\n",
        "import re\n",
        "import nltk   #natural language tool kit\n",
        "nltk.download('stopwords')\n",
        "from nltk.corpus import stopwords\n"
      ],
      "execution_count": 145,
      "outputs": [
        {
          "output_type": "stream",
          "text": [
            "[nltk_data] Downloading package stopwords to /root/nltk_data...\n",
            "[nltk_data]   Unzipping corpora/stopwords.zip.\n"
          ],
          "name": "stdout"
        }
      ]
    },
    {
      "cell_type": "code",
      "metadata": {
        "id": "BvUwp3wrLyqW",
        "colab_type": "code",
        "colab": {}
      },
      "source": [
        "#simple definition to process the words urther\n",
        "def message_to_words(raw_message):\n",
        "  #letters_only - re.sub(\"[^a-zA-Z]\",\" \",raw_converse)\n",
        "  #1. Lower case & split\n",
        "  words = raw_message.lower().split()\n",
        "  #2. convert stop words to a set\n",
        "  stops=set(stopwords.words('english'))\n",
        "  #3. Remove stop words\n",
        "  meaningful_words = [w for w in words if not w in stops]\n",
        "  #4. Join the words back into one string\n",
        "  return (\" \".join(meaningful_words))\n",
        "\n",
        "\n"
      ],
      "execution_count": 0,
      "outputs": []
    },
    {
      "cell_type": "code",
      "metadata": {
        "id": "BuW1nAT_Lze9",
        "colab_type": "code",
        "colab": {
          "base_uri": "https://localhost:8080/",
          "height": 158
        },
        "outputId": "9a8934c6-3e60-4265-f3e7-82a4d2852a43"
      },
      "source": [
        "for m in train_df['Message'].tolist()[0:2]:\n",
        "  print(m)\n",
        "  print(\"--------------------------------\")\n",
        "  print(message_to_words(m))\n",
        "  print(\"--------------------------------\")"
      ],
      "execution_count": 161,
      "outputs": [
        {
          "output_type": "stream",
          "text": [
            "Dear Guest, Thanks for choosing The Edison. Order ID 3645. Delivery by 2013-12-18 21:57. Enjoy 10% discount on your next purchase. Code NL99J9. T&C.\n",
            "--------------------------------\n",
            "dear guest, thanks choosing edison. order id 3645. delivery 2013-12-18 21:57. enjoy 10% discount next purchase. code nl99j9. t&c.\n",
            "--------------------------------\n",
            "Welcome to Southern University at Shreveport R.No. 449, 133, 527 Ch.In 2013-03-21 17:56 Ch.out 2013-04-08 12:00.\n",
            "--------------------------------\n",
            "welcome southern university shreveport r.no. 449, 133, 527 ch.in 2013-03-21 17:56 ch.out 2013-04-08 12:00.\n",
            "--------------------------------\n"
          ],
          "name": "stdout"
        }
      ]
    },
    {
      "cell_type": "code",
      "metadata": {
        "id": "GiXC0x2kLitJ",
        "colab_type": "code",
        "colab": {}
      },
      "source": [
        "#simple definition to process the words urther\n",
        "def message_to_words_regex(raw_message):\n",
        "  letters_only = re.sub(\"[^a-zA-Z]\",\" \",raw_message)\n",
        "  #1. Lower case & split\n",
        "  words = letters_only.lower().split()\n",
        "  #2. convert stop words to a set\n",
        "  stops=set(stopwords.words('english'))\n",
        "  #3. Remove stop words\n",
        "  meaningful_words = [w for w in words if not w in stops]\n",
        "  #4. Join the words back into one string\n",
        "  return (\" \".join(meaningful_words))\n",
        "\n"
      ],
      "execution_count": 0,
      "outputs": []
    },
    {
      "cell_type": "code",
      "metadata": {
        "id": "OO-fzXx9NwcK",
        "colab_type": "code",
        "colab": {
          "base_uri": "https://localhost:8080/",
          "height": 158
        },
        "outputId": "29a58f52-dca2-4238-e369-1ff72e7cdc66"
      },
      "source": [
        "for m in train_df['Message'].tolist()[0:2]:\n",
        "  print(m)\n",
        "  print(\"--------------------------------\")\n",
        "  print(message_to_words_regex(m))\n",
        "  print(\"--------------------------------\")"
      ],
      "execution_count": 165,
      "outputs": [
        {
          "output_type": "stream",
          "text": [
            "Dear Guest, Thanks for choosing The Edison. Order ID 3645. Delivery by 2013-12-18 21:57. Enjoy 10% discount on your next purchase. Code NL99J9. T&C.\n",
            "--------------------------------\n",
            "dear guest thanks choosing edison order id delivery enjoy discount next purchase code nl j c\n",
            "--------------------------------\n",
            "Welcome to Southern University at Shreveport R.No. 449, 133, 527 Ch.In 2013-03-21 17:56 Ch.out 2013-04-08 12:00.\n",
            "--------------------------------\n",
            "welcome southern university shreveport r ch ch\n",
            "--------------------------------\n"
          ],
          "name": "stdout"
        }
      ]
    },
    {
      "cell_type": "code",
      "metadata": {
        "id": "O6wfWysrN1KG",
        "colab_type": "code",
        "colab": {}
      },
      "source": [
        "message=[]\n",
        "label=[]\n",
        "\n",
        "# len(train_df.Message)\n",
        "for x in range(len(train_df.Message)):\n",
        "  message.append(message_to_words_regex(str(train_df.Message[x])))\n",
        "  label.append(train_df.Label[x])"
      ],
      "execution_count": 0,
      "outputs": []
    },
    {
      "cell_type": "code",
      "metadata": {
        "id": "HGEwA6ScPlDc",
        "colab_type": "code",
        "colab": {
          "base_uri": "https://localhost:8080/",
          "height": 35
        },
        "outputId": "154cbe01-d763-4d38-90b2-d93983e1a42f"
      },
      "source": [
        "message[0]"
      ],
      "execution_count": 171,
      "outputs": [
        {
          "output_type": "execute_result",
          "data": {
            "text/plain": [
              "'dear guest thanks choosing edison order id delivery enjoy discount next purchase code nl j c'"
            ]
          },
          "metadata": {
            "tags": []
          },
          "execution_count": 171
        }
      ]
    },
    {
      "cell_type": "code",
      "metadata": {
        "id": "E9UGf0FxQ5d5",
        "colab_type": "code",
        "colab": {
          "base_uri": "https://localhost:8080/",
          "height": 35
        },
        "outputId": "efac46c1-b541-40df-deeb-f2506fc439bf"
      },
      "source": [
        "label[0]"
      ],
      "execution_count": 172,
      "outputs": [
        {
          "output_type": "execute_result",
          "data": {
            "text/plain": [
              "'Delivery'"
            ]
          },
          "metadata": {
            "tags": []
          },
          "execution_count": 172
        }
      ]
    },
    {
      "cell_type": "markdown",
      "metadata": {
        "id": "wT9LX-5vRDi5",
        "colab_type": "text"
      },
      "source": [
        "# Load Data"
      ]
    },
    {
      "cell_type": "code",
      "metadata": {
        "id": "lg425K9SQ7cm",
        "colab_type": "code",
        "colab": {
          "base_uri": "https://localhost:8080/",
          "height": 17635
        },
        "outputId": "fc802cb4-7147-4d9b-ef14-a3ba8e86497e"
      },
      "source": [
        "#create word frequency matrix for every message\n",
        "#Apply Tfidf Vectorizer-extracting upto 1400 features\n",
        "#TF-IDF Matrix\n",
        "#steming\n",
        "from sklearn.feature_extraction.text import CountVectorizer\n",
        "vectorizer = CountVectorizer(analyzer=\"word\",\\\n",
        "                            tokenizer=None,\\\n",
        "                            preprocessor=None,\n",
        "                            ngram_range=(1,1), \n",
        "                            max_features=1400, \n",
        "                            stop_words=None)\n",
        "\n",
        "data_features = vectorizer.fit_transform(message)\n",
        "type(data_features)\n",
        "vectorizer.get_feature_names()"
      ],
      "execution_count": 180,
      "outputs": [
        {
          "output_type": "execute_result",
          "data": {
            "text/plain": [
              "['aag',\n",
              " 'aal',\n",
              " 'aaron',\n",
              " 'ab',\n",
              " 'abka',\n",
              " 'abkp',\n",
              " 'abraham',\n",
              " 'ac',\n",
              " 'accountant',\n",
              " 'ad',\n",
              " 'adam',\n",
              " 'add',\n",
              " 'adf',\n",
              " 'adrian',\n",
              " 'adt',\n",
              " 'adventure',\n",
              " 'advi',\n",
              " 'af',\n",
              " 'afr',\n",
              " 'agb',\n",
              " 'age',\n",
              " 'agency',\n",
              " 'agr',\n",
              " 'agumbe',\n",
              " 'agx',\n",
              " 'ah',\n",
              " 'aidan',\n",
              " 'aiden',\n",
              " 'air',\n",
              " 'airasia',\n",
              " 'aircel',\n",
              " 'airport',\n",
              " 'airporttaxi',\n",
              " 'airtel',\n",
              " 'airways',\n",
              " 'aj',\n",
              " 'ajl',\n",
              " 'ak',\n",
              " 'akd',\n",
              " 'akn',\n",
              " 'akv',\n",
              " 'akvd',\n",
              " 'al',\n",
              " 'alan',\n",
              " 'alb',\n",
              " 'alejandro',\n",
              " 'alex',\n",
              " 'alexander',\n",
              " 'alexis',\n",
              " 'alice',\n",
              " 'alike',\n",
              " 'allegiant',\n",
              " 'alni',\n",
              " 'along',\n",
              " 'amd',\n",
              " 'america',\n",
              " 'american',\n",
              " 'amg',\n",
              " 'amh',\n",
              " 'aml',\n",
              " 'amla',\n",
              " 'amt',\n",
              " 'anb',\n",
              " 'andre',\n",
              " 'andres',\n",
              " 'andrew',\n",
              " 'andy',\n",
              " 'angel',\n",
              " 'angry',\n",
              " 'angus',\n",
              " 'ani',\n",
              " 'anjan',\n",
              " 'antonio',\n",
              " 'anv',\n",
              " 'anvr',\n",
              " 'anwatti',\n",
              " 'anwman',\n",
              " 'ao',\n",
              " 'apa',\n",
              " 'api',\n",
              " 'apk',\n",
              " 'apocalypse',\n",
              " 'app',\n",
              " 'apply',\n",
              " 'appointment',\n",
              " 'appt',\n",
              " 'aq',\n",
              " 'aqg',\n",
              " 'arcade',\n",
              " 'arena',\n",
              " 'arrival',\n",
              " 'art',\n",
              " 'arthur',\n",
              " 'aryan',\n",
              " 'ashton',\n",
              " 'asn',\n",
              " 'assigned',\n",
              " 'assistance',\n",
              " 'ast',\n",
              " 'atmo',\n",
              " 'atp',\n",
              " 'atq',\n",
              " 'atru',\n",
              " 'attending',\n",
              " 'austin',\n",
              " 'auto',\n",
              " 'avenue',\n",
              " 'avery',\n",
              " 'avk',\n",
              " 'avs',\n",
              " 'awr',\n",
              " 'axk',\n",
              " 'axr',\n",
              " 'ayden',\n",
              " 'az',\n",
              " 'bad',\n",
              " 'bagd',\n",
              " 'bagels',\n",
              " 'bah',\n",
              " 'bakery',\n",
              " 'bama',\n",
              " 'banaswadi',\n",
              " 'bank',\n",
              " 'bannerghatta',\n",
              " 'bano',\n",
              " 'bao',\n",
              " 'bap',\n",
              " 'bar',\n",
              " 'barbecue',\n",
              " 'barbeque',\n",
              " 'barbque',\n",
              " 'batman',\n",
              " 'bay',\n",
              " 'baz',\n",
              " 'bbai',\n",
              " 'bbgn',\n",
              " 'bbi',\n",
              " 'bbk',\n",
              " 'bbq',\n",
              " 'bbs',\n",
              " 'bbtr',\n",
              " 'bbu',\n",
              " 'bc',\n",
              " 'bco',\n",
              " 'bcob',\n",
              " 'bcq',\n",
              " 'bcu',\n",
              " 'bdcr',\n",
              " 'bdh',\n",
              " 'bdi',\n",
              " 'bdm',\n",
              " 'bdn',\n",
              " 'bdq',\n",
              " 'bdts',\n",
              " 'bdvt',\n",
              " 'bdwl',\n",
              " 'beach',\n",
              " 'beanery',\n",
              " 'beasts',\n",
              " 'beb',\n",
              " 'behr',\n",
              " 'bek',\n",
              " 'bela',\n",
              " 'belagavi',\n",
              " 'bellandur',\n",
              " 'ben',\n",
              " 'bengaluru',\n",
              " 'benjamin',\n",
              " 'beo',\n",
              " 'bep',\n",
              " 'best',\n",
              " 'bew',\n",
              " 'beyond',\n",
              " 'bf',\n",
              " 'bfm',\n",
              " 'bft',\n",
              " 'bfy',\n",
              " 'bg',\n",
              " 'bgm',\n",
              " 'bgmr',\n",
              " 'bgp',\n",
              " 'bgpr',\n",
              " 'bgq',\n",
              " 'bgsf',\n",
              " 'bgu',\n",
              " 'bgvn',\n",
              " 'bh',\n",
              " 'bhbk',\n",
              " 'bhd',\n",
              " 'bhet',\n",
              " 'bhg',\n",
              " 'bhj',\n",
              " 'bhja',\n",
              " 'bhkd',\n",
              " 'bhle',\n",
              " 'bhlk',\n",
              " 'bhlp',\n",
              " 'bhme',\n",
              " 'bhne',\n",
              " 'bhns',\n",
              " 'bho',\n",
              " 'bhrl',\n",
              " 'bht',\n",
              " 'bhta',\n",
              " 'bhtk',\n",
              " 'bhtn',\n",
              " 'bhtr',\n",
              " 'bhu',\n",
              " 'bhuj',\n",
              " 'bhy',\n",
              " 'bhz',\n",
              " 'bia',\n",
              " 'bid',\n",
              " 'big',\n",
              " 'bijr',\n",
              " 'bik',\n",
              " 'bila',\n",
              " 'bild',\n",
              " 'bill',\n",
              " 'bim',\n",
              " 'bimal',\n",
              " 'binnypet',\n",
              " 'bir',\n",
              " 'bird',\n",
              " 'birds',\n",
              " 'biu',\n",
              " 'biwk',\n",
              " 'bix',\n",
              " 'bj',\n",
              " 'bje',\n",
              " 'bji',\n",
              " 'bjih',\n",
              " 'bjk',\n",
              " 'bjmd',\n",
              " 'bjo',\n",
              " 'bjq',\n",
              " 'bjr',\n",
              " 'bjri',\n",
              " 'bjw',\n",
              " 'bk',\n",
              " 'bkb',\n",
              " 'bkle',\n",
              " 'bksl',\n",
              " 'bkth',\n",
              " 'bku',\n",
              " 'bl',\n",
              " 'blake',\n",
              " 'bld',\n",
              " 'blda',\n",
              " 'bldi',\n",
              " 'blg',\n",
              " 'blh',\n",
              " 'bll',\n",
              " 'blmk',\n",
              " 'blni',\n",
              " 'blnr',\n",
              " 'blo',\n",
              " 'blor',\n",
              " 'blqr',\n",
              " 'blr',\n",
              " 'blsn',\n",
              " 'blsr',\n",
              " 'bltr',\n",
              " 'blu',\n",
              " 'blue',\n",
              " 'bmck',\n",
              " 'bmd',\n",
              " 'bmga',\n",
              " 'bmh',\n",
              " 'bmkd',\n",
              " 'bmkj',\n",
              " 'bmr',\n",
              " 'bmsb',\n",
              " 'bn',\n",
              " 'bnbh',\n",
              " 'bnhl',\n",
              " 'bnl',\n",
              " 'bno',\n",
              " 'bnr',\n",
              " 'bnsa',\n",
              " 'bnv',\n",
              " 'bnvd',\n",
              " 'bnw',\n",
              " 'bnwc',\n",
              " 'boardingpt',\n",
              " 'bob',\n",
              " 'bod',\n",
              " 'bof',\n",
              " 'boke',\n",
              " 'bokr',\n",
              " 'bom',\n",
              " 'bon',\n",
              " 'boo',\n",
              " 'book',\n",
              " 'booking',\n",
              " 'boston',\n",
              " 'boti',\n",
              " 'bourne',\n",
              " 'boy',\n",
              " 'boys',\n",
              " 'bp',\n",
              " 'bpd',\n",
              " 'bph',\n",
              " 'bphb',\n",
              " 'bpl',\n",
              " 'bpo',\n",
              " 'bpr',\n",
              " 'bprs',\n",
              " 'bqg',\n",
              " 'bqn',\n",
              " 'bqu',\n",
              " 'braden',\n",
              " 'bradley',\n",
              " 'brady',\n",
              " 'brandon',\n",
              " 'brayden',\n",
              " 'brd',\n",
              " 'bre',\n",
              " 'bread',\n",
              " 'breathe',\n",
              " 'brendan',\n",
              " 'brett',\n",
              " 'brgt',\n",
              " 'brian',\n",
              " 'bridge',\n",
              " 'brigade',\n",
              " 'brkh',\n",
              " 'brly',\n",
              " 'brmo',\n",
              " 'brna',\n",
              " 'broadband',\n",
              " 'brody',\n",
              " 'brookefield',\n",
              " 'bros',\n",
              " 'brown',\n",
              " 'brpl',\n",
              " 'brs',\n",
              " 'brtk',\n",
              " 'bru',\n",
              " 'bryan',\n",
              " 'bryce',\n",
              " 'bryson',\n",
              " 'bs',\n",
              " 'bsdp',\n",
              " 'bshrs',\n",
              " 'bsi',\n",
              " 'bsl',\n",
              " 'bsnl',\n",
              " 'bsp',\n",
              " 'bspr',\n",
              " 'bsqp',\n",
              " 'bte',\n",
              " 'btkl',\n",
              " 'btkp',\n",
              " 'bto',\n",
              " 'btsd',\n",
              " 'btsr',\n",
              " 'btt',\n",
              " 'bttr',\n",
              " 'bua',\n",
              " 'buffet',\n",
              " 'bul',\n",
              " 'bup',\n",
              " 'buph',\n",
              " 'buq',\n",
              " 'burger',\n",
              " 'burgers',\n",
              " 'burrito',\n",
              " 'bus',\n",
              " 'bux',\n",
              " 'bv',\n",
              " 'bvc',\n",
              " 'bvl',\n",
              " 'bvrm',\n",
              " 'bvs',\n",
              " 'bwd',\n",
              " 'bwh',\n",
              " 'bwip',\n",
              " 'bwl',\n",
              " 'bwn',\n",
              " 'bwr',\n",
              " 'bx',\n",
              " 'byc',\n",
              " 'byha',\n",
              " 'byl',\n",
              " 'byr',\n",
              " 'bys',\n",
              " 'byt',\n",
              " 'bzm',\n",
              " 'cab',\n",
              " 'caden',\n",
              " 'caf',\n",
              " 'cafe',\n",
              " 'cafes',\n",
              " 'cafeteria',\n",
              " 'cafeterias',\n",
              " 'caffe',\n",
              " 'caleb',\n",
              " 'california',\n",
              " 'call',\n",
              " 'calvin',\n",
              " 'camden',\n",
              " 'cameron',\n",
              " 'camp',\n",
              " 'canada',\n",
              " 'captain',\n",
              " 'car',\n",
              " 'card',\n",
              " 'carlos',\n",
              " 'carnival',\n",
              " 'carry',\n",
              " 'carson',\n",
              " 'carter',\n",
              " 'case',\n",
              " 'cauvery',\n",
              " 'cayden',\n",
              " 'cc',\n",
              " 'ccj',\n",
              " 'ccu',\n",
              " 'cdp',\n",
              " 'cell',\n",
              " 'center',\n",
              " 'central',\n",
              " 'cesar',\n",
              " 'ch',\n",
              " 'chair',\n",
              " 'channarayapatna',\n",
              " 'charles',\n",
              " 'charley',\n",
              " 'chase',\n",
              " 'chauffer',\n",
              " 'check',\n",
              " 'chef',\n",
              " 'chennai',\n",
              " 'chicken',\n",
              " 'chikkamagaluru',\n",
              " 'children',\n",
              " 'chili',\n",
              " 'chinese',\n",
              " 'chitradurga',\n",
              " 'choosing',\n",
              " 'christian',\n",
              " 'cinema',\n",
              " 'cinemas',\n",
              " 'cinepolis',\n",
              " 'circle',\n",
              " 'city',\n",
              " 'civil',\n",
              " 'cjb',\n",
              " 'class',\n",
              " 'clayton',\n",
              " 'cloud',\n",
              " 'cloverfield',\n",
              " 'club',\n",
              " 'cmnty',\n",
              " 'co',\n",
              " 'coast',\n",
              " 'code',\n",
              " 'cody',\n",
              " 'coffee',\n",
              " 'coh',\n",
              " 'coimbatore',\n",
              " 'cok',\n",
              " 'colby',\n",
              " 'cole',\n",
              " 'colin',\n",
              " 'collection',\n",
              " 'college',\n",
              " 'collin',\n",
              " 'collision',\n",
              " 'colorado',\n",
              " 'colton',\n",
              " 'com',\n",
              " 'community',\n",
              " 'company',\n",
              " 'coney',\n",
              " 'confectionery',\n",
              " 'confirmed',\n",
              " 'conjuring',\n",
              " 'conner',\n",
              " 'connor',\n",
              " 'contact',\n",
              " 'cook',\n",
              " 'cookies',\n",
              " 'coonur',\n",
              " 'cooper',\n",
              " 'copa',\n",
              " 'corey',\n",
              " 'corner',\n",
              " 'corp',\n",
              " 'corporation',\n",
              " 'counter',\n",
              " 'country',\n",
              " 'county',\n",
              " 'course',\n",
              " 'cream',\n",
              " 'creamery',\n",
              " 'creek',\n",
              " 'cristian',\n",
              " 'cty',\n",
              " 'custard',\n",
              " 'customer',\n",
              " 'dae',\n",
              " 'dakota',\n",
              " 'dalton',\n",
              " 'damian',\n",
              " 'damien',\n",
              " 'daniel',\n",
              " 'date',\n",
              " 'dated',\n",
              " 'davanegere',\n",
              " 'dave',\n",
              " 'david',\n",
              " 'dawn',\n",
              " 'dawson',\n",
              " 'day',\n",
              " 'days',\n",
              " 'dc',\n",
              " 'de',\n",
              " 'deadpool',\n",
              " 'dear',\n",
              " 'ded',\n",
              " 'del',\n",
              " 'delayed',\n",
              " 'deli',\n",
              " 'delicatessen',\n",
              " 'delivery',\n",
              " 'dep',\n",
              " 'deptime',\n",
              " 'derek',\n",
              " 'derrick',\n",
              " 'desert',\n",
              " 'devin',\n",
              " 'devon',\n",
              " 'dharmastala',\n",
              " 'dhm',\n",
              " 'dib',\n",
              " 'diego',\n",
              " 'digital',\n",
              " 'dillon',\n",
              " 'diner',\n",
              " 'dining',\n",
              " 'dinner',\n",
              " 'discount',\n",
              " 'diu',\n",
              " 'dj',\n",
              " 'dkgs',\n",
              " 'dmu',\n",
              " 'docomo',\n",
              " 'doctor',\n",
              " 'dog',\n",
              " 'doj',\n",
              " 'dome',\n",
              " 'dominic',\n",
              " 'dominick',\n",
              " 'dominoes',\n",
              " 'dominos',\n",
              " 'dominoz',\n",
              " 'donovan',\n",
              " 'donut',\n",
              " 'donuts',\n",
              " 'dory',\n",
              " 'doughnut',\n",
              " 'downtown',\n",
              " 'dp',\n",
              " 'dr',\n",
              " 'dragon',\n",
              " 'drake',\n",
              " 'drew',\n",
              " 'drive',\n",
              " 'drivein',\n",
              " 'du',\n",
              " 'due',\n",
              " 'dunkin',\n",
              " 'dustin',\n",
              " 'dw',\n",
              " 'dylan',\n",
              " 'eagle',\n",
              " 'east',\n",
              " 'eatery',\n",
              " 'edgar',\n",
              " 'eduardo',\n",
              " 'edward',\n",
              " 'edwin',\n",
              " 'el',\n",
              " 'election',\n",
              " 'elements',\n",
              " 'eli',\n",
              " 'elias',\n",
              " 'elijah',\n",
              " 'emergency',\n",
              " 'emmanuel',\n",
              " 'enjoy',\n",
              " 'eric',\n",
              " 'erick',\n",
              " 'erik',\n",
              " 'ernakulam',\n",
              " 'espresso',\n",
              " 'est',\n",
              " 'etd',\n",
              " 'ethan',\n",
              " 'evan',\n",
              " 'express',\n",
              " 'factory',\n",
              " 'fair',\n",
              " 'falls',\n",
              " 'famous',\n",
              " 'fantastic',\n",
              " 'fare',\n",
              " 'fc',\n",
              " 'fernando',\n",
              " 'fernmeldeturm',\n",
              " 'ff',\n",
              " 'field',\n",
              " 'figures',\n",
              " 'find',\n",
              " 'finding',\n",
              " 'first',\n",
              " 'fixedline',\n",
              " 'fj',\n",
              " 'flt',\n",
              " 'fn',\n",
              " 'fncl',\n",
              " 'food',\n",
              " 'foods',\n",
              " 'forest',\n",
              " 'fort',\n",
              " 'forum',\n",
              " 'four',\n",
              " 'fr',\n",
              " 'francisco',\n",
              " 'frank',\n",
              " 'frankie',\n",
              " 'franklin',\n",
              " 'fresh',\n",
              " 'friday',\n",
              " 'fried',\n",
              " 'frozen',\n",
              " 'fs',\n",
              " 'fu',\n",
              " 'fun',\n",
              " 'fv',\n",
              " 'gabriel',\n",
              " 'gage',\n",
              " 'gallery',\n",
              " 'gandhinagar',\n",
              " 'garden',\n",
              " 'garrett',\n",
              " 'garuda',\n",
              " 'gau',\n",
              " 'gavin',\n",
              " 'gay',\n",
              " 'gb',\n",
              " 'gc',\n",
              " 'generated',\n",
              " 'george',\n",
              " 'gerardo',\n",
              " 'get',\n",
              " 'ghostbusters',\n",
              " 'giovanni',\n",
              " 'giratorio',\n",
              " 'girl',\n",
              " 'glass',\n",
              " 'gloria',\n",
              " 'go',\n",
              " 'goa',\n",
              " 'gold',\n",
              " 'golden',\n",
              " 'gop',\n",
              " 'gopalan',\n",
              " 'grand',\n",
              " 'grant',\n",
              " 'gregory',\n",
              " 'griffin',\n",
              " 'grill',\n",
              " 'group',\n",
              " 'gt',\n",
              " 'guest',\n",
              " 'gv',\n",
              " 'gwl',\n",
              " 'hacksaw',\n",
              " 'hall',\n",
              " 'halloween',\n",
              " 'hamburger',\n",
              " 'hamburgers',\n",
              " 'hard',\n",
              " 'harrison',\n",
              " 'hassan',\n",
              " 'hayden',\n",
              " 'hbx',\n",
              " 'health',\n",
              " 'hector',\n",
              " 'henry',\n",
              " 'heritage',\n",
              " 'hi',\n",
              " 'hidden',\n",
              " 'hiriyur',\n",
              " 'hjr',\n",
              " 'hn',\n",
              " 'hoka',\n",
              " 'hold',\n",
              " 'holdings',\n",
              " 'holiday',\n",
              " 'home',\n",
              " 'hospital',\n",
              " 'hot',\n",
              " 'hotel',\n",
              " 'house',\n",
              " 'hrs',\n",
              " 'ht',\n",
              " 'hubli',\n",
              " 'hudson',\n",
              " 'hundimala',\n",
              " 'hunter',\n",
              " 'hut',\n",
              " 'hx',\n",
              " 'hy',\n",
              " 'hyd',\n",
              " 'hyderabad',\n",
              " 'hyundai',\n",
              " 'ian',\n",
              " 'ib',\n",
              " 'ice',\n",
              " 'icecream',\n",
              " 'id',\n",
              " 'idea',\n",
              " 'idr',\n",
              " 'ie',\n",
              " 'il',\n",
              " 'imf',\n",
              " 'independence',\n",
              " 'india',\n",
              " 'indigo',\n",
              " 'industries',\n",
              " 'inn',\n",
              " 'innovative',\n",
              " 'inox',\n",
              " 'ins',\n",
              " 'institute',\n",
              " 'intelligence',\n",
              " 'international',\n",
              " 'io',\n",
              " 'isaac',\n",
              " 'isaiah',\n",
              " 'isk',\n",
              " 'island',\n",
              " 'islands',\n",
              " 'israel',\n",
              " 'italian',\n",
              " 'ivan',\n",
              " 'ixe',\n",
              " 'ixm',\n",
              " 'jace',\n",
              " 'jack',\n",
              " 'jacks',\n",
              " 'jackson',\n",
              " 'jacob',\n",
              " 'jaden',\n",
              " 'jai',\n",
              " 'jaiden',\n",
              " 'jake',\n",
              " 'jalen',\n",
              " 'james',\n",
              " 'jared',\n",
              " 'jason',\n",
              " 'javier',\n",
              " 'jaxon',\n",
              " 'jayanagar',\n",
              " 'jayden',\n",
              " 'jaylen',\n",
              " 'jc',\n",
              " 'jdh',\n",
              " 'jeffrey',\n",
              " 'jeremiah',\n",
              " 'jeremy',\n",
              " 'jerry',\n",
              " 'jesse',\n",
              " 'jesus',\n",
              " 'jet',\n",
              " 'jga',\n",
              " 'jgb',\n",
              " 'jh',\n",
              " 'jimmy',\n",
              " 'jio',\n",
              " 'jlr',\n",
              " 'jnydate',\n",
              " 'joe',\n",
              " 'joel',\n",
              " 'john',\n",
              " 'johnathan',\n",
              " 'johnny',\n",
              " 'jonah',\n",
              " 'jonathan',\n",
              " 'jordan',\n",
              " 'jorge',\n",
              " 'jose',\n",
              " 'joseph',\n",
              " 'joshua',\n",
              " 'josiah',\n",
              " 'josue',\n",
              " 'journey',\n",
              " 'joy',\n",
              " 'jp',\n",
              " 'jrh',\n",
              " 'js',\n",
              " 'jsa',\n",
              " 'juan',\n",
              " 'juice',\n",
              " 'julian',\n",
              " 'julio',\n",
              " 'junction',\n",
              " 'jungle',\n",
              " 'junk',\n",
              " 'justice',\n",
              " 'justin',\n",
              " 'jv',\n",
              " 'jw',\n",
              " 'jx',\n",
              " 'ka',\n",
              " 'kaden',\n",
              " 'kai',\n",
              " 'kaiden',\n",
              " 'kaleb',\n",
              " 'kannur',\n",
              " 'karaikudi',\n",
              " 'kasargod',\n",
              " 'keegan',\n",
              " 'kenneth',\n",
              " 'kevin',\n",
              " 'kewpee',\n",
              " 'kf',\n",
              " 'kial',\n",
              " 'king',\n",
              " 'kitchen',\n",
              " 'klh',\n",
              " 'kodaikanal',\n",
              " 'kogi',\n",
              " 'kolar',\n",
              " 'kolhapur',\n",
              " 'kolpud',\n",
              " 'kolshi',\n",
              " 'kottayam',\n",
              " 'kozhikode',\n",
              " 'ksrtc',\n",
              " 'ktu',\n",
              " 'kumbakonam',\n",
              " 'kundapura',\n",
              " 'kung',\n",
              " 'kuu',\n",
              " 'kyle',\n",
              " 'la',\n",
              " 'lake',\n",
              " 'lakshmi',\n",
              " 'land',\n",
              " 'landen',\n",
              " 'landon',\n",
              " 'lane',\n",
              " 'ld',\n",
              " 'lda',\n",
              " 'le',\n",
              " 'leaf',\n",
              " 'lee',\n",
              " 'legend',\n",
              " 'leonardo',\n",
              " 'levi',\n",
              " 'lh',\n",
              " 'liam',\n",
              " 'lido',\n",
              " 'life',\n",
              " 'lights',\n",
              " 'limited',\n",
              " 'little',\n",
              " 'lj',\n",
              " 'lko',\n",
              " 'lmt',\n",
              " 'lobster',\n",
              " 'logan',\n",
              " 'london',\n",
              " 'long',\n",
              " 'looking',\n",
              " 'los',\n",
              " 'lounge',\n",
              " 'ltd',\n",
              " 'lucas',\n",
              " 'luh',\n",
              " 'luis',\n",
              " 'luke',\n",
              " 'lunch',\n",
              " 'maa',\n",
              " 'madea',\n",
              " 'madikeri',\n",
              " 'madras',\n",
              " 'madurai',\n",
              " 'magadi',\n",
              " 'magnificent',\n",
              " 'magrath',\n",
              " 'maha',\n",
              " 'mahadevapura',\n",
              " 'makemytrip',\n",
              " 'malachi',\n",
              " 'mall',\n",
              " 'mandya',\n",
              " 'mangaluru',\n",
              " 'manipal',\n",
              " 'mantralaya',\n",
              " 'mantri',\n",
              " 'manuel',\n",
              " 'marathahalli',\n",
              " 'marco',\n",
              " 'marcos',\n",
              " 'marcus',\n",
              " 'mario',\n",
              " 'mark',\n",
              " 'market',\n",
              " 'marriot',\n",
              " 'marriott',\n",
              " 'martin',\n",
              " 'maruti',\n",
              " 'mason',\n",
              " 'massage',\n",
              " 'matt',\n",
              " 'matthew',\n",
              " 'max',\n",
              " 'maximum',\n",
              " 'maxwell',\n",
              " 'mcdonald',\n",
              " 'medical',\n",
              " 'meenakshi',\n",
              " 'memorial',\n",
              " 'men',\n",
              " 'menara',\n",
              " 'mercara',\n",
              " 'meru',\n",
              " 'mexican',\n",
              " 'mg',\n",
              " 'mi',\n",
              " 'micah',\n",
              " 'michael',\n",
              " 'might',\n",
              " 'miguel',\n",
              " 'mike',\n",
              " 'miles',\n",
              " 'mill',\n",
              " 'mining',\n",
              " 'miniplex',\n",
              " 'mins',\n",
              " 'miss',\n",
              " 'mitchell',\n",
              " 'mo',\n",
              " 'moana',\n",
              " 'moms',\n",
              " 'montreal',\n",
              " 'mountain',\n",
              " 'movie',\n",
              " 'mr',\n",
              " 'msr',\n",
              " 'multiplex',\n",
              " 'mumbai',\n",
              " 'murder',\n",
              " 'museum',\n",
              " 'mutant',\n",
              " 'myq',\n",
              " 'mysore',\n",
              " 'mysuru',\n",
              " 'mzu',\n",
              " 'na',\n",
              " 'nag',\n",
              " 'nagar',\n",
              " 'nat',\n",
              " 'nathan',\n",
              " 'nathaniel',\n",
              " 'nation',\n",
              " 'national',\n",
              " 'nature',\n",
              " 'nb',\n",
              " 'ndc',\n",
              " 'neighbourhood',\n",
              " 'nellore',\n",
              " 'new',\n",
              " 'next',\n",
              " 'nf',\n",
              " 'ngr',\n",
              " 'nicholas',\n",
              " 'nicolas',\n",
              " 'ninja',\n",
              " 'nmb',\n",
              " 'nn',\n",
              " 'noah',\n",
              " 'nolan',\n",
              " 'non',\n",
              " 'nu',\n",
              " 'ny',\n",
              " 'ola',\n",
              " 'old',\n",
              " 'oliver',\n",
              " 'om',\n",
              " 'omar',\n",
              " 'one',\n",
              " 'ooty',\n",
              " 'opened',\n",
              " ...]"
            ]
          },
          "metadata": {
            "tags": []
          },
          "execution_count": 180
        }
      ]
    },
    {
      "cell_type": "code",
      "metadata": {
        "id": "RXsC6TTzRksD",
        "colab_type": "code",
        "colab": {
          "base_uri": "https://localhost:8080/",
          "height": 70
        },
        "outputId": "a6481d2f-3473-45e7-87a4-ea57546855f5"
      },
      "source": [
        "X = data_features.toarray()\n",
        "type(X)\n",
        "X[:3]"
      ],
      "execution_count": 182,
      "outputs": [
        {
          "output_type": "execute_result",
          "data": {
            "text/plain": [
              "array([[0, 0, 0, ..., 0, 0, 0],\n",
              "       [0, 0, 0, ..., 0, 0, 0],\n",
              "       [0, 0, 0, ..., 0, 0, 0]], dtype=int64)"
            ]
          },
          "metadata": {
            "tags": []
          },
          "execution_count": 182
        }
      ]
    },
    {
      "cell_type": "code",
      "metadata": {
        "id": "QvoA_-jeXC1Y",
        "colab_type": "code",
        "colab": {
          "base_uri": "https://localhost:8080/",
          "height": 17635
        },
        "outputId": "44d8da8d-688a-4f9e-d96c-082cfa455ba4"
      },
      "source": [
        "label\n"
      ],
      "execution_count": 184,
      "outputs": [
        {
          "output_type": "execute_result",
          "data": {
            "text/plain": [
              "['Delivery',\n",
              " 'Hotel',\n",
              " 'Payment',\n",
              " 'Payment',\n",
              " 'Appointment',\n",
              " 'Train',\n",
              " 'Appointment',\n",
              " 'PickUp',\n",
              " 'Flight',\n",
              " 'Hotel',\n",
              " 'Train',\n",
              " 'Bus',\n",
              " 'PickUp',\n",
              " 'Payment',\n",
              " 'Movie',\n",
              " 'PickUp',\n",
              " 'Appointment',\n",
              " 'Bus',\n",
              " 'Delivery',\n",
              " 'Movie',\n",
              " 'Bus',\n",
              " 'Train',\n",
              " 'Payment',\n",
              " 'Bus',\n",
              " 'Bus',\n",
              " 'Bus',\n",
              " 'Movie',\n",
              " 'Reservation',\n",
              " 'Delivery',\n",
              " 'Payment',\n",
              " 'PickUp',\n",
              " 'Delivery',\n",
              " 'Payment',\n",
              " 'Movie',\n",
              " 'Payment',\n",
              " 'Movie',\n",
              " 'Movie',\n",
              " 'Train',\n",
              " 'Bus',\n",
              " 'Expiry',\n",
              " 'Bus',\n",
              " 'Movie',\n",
              " 'Train',\n",
              " 'Train',\n",
              " 'Payment',\n",
              " 'Bus',\n",
              " 'Hotel',\n",
              " 'Appointment',\n",
              " 'Bus',\n",
              " 'Movie',\n",
              " 'Reservation',\n",
              " 'Expiry',\n",
              " 'Expiry',\n",
              " 'PickUp',\n",
              " 'Movie',\n",
              " 'Train',\n",
              " 'Hotel',\n",
              " 'PickUp',\n",
              " 'Train',\n",
              " 'Flight',\n",
              " 'Reservation',\n",
              " 'Flight',\n",
              " 'Movie',\n",
              " 'Payment',\n",
              " 'Payment',\n",
              " 'PickUp',\n",
              " 'Delivery',\n",
              " 'Train',\n",
              " 'Cab',\n",
              " 'Movie',\n",
              " 'Delivery',\n",
              " 'Appointment',\n",
              " 'Flight',\n",
              " 'Movie',\n",
              " 'Reservation',\n",
              " 'Delivery',\n",
              " 'Train',\n",
              " 'Reservation',\n",
              " 'Movie',\n",
              " 'Payment',\n",
              " 'PickUp',\n",
              " 'Bus',\n",
              " 'PickUp',\n",
              " 'Flight',\n",
              " 'PickUp',\n",
              " 'Delivery',\n",
              " 'Reservation',\n",
              " 'Bus',\n",
              " 'Payment',\n",
              " 'Movie',\n",
              " 'Reservation',\n",
              " 'Cab',\n",
              " 'Train',\n",
              " 'Expiry',\n",
              " 'Bus',\n",
              " 'Reservation',\n",
              " 'Bus',\n",
              " 'Train',\n",
              " 'Reservation',\n",
              " 'Expiry',\n",
              " 'Flight',\n",
              " 'Expiry',\n",
              " 'Flight',\n",
              " 'Flight',\n",
              " 'Reservation',\n",
              " 'Movie',\n",
              " 'Reservation',\n",
              " 'Cab',\n",
              " 'Reservation',\n",
              " 'Appointment',\n",
              " 'Expiry',\n",
              " 'Hotel',\n",
              " 'Hotel',\n",
              " 'Appointment',\n",
              " 'Cab',\n",
              " 'PickUp',\n",
              " 'Payment',\n",
              " 'Payment',\n",
              " 'Flight',\n",
              " 'Movie',\n",
              " 'PickUp',\n",
              " 'Train',\n",
              " 'Appointment',\n",
              " 'Train',\n",
              " 'Hotel',\n",
              " 'Cab',\n",
              " 'Cab',\n",
              " 'Hotel',\n",
              " 'Cab',\n",
              " 'Bus',\n",
              " 'Hotel',\n",
              " 'Movie',\n",
              " 'Flight',\n",
              " 'Reservation',\n",
              " 'Appointment',\n",
              " 'Train',\n",
              " 'Reservation',\n",
              " 'Bus',\n",
              " 'Cab',\n",
              " 'Train',\n",
              " 'Appointment',\n",
              " 'Movie',\n",
              " 'Bus',\n",
              " 'Train',\n",
              " 'Train',\n",
              " 'PickUp',\n",
              " 'Cab',\n",
              " 'Payment',\n",
              " 'Movie',\n",
              " 'Payment',\n",
              " 'Appointment',\n",
              " 'Hotel',\n",
              " 'Bus',\n",
              " 'Delivery',\n",
              " 'Expiry',\n",
              " 'Payment',\n",
              " 'Train',\n",
              " 'Delivery',\n",
              " 'Delivery',\n",
              " 'Movie',\n",
              " 'Expiry',\n",
              " 'Train',\n",
              " 'Bus',\n",
              " 'PickUp',\n",
              " 'Expiry',\n",
              " 'Payment',\n",
              " 'Expiry',\n",
              " 'Payment',\n",
              " 'Hotel',\n",
              " 'PickUp',\n",
              " 'Expiry',\n",
              " 'Reservation',\n",
              " 'Reservation',\n",
              " 'Reservation',\n",
              " 'Reservation',\n",
              " 'Expiry',\n",
              " 'Train',\n",
              " 'Delivery',\n",
              " 'Bus',\n",
              " 'Hotel',\n",
              " 'Bus',\n",
              " 'Flight',\n",
              " 'Cab',\n",
              " 'Reservation',\n",
              " 'Flight',\n",
              " 'Train',\n",
              " 'Cab',\n",
              " 'PickUp',\n",
              " 'Hotel',\n",
              " 'Expiry',\n",
              " 'Payment',\n",
              " 'Bus',\n",
              " 'Bus',\n",
              " 'Expiry',\n",
              " 'PickUp',\n",
              " 'Delivery',\n",
              " 'Payment',\n",
              " 'Bus',\n",
              " 'Train',\n",
              " 'Train',\n",
              " 'Expiry',\n",
              " 'Hotel',\n",
              " 'Delivery',\n",
              " 'Reservation',\n",
              " 'Cab',\n",
              " 'Expiry',\n",
              " 'Delivery',\n",
              " 'Movie',\n",
              " 'Bus',\n",
              " 'Expiry',\n",
              " 'Reservation',\n",
              " 'Delivery',\n",
              " 'Delivery',\n",
              " 'Hotel',\n",
              " 'Hotel',\n",
              " 'Expiry',\n",
              " 'Payment',\n",
              " 'Movie',\n",
              " 'PickUp',\n",
              " 'Delivery',\n",
              " 'PickUp',\n",
              " 'Flight',\n",
              " 'PickUp',\n",
              " 'Appointment',\n",
              " 'Cab',\n",
              " 'Payment',\n",
              " 'Train',\n",
              " 'Payment',\n",
              " 'Movie',\n",
              " 'Delivery',\n",
              " 'Payment',\n",
              " 'Cab',\n",
              " 'Expiry',\n",
              " 'Train',\n",
              " 'Expiry',\n",
              " 'Hotel',\n",
              " 'Movie',\n",
              " 'Expiry',\n",
              " 'Cab',\n",
              " 'Movie',\n",
              " 'Appointment',\n",
              " 'Reservation',\n",
              " 'Delivery',\n",
              " 'Payment',\n",
              " 'Expiry',\n",
              " 'Bus',\n",
              " 'Hotel',\n",
              " 'PickUp',\n",
              " 'PickUp',\n",
              " 'Reservation',\n",
              " 'Appointment',\n",
              " 'Train',\n",
              " 'Reservation',\n",
              " 'Train',\n",
              " 'Train',\n",
              " 'Expiry',\n",
              " 'Movie',\n",
              " 'Reservation',\n",
              " 'Appointment',\n",
              " 'Hotel',\n",
              " 'Cab',\n",
              " 'Flight',\n",
              " 'Delivery',\n",
              " 'PickUp',\n",
              " 'Payment',\n",
              " 'Train',\n",
              " 'Bus',\n",
              " 'Flight',\n",
              " 'Payment',\n",
              " 'Cab',\n",
              " 'PickUp',\n",
              " 'Hotel',\n",
              " 'Payment',\n",
              " 'Payment',\n",
              " 'Expiry',\n",
              " 'Train',\n",
              " 'Train',\n",
              " 'Cab',\n",
              " 'Flight',\n",
              " 'Delivery',\n",
              " 'Bus',\n",
              " 'Movie',\n",
              " 'Cab',\n",
              " 'Payment',\n",
              " 'Payment',\n",
              " 'Train',\n",
              " 'Expiry',\n",
              " 'Flight',\n",
              " 'Bus',\n",
              " 'Reservation',\n",
              " 'Appointment',\n",
              " 'Appointment',\n",
              " 'Appointment',\n",
              " 'Delivery',\n",
              " 'Delivery',\n",
              " 'PickUp',\n",
              " 'Payment',\n",
              " 'Flight',\n",
              " 'Flight',\n",
              " 'Hotel',\n",
              " 'Train',\n",
              " 'Movie',\n",
              " 'Train',\n",
              " 'Appointment',\n",
              " 'Reservation',\n",
              " 'Hotel',\n",
              " 'Movie',\n",
              " 'Movie',\n",
              " 'Reservation',\n",
              " 'Movie',\n",
              " 'PickUp',\n",
              " 'Appointment',\n",
              " 'Reservation',\n",
              " 'Reservation',\n",
              " 'Payment',\n",
              " 'Flight',\n",
              " 'Train',\n",
              " 'Appointment',\n",
              " 'Delivery',\n",
              " 'Payment',\n",
              " 'Train',\n",
              " 'Reservation',\n",
              " 'Delivery',\n",
              " 'Payment',\n",
              " 'Appointment',\n",
              " 'Cab',\n",
              " 'Train',\n",
              " 'Movie',\n",
              " 'Movie',\n",
              " 'Train',\n",
              " 'Train',\n",
              " 'Bus',\n",
              " 'Reservation',\n",
              " 'Cab',\n",
              " 'Train',\n",
              " 'Train',\n",
              " 'Hotel',\n",
              " 'Train',\n",
              " 'Appointment',\n",
              " 'Cab',\n",
              " 'Cab',\n",
              " 'Reservation',\n",
              " 'PickUp',\n",
              " 'Payment',\n",
              " 'Hotel',\n",
              " 'Flight',\n",
              " 'Reservation',\n",
              " 'Hotel',\n",
              " 'Bus',\n",
              " 'Flight',\n",
              " 'Cab',\n",
              " 'Movie',\n",
              " 'Flight',\n",
              " 'Cab',\n",
              " 'Expiry',\n",
              " 'Expiry',\n",
              " 'Bus',\n",
              " 'Expiry',\n",
              " 'Cab',\n",
              " 'Appointment',\n",
              " 'Movie',\n",
              " 'Appointment',\n",
              " 'Cab',\n",
              " 'Movie',\n",
              " 'Movie',\n",
              " 'Cab',\n",
              " 'PickUp',\n",
              " 'Movie',\n",
              " 'Hotel',\n",
              " 'Reservation',\n",
              " 'Train',\n",
              " 'Appointment',\n",
              " 'Bus',\n",
              " 'Appointment',\n",
              " 'Reservation',\n",
              " 'Appointment',\n",
              " 'Flight',\n",
              " 'Bus',\n",
              " 'Cab',\n",
              " 'Cab',\n",
              " 'Hotel',\n",
              " 'Cab',\n",
              " 'Hotel',\n",
              " 'Expiry',\n",
              " 'Payment',\n",
              " 'Appointment',\n",
              " 'Payment',\n",
              " 'Delivery',\n",
              " 'Reservation',\n",
              " 'Expiry',\n",
              " 'Cab',\n",
              " 'Cab',\n",
              " 'Appointment',\n",
              " 'Cab',\n",
              " 'Movie',\n",
              " 'Movie',\n",
              " 'Reservation',\n",
              " 'Movie',\n",
              " 'Flight',\n",
              " 'Reservation',\n",
              " 'Delivery',\n",
              " 'Appointment',\n",
              " 'Expiry',\n",
              " 'Expiry',\n",
              " 'Bus',\n",
              " 'Movie',\n",
              " 'Delivery',\n",
              " 'Cab',\n",
              " 'Appointment',\n",
              " 'PickUp',\n",
              " 'Reservation',\n",
              " 'Payment',\n",
              " 'Payment',\n",
              " 'Delivery',\n",
              " 'Payment',\n",
              " 'Flight',\n",
              " 'Appointment',\n",
              " 'Bus',\n",
              " 'Payment',\n",
              " 'Delivery',\n",
              " 'Expiry',\n",
              " 'Appointment',\n",
              " 'Delivery',\n",
              " 'Flight',\n",
              " 'Cab',\n",
              " 'PickUp',\n",
              " 'Appointment',\n",
              " 'Expiry',\n",
              " 'Hotel',\n",
              " 'Delivery',\n",
              " 'Bus',\n",
              " 'Cab',\n",
              " 'PickUp',\n",
              " 'Flight',\n",
              " 'Bus',\n",
              " 'Payment',\n",
              " 'Appointment',\n",
              " 'Bus',\n",
              " 'Train',\n",
              " 'Payment',\n",
              " 'PickUp',\n",
              " 'Appointment',\n",
              " 'Expiry',\n",
              " 'Reservation',\n",
              " 'Movie',\n",
              " 'Reservation',\n",
              " 'Payment',\n",
              " 'Delivery',\n",
              " 'Bus',\n",
              " 'PickUp',\n",
              " 'Reservation',\n",
              " 'PickUp',\n",
              " 'Train',\n",
              " 'Hotel',\n",
              " 'Delivery',\n",
              " 'Flight',\n",
              " 'Movie',\n",
              " 'PickUp',\n",
              " 'Reservation',\n",
              " 'Hotel',\n",
              " 'PickUp',\n",
              " 'Payment',\n",
              " 'Bus',\n",
              " 'Delivery',\n",
              " 'Bus',\n",
              " 'Flight',\n",
              " 'Appointment',\n",
              " 'Payment',\n",
              " 'Delivery',\n",
              " 'Appointment',\n",
              " 'Reservation',\n",
              " 'Reservation',\n",
              " 'Train',\n",
              " 'Train',\n",
              " 'Expiry',\n",
              " 'PickUp',\n",
              " 'Flight',\n",
              " 'Expiry',\n",
              " 'Train',\n",
              " 'Delivery',\n",
              " 'Movie',\n",
              " 'Bus',\n",
              " 'Delivery',\n",
              " 'Bus',\n",
              " 'Hotel',\n",
              " 'Appointment',\n",
              " 'Train',\n",
              " 'Flight',\n",
              " 'Flight',\n",
              " 'Delivery',\n",
              " 'Payment',\n",
              " 'Appointment',\n",
              " 'Train',\n",
              " 'Reservation',\n",
              " 'Appointment',\n",
              " 'Movie',\n",
              " 'Expiry',\n",
              " 'PickUp',\n",
              " 'Flight',\n",
              " 'Expiry',\n",
              " 'Appointment',\n",
              " 'Delivery',\n",
              " 'Hotel',\n",
              " 'Cab',\n",
              " 'Payment',\n",
              " 'Delivery',\n",
              " 'Cab',\n",
              " 'Expiry',\n",
              " 'Bus',\n",
              " 'Hotel',\n",
              " 'Reservation',\n",
              " 'Flight',\n",
              " 'Cab',\n",
              " 'Payment',\n",
              " 'Reservation',\n",
              " 'Reservation',\n",
              " 'Reservation',\n",
              " 'Movie',\n",
              " 'Expiry',\n",
              " 'Delivery',\n",
              " 'Reservation',\n",
              " 'Train',\n",
              " 'PickUp',\n",
              " 'PickUp',\n",
              " 'Expiry',\n",
              " 'Delivery',\n",
              " 'Flight',\n",
              " 'Hotel',\n",
              " 'Bus',\n",
              " 'Movie',\n",
              " 'Train',\n",
              " 'Bus',\n",
              " 'PickUp',\n",
              " 'Payment',\n",
              " 'Hotel',\n",
              " 'Train',\n",
              " 'PickUp',\n",
              " 'Delivery',\n",
              " 'Train',\n",
              " 'Flight',\n",
              " 'Reservation',\n",
              " 'Expiry',\n",
              " 'Delivery',\n",
              " 'Flight',\n",
              " 'Payment',\n",
              " 'Movie',\n",
              " 'Reservation',\n",
              " 'Delivery',\n",
              " 'Bus',\n",
              " 'Cab',\n",
              " 'Cab',\n",
              " 'PickUp',\n",
              " 'Appointment',\n",
              " 'Cab',\n",
              " 'Train',\n",
              " 'Bus',\n",
              " 'Delivery',\n",
              " 'Movie',\n",
              " 'Reservation',\n",
              " 'Appointment',\n",
              " 'Cab',\n",
              " 'Appointment',\n",
              " 'Expiry',\n",
              " 'Movie',\n",
              " 'Delivery',\n",
              " 'Delivery',\n",
              " 'Delivery',\n",
              " 'Hotel',\n",
              " 'Delivery',\n",
              " 'Bus',\n",
              " 'Flight',\n",
              " 'Train',\n",
              " 'Train',\n",
              " 'Bus',\n",
              " 'Movie',\n",
              " 'Delivery',\n",
              " 'Delivery',\n",
              " 'Cab',\n",
              " 'Reservation',\n",
              " 'Train',\n",
              " 'Delivery',\n",
              " 'Flight',\n",
              " 'Bus',\n",
              " 'Payment',\n",
              " 'Movie',\n",
              " 'Movie',\n",
              " 'Appointment',\n",
              " 'Delivery',\n",
              " 'Expiry',\n",
              " 'Flight',\n",
              " 'Flight',\n",
              " 'Movie',\n",
              " 'Flight',\n",
              " 'Reservation',\n",
              " 'Expiry',\n",
              " 'Flight',\n",
              " 'Bus',\n",
              " 'Payment',\n",
              " 'PickUp',\n",
              " 'Flight',\n",
              " 'Reservation',\n",
              " 'Movie',\n",
              " 'Payment',\n",
              " 'Hotel',\n",
              " 'Cab',\n",
              " 'PickUp',\n",
              " 'Movie',\n",
              " 'Payment',\n",
              " 'Movie',\n",
              " 'Hotel',\n",
              " 'Expiry',\n",
              " 'Appointment',\n",
              " 'Delivery',\n",
              " 'Delivery',\n",
              " 'Cab',\n",
              " 'Payment',\n",
              " 'Payment',\n",
              " 'Train',\n",
              " 'Appointment',\n",
              " 'Movie',\n",
              " 'Bus',\n",
              " 'Hotel',\n",
              " 'Expiry',\n",
              " 'Delivery',\n",
              " 'Movie',\n",
              " 'Hotel',\n",
              " 'Appointment',\n",
              " 'Movie',\n",
              " 'Hotel',\n",
              " 'Bus',\n",
              " 'Train',\n",
              " 'Movie',\n",
              " 'Movie',\n",
              " 'Train',\n",
              " 'Train',\n",
              " 'Bus',\n",
              " 'Reservation',\n",
              " 'Hotel',\n",
              " 'Flight',\n",
              " 'Bus',\n",
              " 'PickUp',\n",
              " 'Payment',\n",
              " 'Bus',\n",
              " 'Appointment',\n",
              " 'Payment',\n",
              " 'Delivery',\n",
              " 'Expiry',\n",
              " 'PickUp',\n",
              " 'Payment',\n",
              " 'Payment',\n",
              " 'Payment',\n",
              " 'Payment',\n",
              " 'Flight',\n",
              " 'Payment',\n",
              " 'Flight',\n",
              " 'Movie',\n",
              " 'Delivery',\n",
              " 'Delivery',\n",
              " 'Bus',\n",
              " 'Hotel',\n",
              " 'Hotel',\n",
              " 'Train',\n",
              " 'Hotel',\n",
              " 'Reservation',\n",
              " 'Expiry',\n",
              " 'Movie',\n",
              " 'Appointment',\n",
              " 'PickUp',\n",
              " 'Movie',\n",
              " 'Movie',\n",
              " 'Flight',\n",
              " 'Delivery',\n",
              " 'Payment',\n",
              " 'Flight',\n",
              " 'Bus',\n",
              " 'Appointment',\n",
              " 'Reservation',\n",
              " 'Hotel',\n",
              " 'Appointment',\n",
              " 'Movie',\n",
              " 'Payment',\n",
              " 'Movie',\n",
              " 'Train',\n",
              " 'Bus',\n",
              " 'Delivery',\n",
              " 'PickUp',\n",
              " 'Hotel',\n",
              " 'Hotel',\n",
              " 'Expiry',\n",
              " 'Train',\n",
              " 'Train',\n",
              " 'Reservation',\n",
              " 'Hotel',\n",
              " 'Payment',\n",
              " 'PickUp',\n",
              " 'Cab',\n",
              " 'Delivery',\n",
              " 'Payment',\n",
              " 'Flight',\n",
              " 'Bus',\n",
              " 'Flight',\n",
              " 'Reservation',\n",
              " 'Payment',\n",
              " 'PickUp',\n",
              " 'Movie',\n",
              " 'Movie',\n",
              " 'Reservation',\n",
              " 'Delivery',\n",
              " 'Reservation',\n",
              " 'Expiry',\n",
              " 'Flight',\n",
              " 'PickUp',\n",
              " 'Payment',\n",
              " 'Flight',\n",
              " 'Hotel',\n",
              " 'Hotel',\n",
              " 'Flight',\n",
              " 'Expiry',\n",
              " 'Bus',\n",
              " 'Train',\n",
              " 'Train',\n",
              " 'Flight',\n",
              " 'Hotel',\n",
              " 'Payment',\n",
              " 'Movie',\n",
              " 'Cab',\n",
              " 'Flight',\n",
              " 'Cab',\n",
              " 'Appointment',\n",
              " 'Hotel',\n",
              " 'Reservation',\n",
              " 'Train',\n",
              " 'Bus',\n",
              " 'Cab',\n",
              " 'Flight',\n",
              " 'Movie',\n",
              " 'PickUp',\n",
              " 'PickUp',\n",
              " 'Movie',\n",
              " 'Hotel',\n",
              " 'Delivery',\n",
              " 'Reservation',\n",
              " 'Hotel',\n",
              " 'Delivery',\n",
              " 'Movie',\n",
              " 'Appointment',\n",
              " 'PickUp',\n",
              " 'PickUp',\n",
              " 'Delivery',\n",
              " 'Hotel',\n",
              " 'Bus',\n",
              " 'Flight',\n",
              " 'Cab',\n",
              " 'Hotel',\n",
              " 'Appointment',\n",
              " 'Cab',\n",
              " 'Flight',\n",
              " 'Movie',\n",
              " 'Bus',\n",
              " 'Delivery',\n",
              " 'PickUp',\n",
              " 'Payment',\n",
              " 'Expiry',\n",
              " 'Bus',\n",
              " 'PickUp',\n",
              " 'Hotel',\n",
              " 'Delivery',\n",
              " 'Flight',\n",
              " 'Movie',\n",
              " 'Train',\n",
              " 'Train',\n",
              " 'Payment',\n",
              " 'Train',\n",
              " 'Expiry',\n",
              " 'Expiry',\n",
              " 'Movie',\n",
              " 'Delivery',\n",
              " 'Payment',\n",
              " 'Cab',\n",
              " 'Train',\n",
              " 'Delivery',\n",
              " 'Movie',\n",
              " 'Movie',\n",
              " 'Cab',\n",
              " 'Reservation',\n",
              " 'Hotel',\n",
              " 'Expiry',\n",
              " 'Cab',\n",
              " 'Cab',\n",
              " 'PickUp',\n",
              " 'Movie',\n",
              " 'Cab',\n",
              " 'Movie',\n",
              " 'PickUp',\n",
              " 'Train',\n",
              " 'Train',\n",
              " 'Delivery',\n",
              " 'Train',\n",
              " 'Appointment',\n",
              " 'Delivery',\n",
              " 'Cab',\n",
              " 'Hotel',\n",
              " 'Expiry',\n",
              " 'Appointment',\n",
              " 'Reservation',\n",
              " 'Payment',\n",
              " 'Delivery',\n",
              " 'Appointment',\n",
              " 'PickUp',\n",
              " 'Delivery',\n",
              " 'Flight',\n",
              " 'Appointment',\n",
              " 'Appointment',\n",
              " 'Expiry',\n",
              " 'Reservation',\n",
              " 'Train',\n",
              " 'Expiry',\n",
              " 'Payment',\n",
              " 'Expiry',\n",
              " 'Expiry',\n",
              " 'Reservation',\n",
              " 'Appointment',\n",
              " 'PickUp',\n",
              " 'PickUp',\n",
              " 'Appointment',\n",
              " 'Bus',\n",
              " 'PickUp',\n",
              " 'Flight',\n",
              " 'Reservation',\n",
              " 'Train',\n",
              " 'Cab',\n",
              " 'Reservation',\n",
              " 'Reservation',\n",
              " 'Bus',\n",
              " 'Hotel',\n",
              " 'Expiry',\n",
              " 'Flight',\n",
              " 'Reservation',\n",
              " 'Delivery',\n",
              " 'Reservation',\n",
              " 'Flight',\n",
              " 'Train',\n",
              " 'Train',\n",
              " 'Movie',\n",
              " 'Movie',\n",
              " 'Reservation',\n",
              " 'PickUp',\n",
              " 'Movie',\n",
              " 'Hotel',\n",
              " 'Cab',\n",
              " 'Cab',\n",
              " 'Reservation',\n",
              " 'Movie',\n",
              " 'Bus',\n",
              " 'Payment',\n",
              " 'Cab',\n",
              " 'Appointment',\n",
              " 'Expiry',\n",
              " 'Movie',\n",
              " 'Hotel',\n",
              " 'Reservation',\n",
              " 'Bus',\n",
              " 'Hotel',\n",
              " 'Delivery',\n",
              " 'Payment',\n",
              " 'Appointment',\n",
              " 'Movie',\n",
              " 'Cab',\n",
              " 'Expiry',\n",
              " 'Bus',\n",
              " 'Payment',\n",
              " 'Payment',\n",
              " 'Expiry',\n",
              " 'Hotel',\n",
              " 'Appointment',\n",
              " 'Cab',\n",
              " 'PickUp',\n",
              " 'Expiry',\n",
              " 'Reservation',\n",
              " 'Hotel',\n",
              " 'Expiry',\n",
              " 'Hotel',\n",
              " 'Delivery',\n",
              " 'Bus',\n",
              " 'Flight',\n",
              " 'Payment',\n",
              " 'Train',\n",
              " 'Hotel',\n",
              " 'Hotel',\n",
              " 'Movie',\n",
              " 'Bus',\n",
              " 'PickUp',\n",
              " 'Appointment',\n",
              " 'Delivery',\n",
              " 'Flight',\n",
              " 'Flight',\n",
              " 'Appointment',\n",
              " 'PickUp',\n",
              " 'Expiry',\n",
              " 'Expiry',\n",
              " 'Hotel',\n",
              " 'Movie',\n",
              " 'Train',\n",
              " 'Payment',\n",
              " 'Reservation',\n",
              " 'Bus',\n",
              " 'Appointment',\n",
              " 'Movie',\n",
              " 'Appointment',\n",
              " 'Expiry',\n",
              " 'Reservation',\n",
              " 'Cab',\n",
              " 'Movie',\n",
              " 'Delivery',\n",
              " 'PickUp',\n",
              " 'Movie',\n",
              " 'Train',\n",
              " 'Hotel',\n",
              " 'Hotel',\n",
              " 'Train',\n",
              " 'Delivery',\n",
              " 'Expiry',\n",
              " 'Train',\n",
              " 'Appointment',\n",
              " 'Train',\n",
              " 'Train',\n",
              " 'Bus',\n",
              " 'Payment',\n",
              " 'Delivery',\n",
              " 'Payment',\n",
              " 'Payment',\n",
              " 'Payment',\n",
              " 'Hotel',\n",
              " 'Expiry',\n",
              " 'Train',\n",
              " 'Bus',\n",
              " 'Hotel',\n",
              " 'Delivery',\n",
              " 'Movie',\n",
              " 'Cab',\n",
              " 'Delivery',\n",
              " 'Delivery',\n",
              " 'Movie',\n",
              " 'Payment',\n",
              " 'Hotel',\n",
              " 'Flight',\n",
              " 'Cab',\n",
              " 'Reservation',\n",
              " 'Hotel',\n",
              " 'Bus',\n",
              " 'Cab',\n",
              " 'Train',\n",
              " 'Cab',\n",
              " 'Flight',\n",
              " 'Reservation',\n",
              " 'Delivery',\n",
              " 'Reservation',\n",
              " 'Hotel',\n",
              " 'Cab',\n",
              " 'Payment',\n",
              " 'PickUp',\n",
              " 'Movie',\n",
              " 'Movie',\n",
              " 'Delivery',\n",
              " 'Delivery',\n",
              " 'Flight',\n",
              " 'Cab',\n",
              " 'Movie',\n",
              " 'Flight',\n",
              " 'Expiry',\n",
              " 'PickUp',\n",
              " 'Expiry',\n",
              " 'Delivery',\n",
              " 'Cab',\n",
              " 'Hotel',\n",
              " 'PickUp',\n",
              " 'Payment',\n",
              " 'Hotel',\n",
              " 'Appointment',\n",
              " 'Bus',\n",
              " 'Reservation',\n",
              " 'PickUp',\n",
              " 'Train',\n",
              " 'Delivery',\n",
              " 'Payment',\n",
              " 'Train',\n",
              " 'Reservation',\n",
              " 'Expiry',\n",
              " 'Hotel',\n",
              " 'Delivery',\n",
              " 'Appointment',\n",
              " 'Delivery',\n",
              " 'Payment',\n",
              " 'Reservation',\n",
              " 'Hotel',\n",
              " 'Expiry',\n",
              " 'Train',\n",
              " 'PickUp',\n",
              " 'Train',\n",
              " 'Hotel',\n",
              " ...]"
            ]
          },
          "metadata": {
            "tags": []
          },
          "execution_count": 184
        }
      ]
    },
    {
      "cell_type": "code",
      "metadata": {
        "id": "oHAD5yajXtC_",
        "colab_type": "code",
        "colab": {
          "base_uri": "https://localhost:8080/",
          "height": 228
        },
        "outputId": "54f2f929-44cb-4507-c8f1-7332e7d053bc"
      },
      "source": [
        "train_df['Label'].unique().tolist()"
      ],
      "execution_count": 185,
      "outputs": [
        {
          "output_type": "execute_result",
          "data": {
            "text/plain": [
              "['Delivery',\n",
              " 'Hotel',\n",
              " 'Payment',\n",
              " 'Appointment',\n",
              " 'Train',\n",
              " 'PickUp',\n",
              " 'Flight',\n",
              " 'Bus',\n",
              " 'Movie',\n",
              " 'Reservation',\n",
              " 'Expiry',\n",
              " 'Cab']"
            ]
          },
          "metadata": {
            "tags": []
          },
          "execution_count": 185
        }
      ]
    },
    {
      "cell_type": "code",
      "metadata": {
        "id": "n6yO_-1jX9Wh",
        "colab_type": "code",
        "colab": {}
      },
      "source": [
        "Y = np.array(train_df['Label'].map({'Delivery':'0','Hotel':'1','Payment':'2','Appointment':'3','Train':'4','PickUp':'5','Flight':'6','Bus':'7','Movie':'8','Reservation':'9','Expiry':'10','Cab':'12'}))"
      ],
      "execution_count": 0,
      "outputs": []
    },
    {
      "cell_type": "code",
      "metadata": {
        "id": "ZQK-XxVMYqmZ",
        "colab_type": "code",
        "colab": {
          "base_uri": "https://localhost:8080/",
          "height": 35
        },
        "outputId": "e5d638a5-8837-4a1c-d3f4-46554bca8bfe"
      },
      "source": [
        "#create MultinomialNB modal\n",
        "from sklearn.naive_bayes import MultinomialNB\n",
        "Mnb = MultinomialNB()\n",
        "Mnb.fit(X,Y)\n"
      ],
      "execution_count": 187,
      "outputs": [
        {
          "output_type": "execute_result",
          "data": {
            "text/plain": [
              "MultinomialNB(alpha=1.0, class_prior=None, fit_prior=True)"
            ]
          },
          "metadata": {
            "tags": []
          },
          "execution_count": 187
        }
      ]
    },
    {
      "cell_type": "code",
      "metadata": {
        "id": "7lLRLSqPZOu6",
        "colab_type": "code",
        "colab": {
          "base_uri": "https://localhost:8080/",
          "height": 35
        },
        "outputId": "0541888e-53d8-40e4-b75d-bff5e3270b4c"
      },
      "source": [
        "preds_NB = Mnb.predict(X)\n",
        "preds_NB"
      ],
      "execution_count": 189,
      "outputs": [
        {
          "output_type": "execute_result",
          "data": {
            "text/plain": [
              "array(['0', '1', '2', ..., '10', '12', '5'], dtype='<U2')"
            ]
          },
          "metadata": {
            "tags": []
          },
          "execution_count": 189
        }
      ]
    },
    {
      "cell_type": "code",
      "metadata": {
        "id": "Fvz9Qm_4ZYs0",
        "colab_type": "code",
        "colab": {
          "base_uri": "https://localhost:8080/",
          "height": 439
        },
        "outputId": "5b34bd79-9491-44bd-d973-837929bef178"
      },
      "source": [
        "from sklearn import metrics\n",
        "metrics.confusion_matrix(Y,preds_NB)"
      ],
      "execution_count": 191,
      "outputs": [
        {
          "output_type": "execute_result",
          "data": {
            "text/plain": [
              "array([[1000,    0,    0,    0,    0,    0,    0,    0,    0,    0,    0,\n",
              "           0],\n",
              "       [   0, 1000,    0,    0,    0,    0,    0,    0,    0,    0,    0,\n",
              "           0],\n",
              "       [   0,    0, 1000,    0,    0,    0,    0,    0,    0,    0,    0,\n",
              "           0],\n",
              "       [   0,    0,    0, 1000,    0,    0,    0,    0,    0,    0,    0,\n",
              "           0],\n",
              "       [   0,    0,    0,    0, 1000,    0,    0,    0,    0,    0,    0,\n",
              "           0],\n",
              "       [   0,    0,    0,    0,    0, 1000,    0,    0,    0,    0,    0,\n",
              "           0],\n",
              "       [   0,    0,    0,    0,    0,    0, 1000,    0,    0,    0,    0,\n",
              "           0],\n",
              "       [   0,    0,    0,    0,    0,    0,    0, 1000,    0,    0,    0,\n",
              "           0],\n",
              "       [   0,    0,    0,    0,    0,    0,    0,    0, 1000,    0,    0,\n",
              "           0],\n",
              "       [   0,    0,    0,    0,    0,    0,    0,    0,    0, 1000,    0,\n",
              "           0],\n",
              "       [   0,    0,    0,    0,    0,    0,    0,    0,    0,    0, 1000,\n",
              "           0],\n",
              "       [   0,    0,    0,    0,    0,    0,    0,    0,    0,    0,    0,\n",
              "        1000]])"
            ]
          },
          "metadata": {
            "tags": []
          },
          "execution_count": 191
        }
      ]
    },
    {
      "cell_type": "code",
      "metadata": {
        "id": "a3ujnZy4Zimm",
        "colab_type": "code",
        "colab": {}
      },
      "source": [
        ""
      ],
      "execution_count": 0,
      "outputs": []
    }
  ]
}
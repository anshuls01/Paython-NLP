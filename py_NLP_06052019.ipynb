{
  "nbformat": 4,
  "nbformat_minor": 0,
  "metadata": {
    "colab": {
      "name": "py-NLP-06052019.ipynb",
      "version": "0.3.2",
      "provenance": [],
      "collapsed_sections": [],
      "include_colab_link": true
    },
    "kernelspec": {
      "name": "python3",
      "display_name": "Python 3"
    }
  },
  "cells": [
    {
      "cell_type": "markdown",
      "metadata": {
        "id": "view-in-github",
        "colab_type": "text"
      },
      "source": [
        "<a href=\"https://colab.research.google.com/github/anshuls01/Paython-NLP/blob/master/py_NLP_06052019.ipynb\" target=\"_parent\"><img src=\"https://colab.research.google.com/assets/colab-badge.svg\" alt=\"Open In Colab\"/></a>"
      ]
    },
    {
      "cell_type": "code",
      "metadata": {
        "id": "aEVV7MZb1P4c",
        "colab_type": "code",
        "colab": {
          "base_uri": "https://localhost:8080/",
          "height": 35
        },
        "outputId": "faa46bb8-20a0-45df-99bc-7db8f919bffa"
      },
      "source": [
        "print(\"Hello World\")"
      ],
      "execution_count": 1,
      "outputs": [
        {
          "output_type": "stream",
          "text": [
            "Hello World\n"
          ],
          "name": "stdout"
        }
      ]
    },
    {
      "cell_type": "code",
      "metadata": {
        "id": "Kv7uTGV4290v",
        "colab_type": "code",
        "colab": {
          "base_uri": "https://localhost:8080/",
          "height": 35
        },
        "outputId": "69bfe147-9578-4c49-8525-daa2c932c86c"
      },
      "source": [
        "2+2"
      ],
      "execution_count": 2,
      "outputs": [
        {
          "output_type": "execute_result",
          "data": {
            "text/plain": [
              "4"
            ]
          },
          "metadata": {
            "tags": []
          },
          "execution_count": 2
        }
      ]
    },
    {
      "cell_type": "markdown",
      "metadata": {
        "id": "_efeL7ah7e_J",
        "colab_type": "text"
      },
      "source": [
        "# Print Add and Multiplication"
      ]
    },
    {
      "cell_type": "code",
      "metadata": {
        "id": "wkXe7M0D325Q",
        "colab_type": "code",
        "colab": {
          "base_uri": "https://localhost:8080/",
          "height": 228
        },
        "outputId": "74d7732d-d64b-4b64-844e-8135f5e9d3cd"
      },
      "source": [
        "L1=[2,4,6,8,10]\n",
        "L2=[1,3,5,7,9]\n",
        "for x in range(0,5):\n",
        "  print (L1[x] + L2[x])\n",
        "\n",
        "for x in range(0,5):\n",
        "  print (L1[x] * 2)\n",
        "\n",
        "print (L1 + L2)\n",
        "print (L1*2)"
      ],
      "execution_count": 12,
      "outputs": [
        {
          "output_type": "stream",
          "text": [
            "3\n",
            "7\n",
            "11\n",
            "15\n",
            "19\n",
            "4\n",
            "8\n",
            "12\n",
            "16\n",
            "20\n",
            "[2, 4, 6, 8, 10, 1, 3, 5, 7, 9]\n",
            "[2, 4, 6, 8, 10, 2, 4, 6, 8, 10]\n"
          ],
          "name": "stdout"
        }
      ]
    },
    {
      "cell_type": "code",
      "metadata": {
        "id": "aQa3NZKf7sEQ",
        "colab_type": "code",
        "colab": {
          "base_uri": "https://localhost:8080/",
          "height": 35
        },
        "outputId": "475796e4-c627-404c-8d2e-d947ca2c3f37"
      },
      "source": [
        "x = [1,2]\n",
        "type(x)\n"
      ],
      "execution_count": 7,
      "outputs": [
        {
          "output_type": "execute_result",
          "data": {
            "text/plain": [
              "list"
            ]
          },
          "metadata": {
            "tags": []
          },
          "execution_count": 7
        }
      ]
    },
    {
      "cell_type": "code",
      "metadata": {
        "id": "Yop9KwvS76ZK",
        "colab_type": "code",
        "colab": {
          "base_uri": "https://localhost:8080/",
          "height": 35
        },
        "outputId": "155498ca-ff44-4c9d-ab21-d39987451785"
      },
      "source": [
        "x={1,2}\n",
        "type(x)"
      ],
      "execution_count": 8,
      "outputs": [
        {
          "output_type": "execute_result",
          "data": {
            "text/plain": [
              "set"
            ]
          },
          "metadata": {
            "tags": []
          },
          "execution_count": 8
        }
      ]
    },
    {
      "cell_type": "code",
      "metadata": {
        "id": "ohaYavE7-Iva",
        "colab_type": "code",
        "colab": {
          "base_uri": "https://localhost:8080/",
          "height": 123
        },
        "outputId": "0b60b3ff-e804-4de5-8744-3924a055a099"
      },
      "source": [
        "angles=[0,30,60,90,120,150,180,210,240,270,300,330,360]\n",
        "angle = list(range(0,361,30))\n",
        "print (angle)\n",
        "i1= angle.index(90)\n",
        "print(i1)\n",
        "i2=angle.index(270)\n",
        "print(i2)\n",
        "i1_rev=len(angle) -1 -angle.index(90)\n",
        "print (i1_rev)\n",
        "i2_rev=len(angle) -1 -angle.index(270)\n",
        "print (i2_rev)\n",
        "print(angle[i1_rev:i2_rev - 1:-1])"
      ],
      "execution_count": 25,
      "outputs": [
        {
          "output_type": "stream",
          "text": [
            "[0, 30, 60, 90, 120, 150, 180, 210, 240, 270, 300, 330, 360]\n",
            "3\n",
            "9\n",
            "9\n",
            "3\n",
            "[270, 240, 210, 180, 150, 120, 90]\n"
          ],
          "name": "stdout"
        }
      ]
    },
    {
      "cell_type": "code",
      "metadata": {
        "id": "fd0Zp5aBAefY",
        "colab_type": "code",
        "colab": {
          "base_uri": "https://localhost:8080/",
          "height": 175
        },
        "outputId": "bce67835-4461-4fac-bca3-0ad8d0742c70"
      },
      "source": [
        "L1 =  [2,4,6,8,10]\n",
        "L2=L1\n",
        "print(L1)\n",
        "del(L2[3])\n",
        "# L2.remove(8)\n",
        "print (L2)\n",
        "print (L1)\n",
        "L1 = [2,4,6,8,10]\n",
        "L2 = L1.copy()\n",
        "del(L2[3])\n",
        "# L2.remove(8)\n",
        "print (L2)\n",
        "print (L1)\n",
        "print (L2,L1)\n",
        "L3 = L1[ : ]\n",
        "print(L3)\n",
        "del(L3[3])\n",
        "print(L3)\n",
        "print(L1)"
      ],
      "execution_count": 40,
      "outputs": [
        {
          "output_type": "stream",
          "text": [
            "[2, 4, 6, 8, 10]\n",
            "[2, 4, 6, 10]\n",
            "[2, 4, 6, 10]\n",
            "[2, 4, 6, 10]\n",
            "[2, 4, 6, 8, 10]\n",
            "[2, 4, 6, 10] [2, 4, 6, 8, 10]\n",
            "[2, 4, 6, 8, 10]\n",
            "[2, 4, 6, 10]\n",
            "[2, 4, 6, 8, 10]\n"
          ],
          "name": "stdout"
        }
      ]
    },
    {
      "cell_type": "markdown",
      "metadata": {
        "id": "4w7q98ygnFu8",
        "colab_type": "text"
      },
      "source": [
        "Installing Package"
      ]
    },
    {
      "cell_type": "code",
      "metadata": {
        "id": "MCHPCfLNe_1C",
        "colab_type": "code",
        "colab": {
          "base_uri": "https://localhost:8080/",
          "height": 238
        },
        "outputId": "d1dc8a7b-fcf5-4e76-c8ed-0f7666ec40ee"
      },
      "source": [
        "import numpy as np\n",
        "import tensorflow as tf\n",
        "\n",
        "tup = (1,2,3)\n",
        "print (tup)\n",
        "tup = tup + (4,)\n",
        "print (tup)\n",
        "del(tup[2])"
      ],
      "execution_count": 51,
      "outputs": [
        {
          "output_type": "stream",
          "text": [
            "(1, 2, 3)\n",
            "(1, 2, 3, 4)\n"
          ],
          "name": "stdout"
        },
        {
          "output_type": "error",
          "ename": "TypeError",
          "evalue": "ignored",
          "traceback": [
            "\u001b[0;31m---------------------------------------------------------------------------\u001b[0m",
            "\u001b[0;31mTypeError\u001b[0m                                 Traceback (most recent call last)",
            "\u001b[0;32m<ipython-input-51-4df3f3fe13b9>\u001b[0m in \u001b[0;36m<module>\u001b[0;34m()\u001b[0m\n\u001b[1;32m      6\u001b[0m \u001b[0mtup\u001b[0m \u001b[0;34m=\u001b[0m \u001b[0mtup\u001b[0m \u001b[0;34m+\u001b[0m \u001b[0;34m(\u001b[0m\u001b[0;36m4\u001b[0m\u001b[0;34m,\u001b[0m\u001b[0;34m)\u001b[0m\u001b[0;34m\u001b[0m\u001b[0;34m\u001b[0m\u001b[0m\n\u001b[1;32m      7\u001b[0m \u001b[0mprint\u001b[0m \u001b[0;34m(\u001b[0m\u001b[0mtup\u001b[0m\u001b[0;34m)\u001b[0m\u001b[0;34m\u001b[0m\u001b[0;34m\u001b[0m\u001b[0m\n\u001b[0;32m----> 8\u001b[0;31m \u001b[0;32mdel\u001b[0m\u001b[0;34m(\u001b[0m\u001b[0mtup\u001b[0m\u001b[0;34m[\u001b[0m\u001b[0;36m2\u001b[0m\u001b[0;34m]\u001b[0m\u001b[0;34m)\u001b[0m\u001b[0;34m\u001b[0m\u001b[0;34m\u001b[0m\u001b[0m\n\u001b[0m",
            "\u001b[0;31mTypeError\u001b[0m: 'tuple' object doesn't support item deletion"
          ]
        }
      ]
    },
    {
      "cell_type": "markdown",
      "metadata": {
        "id": "Ajc5IBNgw57B",
        "colab_type": "text"
      },
      "source": [
        "Dictionaries"
      ]
    },
    {
      "cell_type": "code",
      "metadata": {
        "id": "1KM2g9-4pEMu",
        "colab_type": "code",
        "colab": {
          "base_uri": "https://localhost:8080/",
          "height": 70
        },
        "outputId": "57bc49ba-1aea-4323-8552-b7339729e7df"
      },
      "source": [
        "states={'AP':[1234,'Hyd',False],'Arunachal':[5678,'Itanagar',True],'Bihar':[124434,'Patna',True]}\n",
        "print (states)\n",
        "print(states['Bihar'])\n",
        "\n",
        "\n",
        "states['Telangana'] = [891011,'XYZ',True]\n",
        "print (states)"
      ],
      "execution_count": 65,
      "outputs": [
        {
          "output_type": "stream",
          "text": [
            "{'AP': [1234, 'Hyd', False], 'Arunachal': [5678, 'Itanagar', True], 'Bihar': [124434, 'Patna', True]}\n",
            "[124434, 'Patna', True]\n",
            "{'AP': [1234, 'Hyd', False], 'Arunachal': [5678, 'Itanagar', True], 'Bihar': [124434, 'Patna', True], 'Telangana': [891011, 'XYZ', True]}\n"
          ],
          "name": "stdout"
        }
      ]
    },
    {
      "cell_type": "code",
      "metadata": {
        "id": "CnCPQXWeyfaO",
        "colab_type": "code",
        "colab": {
          "base_uri": "https://localhost:8080/",
          "height": 35
        },
        "outputId": "13e2015b-1c35-4e91-d7c0-a3a43a93ee92"
      },
      "source": [
        "print (x==1)"
      ],
      "execution_count": 52,
      "outputs": [
        {
          "output_type": "stream",
          "text": [
            "False\n"
          ],
          "name": "stdout"
        }
      ]
    },
    {
      "cell_type": "markdown",
      "metadata": {
        "id": "zSrb6i7a9nR1",
        "colab_type": "text"
      },
      "source": [
        "Functions and Lambda"
      ]
    },
    {
      "cell_type": "code",
      "metadata": {
        "id": "z41b7LpHyjFt",
        "colab_type": "code",
        "colab": {
          "base_uri": "https://localhost:8080/",
          "height": 52
        },
        "outputId": "1431d674-56e8-4e2a-ca2c-509b1e9b550f"
      },
      "source": [
        "import numpy as np\n",
        "def deg_rad(angle):\n",
        "  pi = 3.14\n",
        "  return np.round(angle*pi/180)\n",
        "\n",
        "print(deg_rad(360))\n",
        "\n",
        "deg_rad_inline=lambda angle,rotate:angle/360*22/7+rotate\n",
        "deg_rad_inline(30,deg_rad(90))"
      ],
      "execution_count": 71,
      "outputs": [
        {
          "output_type": "stream",
          "text": [
            "6.0\n",
            "2.261904761904762\n"
          ],
          "name": "stdout"
        }
      ]
    },
    {
      "cell_type": "code",
      "metadata": {
        "id": "3DezzdzM_6rO",
        "colab_type": "code",
        "colab": {}
      },
      "source": [
        ""
      ],
      "execution_count": 0,
      "outputs": []
    }
  ]
}